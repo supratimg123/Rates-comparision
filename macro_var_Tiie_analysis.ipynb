{
 "cells": [
  {
   "cell_type": "code",
   "execution_count": 162,
   "metadata": {},
   "outputs": [],
   "source": [
    "import pandas as pd\n",
    "import numpy as np\n",
    "import copy\n",
    "import datetime\n",
    "import matplotlib.pyplot as plt\n",
    "%matplotlib inline\n",
    "\n",
    "# Import Statsmodels\n",
    "import statsmodels.api as sm\n",
    "from statsmodels.tsa.api import VAR\n",
    "from statsmodels.tsa.stattools import adfuller\n",
    "from statsmodels.tools.eval_measures import rmse, aic"
   ]
  },
  {
   "cell_type": "code",
   "execution_count": 163,
   "metadata": {},
   "outputs": [
    {
     "data": {
      "text/html": [
       "<div>\n",
       "<style scoped>\n",
       "    .dataframe tbody tr th:only-of-type {\n",
       "        vertical-align: middle;\n",
       "    }\n",
       "\n",
       "    .dataframe tbody tr th {\n",
       "        vertical-align: top;\n",
       "    }\n",
       "\n",
       "    .dataframe thead th {\n",
       "        text-align: right;\n",
       "    }\n",
       "</style>\n",
       "<table border=\"1\" class=\"dataframe\">\n",
       "  <thead>\n",
       "    <tr style=\"text-align: right;\">\n",
       "      <th></th>\n",
       "      <th>TIIE monthly Avg</th>\n",
       "      <th>Inflation</th>\n",
       "      <th>Short term treasury interest rates</th>\n",
       "      <th>GDP</th>\n",
       "    </tr>\n",
       "    <tr>\n",
       "      <th>Date</th>\n",
       "      <th></th>\n",
       "      <th></th>\n",
       "      <th></th>\n",
       "      <th></th>\n",
       "    </tr>\n",
       "  </thead>\n",
       "  <tbody>\n",
       "    <tr>\n",
       "      <th>01.12.2020</th>\n",
       "      <td>4.485686</td>\n",
       "      <td>3.150074</td>\n",
       "      <td>4.27</td>\n",
       "      <td>6352256595000</td>\n",
       "    </tr>\n",
       "    <tr>\n",
       "      <th>01.01.2021</th>\n",
       "      <td>4.468395</td>\n",
       "      <td>3.535093</td>\n",
       "      <td>4.22</td>\n",
       "      <td>6477349057500</td>\n",
       "    </tr>\n",
       "    <tr>\n",
       "      <th>01.02.2021</th>\n",
       "      <td>4.367320</td>\n",
       "      <td>3.759040</td>\n",
       "      <td>4.12</td>\n",
       "      <td>6602441520000</td>\n",
       "    </tr>\n",
       "    <tr>\n",
       "      <th>01.03.2021</th>\n",
       "      <td>4.283383</td>\n",
       "      <td>4.666879</td>\n",
       "      <td>4.05</td>\n",
       "      <td>6727533982500</td>\n",
       "    </tr>\n",
       "    <tr>\n",
       "      <th>01.04.2021</th>\n",
       "      <td>4.287875</td>\n",
       "      <td>4.666879</td>\n",
       "      <td>4.05</td>\n",
       "      <td>6852626445000</td>\n",
       "    </tr>\n",
       "  </tbody>\n",
       "</table>\n",
       "</div>"
      ],
      "text/plain": [
       "            TIIE monthly Avg  Inflation  Short term treasury interest rates  \\\n",
       "Date                                                                          \n",
       "01.12.2020          4.485686   3.150074                                4.27   \n",
       "01.01.2021          4.468395   3.535093                                4.22   \n",
       "01.02.2021          4.367320   3.759040                                4.12   \n",
       "01.03.2021          4.283383   4.666879                                4.05   \n",
       "01.04.2021          4.287875   4.666879                                4.05   \n",
       "\n",
       "                      GDP  \n",
       "Date                       \n",
       "01.12.2020  6352256595000  \n",
       "01.01.2021  6477349057500  \n",
       "01.02.2021  6602441520000  \n",
       "01.03.2021  6727533982500  \n",
       "01.04.2021  6852626445000  "
      ]
     },
     "execution_count": 163,
     "metadata": {},
     "output_type": "execute_result"
    }
   ],
   "source": [
    "filepath = '/home/user/Desktop/env2/VAR/macro/macro_analysis_TIIE.xlsx'\n",
    "df = pd.read_excel(filepath)\n",
    "##########for the plot only\n",
    "# df1=df[[\"Date\",\"Libor 1M\",\"BGCR Repo rates\"]]\n",
    "# df1.dropna(inplace=True)\n",
    "# df1.index=df1['Date']\n",
    "# df1=df1.drop(['Date'],axis=1)\n",
    "##########upto this\n",
    "####### For further analysis\n",
    "df=df[[\"Date\",\"TIIE monthly Avg\",\"Inflation\",\"Short term treasury interest rates\",\"GDP\"]]\n",
    "# df=df[[\"Date\",\"Libor 1M\",\"BGCR Repo rates\"]]\n",
    "# df.dropna(inplace=True)\n",
    "df.index=df['Date']\n",
    "df=df.drop(['Date'],axis=1)\n",
    "df.tail()"
   ]
  },
  {
   "cell_type": "code",
   "execution_count": 113,
   "metadata": {},
   "outputs": [
    {
     "data": {
      "text/plain": [
       "Text(0.5, 1.0, 'PLOT OF TIIE MONTHLY AVERAGE AGAINST GDP')"
      ]
     },
     "execution_count": 113,
     "metadata": {},
     "output_type": "execute_result"
    },
    {
     "data": {
      "image/png": "[encoded data removed]",
      "text/plain": [
       "<Figure size 720x216 with 1 Axes>"
      ]
     },
     "metadata": {
      "needs_background": "light"
     },
     "output_type": "display_data"
    }
   ],
   "source": [
    "df_min_max_scaled = df.copy()\n",
    "#df1_min_max_scaled=df1.copy()\n",
    "# apply normalization techniques by Column 1\n",
    "columns=df_min_max_scaled.columns\n",
    "#columns1=df1_min_max_scaled.columns\n",
    "for col in columns:\n",
    "    df_min_max_scaled[col] = (df_min_max_scaled[col] - df_min_max_scaled[col].min()) / (df_min_max_scaled[col].max() - df_min_max_scaled[col].min())    \n",
    "# for col in columns1:\n",
    "#     df1_min_max_scaled[col] = (df1_min_max_scaled[col] - df1_min_max_scaled[col].min()) / (df1_min_max_scaled[col].max() - df1_min_max_scaled[col].min())    \n",
    "\n",
    "plt.rcParams[\"figure.figsize\"] = (10,3)\n",
    "df_min_max_scaled[\"TIIE monthly Avg\"].plot(color=\"maroon\",legend=True)\n",
    "df_min_max_scaled[\"GDP\"].plot(color=\"green\",legend=True)\n",
    "#df_min_max_scaled[\"Interest Rates\"].plot(color=\"cyan\",legend=True)\n",
    "#plt.xticks([1-1-2016,1-1-2021])\n",
    "plt.xlabel(\"Time\")\n",
    "plt.ylabel(\"value\")\n",
    "plt.title(\"PLOT OF TIIE MONTHLY AVERAGE AGAINST GDP\")\n",
    "    \n",
    "    \n",
    "    \n",
    "    \n",
    "# cols=list(df.columns)[1:]\n",
    "# cols1=list(df1.columns[1:])\n",
    "# view normalized data\n",
    "#display(df1_min_max_scaled)\n",
    "# plt.rcParams[\"figure.figsize\"] = (20,10)\n",
    "# fig, ax = plt.subplots(4,2)\n",
    "# plt.suptitle(\"PLOT OF DIFFERENT MACRO VARIABLES WITH LIBOR MONTHLY AVERAGE DATA\", fontsize=14)\n",
    "# fig.delaxes(ax[3,1])\n",
    "# c=0\n",
    "# for i in range(4):\n",
    "#     for j in range(2):\n",
    "#         if c<=len(cols)-1:\n",
    "#             ax[i,j].plot(df_min_max_scaled[\"Libor 1M\"])\n",
    "#             ax[i,j].plot(df_min_max_scaled[cols[c]])\n",
    "#             ax[i,j].legend([\"LIBOR 1M\",cols[c]])\n",
    "#             ax[i,j].set_xticks([\"01-03-2016\",\"01-03-2017\",\"01-03-2018\",\"01-03-2019\",\"01-03-2020\",\"01-03-2021\"])\n",
    "#             ax[i,j].set_xlabel(\"Time\")\n",
    "#             ax[i,j].set_ylabel(\"Value\")\n",
    "#             c=c+1\n",
    "#         else:\n",
    "#             ax[i,j].plot(df1_min_max_scaled[\"Libor 1M\"])\n",
    "#             ax[i,j].plot(df1_min_max_scaled[cols1])\n",
    "#             ax[i,j].legend([\"LIBOR 1M\",cols1])\n",
    "#             ax[i,j].set_xticks([\"01-04-2018\",\"01-03-2019\",\"01-03-2020\",\"01-03-2021\"])\n",
    "#             ax[i,j].set_xlabel(\"Time\")\n",
    "#             ax[i,j].set_ylabel(\"Value\")"
   ]
  },
  {
   "cell_type": "code",
   "execution_count": 164,
   "metadata": {},
   "outputs": [
    {
     "name": "stdout",
     "output_type": "stream",
     "text": [
      "Pearsons correlation: 0.454\n"
     ]
    }
   ],
   "source": [
    "from scipy.stats import pearsonr\n",
    "corr, _ = pearsonr(df[\"Inflation\"], df[\"TIIE monthly Avg\"])\n",
    "print('Pearsons correlation: %.3f' % corr)"
   ]
  },
  {
   "cell_type": "code",
   "execution_count": 165,
   "metadata": {},
   "outputs": [
    {
     "name": "stdout",
     "output_type": "stream",
     "text": [
      "Pearsons correlation: 0.998\n"
     ]
    }
   ],
   "source": [
    "from scipy.stats import pearsonr\n",
    "corr, _ = pearsonr(df[\"Short term treasury interest rates\"], df[\"TIIE monthly Avg\"])\n",
    "print('Pearsons correlation: %.3f' % corr)"
   ]
  },
  {
   "cell_type": "code",
   "execution_count": 166,
   "metadata": {},
   "outputs": [
    {
     "name": "stdout",
     "output_type": "stream",
     "text": [
      "Pearsons correlation: 0.351\n"
     ]
    }
   ],
   "source": [
    "from scipy.stats import pearsonr\n",
    "corr, _ = pearsonr(df[\"GDP\"], df[\"TIIE monthly Avg\"])\n",
    "print('Pearsons correlation: %.3f' % corr)"
   ]
  },
  {
   "cell_type": "code",
   "execution_count": 51,
   "metadata": {},
   "outputs": [
    {
     "data": {
      "text/html": [
       "<div>\n",
       "<style scoped>\n",
       "    .dataframe tbody tr th:only-of-type {\n",
       "        vertical-align: middle;\n",
       "    }\n",
       "\n",
       "    .dataframe tbody tr th {\n",
       "        vertical-align: top;\n",
       "    }\n",
       "\n",
       "    .dataframe thead th {\n",
       "        text-align: right;\n",
       "    }\n",
       "</style>\n",
       "<table border=\"1\" class=\"dataframe\">\n",
       "  <thead>\n",
       "    <tr style=\"text-align: right;\">\n",
       "      <th></th>\n",
       "      <th>TIIE monthly Avg</th>\n",
       "      <th>Inflation</th>\n",
       "      <th>Short term treasury interest rates</th>\n",
       "      <th>GDP</th>\n",
       "      <th>Inflation_lag3</th>\n",
       "    </tr>\n",
       "    <tr>\n",
       "      <th>Date</th>\n",
       "      <th></th>\n",
       "      <th></th>\n",
       "      <th></th>\n",
       "      <th></th>\n",
       "      <th></th>\n",
       "    </tr>\n",
       "  </thead>\n",
       "  <tbody>\n",
       "    <tr>\n",
       "      <th>01.09.2020</th>\n",
       "      <td>4.721455</td>\n",
       "      <td>4.013777</td>\n",
       "      <td>4.38</td>\n",
       "      <td>5976979207500</td>\n",
       "      <td>3.150074</td>\n",
       "    </tr>\n",
       "    <tr>\n",
       "      <th>01.10.2020</th>\n",
       "      <td>4.532459</td>\n",
       "      <td>4.086964</td>\n",
       "      <td>4.20</td>\n",
       "      <td>6102071670000</td>\n",
       "      <td>3.535093</td>\n",
       "    </tr>\n",
       "    <tr>\n",
       "      <th>01.11.2020</th>\n",
       "      <td>4.499148</td>\n",
       "      <td>3.331878</td>\n",
       "      <td>4.23</td>\n",
       "      <td>6227164132500</td>\n",
       "      <td>3.759040</td>\n",
       "    </tr>\n",
       "    <tr>\n",
       "      <th>01.12.2020</th>\n",
       "      <td>4.485686</td>\n",
       "      <td>3.150074</td>\n",
       "      <td>4.27</td>\n",
       "      <td>6352256595000</td>\n",
       "      <td>4.666879</td>\n",
       "    </tr>\n",
       "    <tr>\n",
       "      <th>01.01.2021</th>\n",
       "      <td>4.468395</td>\n",
       "      <td>3.535093</td>\n",
       "      <td>4.22</td>\n",
       "      <td>6477349057500</td>\n",
       "      <td>4.666879</td>\n",
       "    </tr>\n",
       "  </tbody>\n",
       "</table>\n",
       "</div>"
      ],
      "text/plain": [
       "            TIIE monthly Avg  Inflation  Short term treasury interest rates  \\\n",
       "Date                                                                          \n",
       "01.09.2020          4.721455   4.013777                                4.38   \n",
       "01.10.2020          4.532459   4.086964                                4.20   \n",
       "01.11.2020          4.499148   3.331878                                4.23   \n",
       "01.12.2020          4.485686   3.150074                                4.27   \n",
       "01.01.2021          4.468395   3.535093                                4.22   \n",
       "\n",
       "                      GDP  Inflation_lag3  \n",
       "Date                                       \n",
       "01.09.2020  5976979207500        3.150074  \n",
       "01.10.2020  6102071670000        3.535093  \n",
       "01.11.2020  6227164132500        3.759040  \n",
       "01.12.2020  6352256595000        4.666879  \n",
       "01.01.2021  6477349057500        4.666879  "
      ]
     },
     "execution_count": 51,
     "metadata": {},
     "output_type": "execute_result"
    }
   ],
   "source": [
    "#df[\"Inflation_lag1\"]=df[\"Inflation\"].shift(-1)\n",
    "#df[\"Inflation_lag2\"]=df[\"Inflation\"].shift(-2)\n",
    "df[\"Inflation_lag3\"]=df[\"Inflation\"].shift(-3)\n",
    "df.dropna(inplace=True)\n",
    "df.tail()"
   ]
  },
  {
   "cell_type": "code",
   "execution_count": 98,
   "metadata": {},
   "outputs": [
    {
     "data": {
      "text/plain": [
       "<matplotlib.axes._subplots.AxesSubplot at 0x7faed5bb50f0>"
      ]
     },
     "execution_count": 98,
     "metadata": {},
     "output_type": "execute_result"
    },
    {
     "data": {
      "image/png": "[encoded data removed]",
      "text/plain": [
       "<Figure size 720x216 with 1 Axes>"
      ]
     },
     "metadata": {
      "needs_background": "light"
     },
     "output_type": "display_data"
    }
   ],
   "source": [
    "#df[\"Short term treasury interest rates_lag1\"]=df[\"Short term treasury interest rates\"].shift(-1)\n",
    "#df[\"Short term treasury interest rates_lag2\"]=df[\"Short term treasury interest rates\"].shift(-2)\n",
    "df[\"Short term treasury interest rates_lag3\"]=df[\"Short term treasury interest rates\"].shift(-3)\n",
    "df.dropna(inplace=True)\n",
    "df.tail()"
   ]
  },
  {
   "cell_type": "code",
   "execution_count": 145,
   "metadata": {},
   "outputs": [
    {
     "data": {
      "text/plain": [
       "<matplotlib.axes._subplots.AxesSubplot at 0x7faed710e9b0>"
      ]
     },
     "execution_count": 145,
     "metadata": {},
     "output_type": "execute_result"
    },
    {
     "data": {
      "image/png": "[encoded data removed]",
      "text/plain": [
       "<Figure size 720x216 with 1 Axes>"
      ]
     },
     "metadata": {
      "needs_background": "light"
     },
     "output_type": "display_data"
    }
   ],
   "source": [
    "#df[\"GDP_lag1\"]=df[\"GDP\"].shift(-1)\n",
    "#df[\"GDP_lag2\"]=df[\"GDP\"].shift(-2)\n",
    "df[\"GDP_lag3\"]=df[\"GDP\"].shift(-3)\n",
    "df.dropna(inplace=True)\n",
    "df.tail()"
   ]
  },
  {
   "cell_type": "code",
   "execution_count": 146,
   "metadata": {},
   "outputs": [
    {
     "data": {
      "text/html": [
       "<div>\n",
       "<style scoped>\n",
       "    .dataframe tbody tr th:only-of-type {\n",
       "        vertical-align: middle;\n",
       "    }\n",
       "\n",
       "    .dataframe tbody tr th {\n",
       "        vertical-align: top;\n",
       "    }\n",
       "\n",
       "    .dataframe thead th {\n",
       "        text-align: right;\n",
       "    }\n",
       "</style>\n",
       "<table border=\"1\" class=\"dataframe\">\n",
       "  <thead>\n",
       "    <tr style=\"text-align: right;\">\n",
       "      <th></th>\n",
       "      <th>TIIE monthly Avg</th>\n",
       "      <th>GDP_lag3</th>\n",
       "    </tr>\n",
       "    <tr>\n",
       "      <th>Date</th>\n",
       "      <th></th>\n",
       "      <th></th>\n",
       "    </tr>\n",
       "  </thead>\n",
       "  <tbody>\n",
       "    <tr>\n",
       "      <th>01.09.2020</th>\n",
       "      <td>4.721455</td>\n",
       "      <td>6.352257e+12</td>\n",
       "    </tr>\n",
       "    <tr>\n",
       "      <th>01.10.2020</th>\n",
       "      <td>4.532459</td>\n",
       "      <td>6.477349e+12</td>\n",
       "    </tr>\n",
       "    <tr>\n",
       "      <th>01.11.2020</th>\n",
       "      <td>4.499148</td>\n",
       "      <td>6.602442e+12</td>\n",
       "    </tr>\n",
       "    <tr>\n",
       "      <th>01.12.2020</th>\n",
       "      <td>4.485686</td>\n",
       "      <td>6.727534e+12</td>\n",
       "    </tr>\n",
       "    <tr>\n",
       "      <th>01.01.2021</th>\n",
       "      <td>4.468395</td>\n",
       "      <td>6.852626e+12</td>\n",
       "    </tr>\n",
       "  </tbody>\n",
       "</table>\n",
       "</div>"
      ],
      "text/plain": [
       "            TIIE monthly Avg      GDP_lag3\n",
       "Date                                      \n",
       "01.09.2020          4.721455  6.352257e+12\n",
       "01.10.2020          4.532459  6.477349e+12\n",
       "01.11.2020          4.499148  6.602442e+12\n",
       "01.12.2020          4.485686  6.727534e+12\n",
       "01.01.2021          4.468395  6.852626e+12"
      ]
     },
     "execution_count": 146,
     "metadata": {},
     "output_type": "execute_result"
    }
   ],
   "source": [
    "# df=df[[\"Libor 1M\",\"Inflation\"]]\n",
    "df=df[[\"TIIE monthly Avg\",\"GDP_lag3\"]]\n",
    "df.tail()"
   ]
  },
  {
   "cell_type": "code",
   "execution_count": 147,
   "metadata": {},
   "outputs": [
    {
     "name": "stdout",
     "output_type": "stream",
     "text": [
      "[1.0, 1.0, 1.0, 1.0, 1.0, 1.0, 1.0, 1.0, 1.0, 1.0]\n",
      "[0.0276, 0.4823, 0.6108, 0.1253, 0.4268, 0.3221, 0.1985, 0.3057, 0.1907, 0.4634]\n",
      "[0.0219, 0.2431, 0.1077, 0.007, 0.0019, 0.0015, 0.0001, 0.0002, 0.0001, 0.0]\n",
      "[1.0, 1.0, 1.0, 1.0, 1.0, 1.0, 1.0, 1.0, 1.0, 1.0]\n"
     ]
    },
    {
     "name": "stderr",
     "output_type": "stream",
     "text": [
      "/home/user/Desktop/env2/lib/python3.6/site-packages/statsmodels/base/model.py:1832: ValueWarning: covariance of constraints does not have full rank. The number of constraints is 2, but rank is 1\n",
      "  'rank is %d' % (J, J_), ValueWarning)\n",
      "/home/user/Desktop/env2/lib/python3.6/site-packages/statsmodels/base/model.py:1832: ValueWarning: covariance of constraints does not have full rank. The number of constraints is 3, but rank is 1\n",
      "  'rank is %d' % (J, J_), ValueWarning)\n",
      "/home/user/Desktop/env2/lib/python3.6/site-packages/statsmodels/base/model.py:1832: ValueWarning: covariance of constraints does not have full rank. The number of constraints is 4, but rank is 1\n",
      "  'rank is %d' % (J, J_), ValueWarning)\n",
      "/home/user/Desktop/env2/lib/python3.6/site-packages/statsmodels/base/model.py:1832: ValueWarning: covariance of constraints does not have full rank. The number of constraints is 5, but rank is 1\n",
      "  'rank is %d' % (J, J_), ValueWarning)\n",
      "/home/user/Desktop/env2/lib/python3.6/site-packages/statsmodels/base/model.py:1832: ValueWarning: covariance of constraints does not have full rank. The number of constraints is 6, but rank is 1\n",
      "  'rank is %d' % (J, J_), ValueWarning)\n",
      "/home/user/Desktop/env2/lib/python3.6/site-packages/statsmodels/base/model.py:1832: ValueWarning: covariance of constraints does not have full rank. The number of constraints is 7, but rank is 1\n",
      "  'rank is %d' % (J, J_), ValueWarning)\n",
      "/home/user/Desktop/env2/lib/python3.6/site-packages/statsmodels/base/model.py:1832: ValueWarning: covariance of constraints does not have full rank. The number of constraints is 8, but rank is 1\n",
      "  'rank is %d' % (J, J_), ValueWarning)\n",
      "/home/user/Desktop/env2/lib/python3.6/site-packages/statsmodels/base/model.py:1832: ValueWarning: covariance of constraints does not have full rank. The number of constraints is 9, but rank is 1\n",
      "  'rank is %d' % (J, J_), ValueWarning)\n",
      "/home/user/Desktop/env2/lib/python3.6/site-packages/statsmodels/base/model.py:1832: ValueWarning: covariance of constraints does not have full rank. The number of constraints is 10, but rank is 1\n",
      "  'rank is %d' % (J, J_), ValueWarning)\n"
     ]
    },
    {
     "data": {
      "text/html": [
       "<div>\n",
       "<style scoped>\n",
       "    .dataframe tbody tr th:only-of-type {\n",
       "        vertical-align: middle;\n",
       "    }\n",
       "\n",
       "    .dataframe tbody tr th {\n",
       "        vertical-align: top;\n",
       "    }\n",
       "\n",
       "    .dataframe thead th {\n",
       "        text-align: right;\n",
       "    }\n",
       "</style>\n",
       "<table border=\"1\" class=\"dataframe\">\n",
       "  <thead>\n",
       "    <tr style=\"text-align: right;\">\n",
       "      <th></th>\n",
       "      <th>TIIE monthly Avg_x</th>\n",
       "      <th>GDP_lag3_x</th>\n",
       "    </tr>\n",
       "  </thead>\n",
       "  <tbody>\n",
       "    <tr>\n",
       "      <th>TIIE monthly Avg_y</th>\n",
       "      <td>1.0000</td>\n",
       "      <td>0.0</td>\n",
       "    </tr>\n",
       "    <tr>\n",
       "      <th>GDP_lag3_y</th>\n",
       "      <td>0.0276</td>\n",
       "      <td>1.0</td>\n",
       "    </tr>\n",
       "  </tbody>\n",
       "</table>\n",
       "</div>"
      ],
      "text/plain": [
       "                    TIIE monthly Avg_x  GDP_lag3_x\n",
       "TIIE monthly Avg_y              1.0000         0.0\n",
       "GDP_lag3_y                      0.0276         1.0"
      ]
     },
     "execution_count": 147,
     "metadata": {},
     "output_type": "execute_result"
    }
   ],
   "source": [
    "#GRANGER'S CAUSALITY TEST TO DETERMINE THE PRESENCE OF RELATIONSHIPS BETWEEN TIME SERIES.\n",
    "from statsmodels.tsa.stattools import grangercausalitytests\n",
    "maxlag=10\n",
    "test = 'ssr_chi2test'\n",
    "def grangers_causation_matrix(data, variables, test='ssr_chi2test', verbose=False):    \n",
    "    \"\"\"Check Granger Causality of all possible combinations of the Time series.\n",
    "    The rows are the response variable, columns are predictors. The values in the table \n",
    "    are the P-Values. P-Values lesser than the significance level (0.05), implies \n",
    "    the Null Hypothesis that the coefficients of the corresponding past values is \n",
    "    zero, that is, the X does not cause Y can be rejected.\n",
    "\n",
    "    data      : pandas dataframe containing the time series variables\n",
    "    variables : list containing names of the time series variables.\n",
    "    \"\"\"\n",
    "    df = pd.DataFrame(np.zeros((len(variables), len(variables))), columns=variables, index=variables)\n",
    "    for c in df.columns:\n",
    "        for r in df.index:\n",
    "            test_result = grangercausalitytests(data[[r, c]], maxlag=maxlag, verbose=False)\n",
    "            p_values = [round(test_result[i+1][0][test][1],4) for i in range(maxlag)]\n",
    "            print(p_values)\n",
    "            if verbose: print(f'Y = {r}, X = {c}, P Values = {p_values}')\n",
    "            min_p_value = np.min(p_values)\n",
    "            df.loc[r, c] = min_p_value\n",
    "    df.columns = [var + '_x' for var in variables]\n",
    "    df.index = [var + '_y' for var in variables]\n",
    "    return df\n",
    "\n",
    "grangers_causation_matrix(df, variables = df.columns) "
   ]
  },
  {
   "cell_type": "code",
   "execution_count": 148,
   "metadata": {},
   "outputs": [
    {
     "name": "stdout",
     "output_type": "stream",
     "text": [
      "6\n",
      "(55, 2)\n",
      "(6, 2)\n"
     ]
    }
   ],
   "source": [
    "#TRAIN-TEST SPLIT\n",
    "\n",
    "nobs = int(0.1*len(df))\n",
    "print(nobs)\n",
    "df_train, df_test = df.iloc[:-nobs,:], df.iloc[-nobs:,:]\n",
    "\n",
    "# Check size\n",
    "print(df_train.shape)  # (119, 8)\n",
    "print(df_test.shape)  # (4, 8)"
   ]
  },
  {
   "cell_type": "code",
   "execution_count": 149,
   "metadata": {},
   "outputs": [
    {
     "name": "stdout",
     "output_type": "stream",
     "text": [
      "    Augmented Dickey-Fuller Test on \"TIIE monthly Avg\" \n",
      "    -----------------------------------------------\n",
      " Null Hypothesis: Data has unit root. Non-Stationary.\n",
      " Significance Level    = 0.05\n",
      " Test Statistic        = 1.6715\n",
      " No. Lags Chosen       = 11\n",
      " Critical value 1%     = -3.593\n",
      " Critical value 5%     = -2.932\n",
      " Critical value 10%    = -2.604\n",
      " => P-Value = 0.9981. Weak evidence to reject the Null Hypothesis.\n",
      " => Series is Non-Stationary.\n",
      "\n",
      "\n",
      "    Augmented Dickey-Fuller Test on \"GDP_lag3\" \n",
      "    -----------------------------------------------\n",
      " Null Hypothesis: Data has unit root. Non-Stationary.\n",
      " Significance Level    = 0.05\n",
      " Test Statistic        = -1.872\n",
      " No. Lags Chosen       = 6\n",
      " Critical value 1%     = -3.575\n",
      " Critical value 5%     = -2.924\n",
      " Critical value 10%    = -2.6\n",
      " => P-Value = 0.3453. Weak evidence to reject the Null Hypothesis.\n",
      " => Series is Non-Stationary.\n",
      "\n",
      "\n"
     ]
    }
   ],
   "source": [
    "#AUGMENTED DICKEY-FULLER TEST FOR STATIONARITY\n",
    "\n",
    "def adfuller_test(series, signif=0.05, name='', verbose=False):\n",
    "    \"\"\"Perform ADFuller to test for Stationarity of given series and print report\"\"\"\n",
    "    r = adfuller(series, autolag='AIC')\n",
    "    output = {'test_statistic':round(r[0], 4), 'pvalue':round(r[1], 4), 'n_lags':round(r[2], 4), 'n_obs':r[3]}\n",
    "    p_value = output['pvalue'] \n",
    "    def adjust(val, length= 6): return str(val).ljust(length)\n",
    "\n",
    "    # Print Summary\n",
    "    print(f'    Augmented Dickey-Fuller Test on \"{name}\"', \"\\n   \", '-'*47)\n",
    "    print(f' Null Hypothesis: Data has unit root. Non-Stationary.')\n",
    "    print(f' Significance Level    = {signif}')\n",
    "    print(f' Test Statistic        = {output[\"test_statistic\"]}')\n",
    "    print(f' No. Lags Chosen       = {output[\"n_lags\"]}')\n",
    "\n",
    "    for key,val in r[4].items():\n",
    "        print(f' Critical value {adjust(key)} = {round(val, 3)}')\n",
    "\n",
    "    if p_value <= signif:\n",
    "        print(f\" => P-Value = {p_value}. Rejecting Null Hypothesis.\")\n",
    "        print(f\" => Series is Stationary.\")\n",
    "    else:\n",
    "        print(f\" => P-Value = {p_value}. Weak evidence to reject the Null Hypothesis.\")\n",
    "        print(f\" => Series is Non-Stationary.\")\n",
    "          \n",
    "# ADF Test on each column\n",
    "for name, column in df_train.iteritems():\n",
    "    adfuller_test(column, name=column.name)\n",
    "    print('\\n')"
   ]
  },
  {
   "cell_type": "code",
   "execution_count": 150,
   "metadata": {},
   "outputs": [
    {
     "name": "stdout",
     "output_type": "stream",
     "text": [
      "    Augmented Dickey-Fuller Test on \"TIIE monthly Avg\" \n",
      "    -----------------------------------------------\n",
      " Null Hypothesis: Data has unit root. Non-Stationary.\n",
      " Significance Level    = 0.05\n",
      " Test Statistic        = 0.9604\n",
      " No. Lags Chosen       = 10\n",
      " Critical value 1%     = -3.593\n",
      " Critical value 5%     = -2.932\n",
      " Critical value 10%    = -2.604\n",
      " => P-Value = 0.9938. Weak evidence to reject the Null Hypothesis.\n",
      " => Series is Non-Stationary.\n",
      "\n",
      "\n",
      "    Augmented Dickey-Fuller Test on \"GDP_lag3\" \n",
      "    -----------------------------------------------\n",
      " Null Hypothesis: Data has unit root. Non-Stationary.\n",
      " Significance Level    = 0.05\n",
      " Test Statistic        = -3.2287\n",
      " No. Lags Chosen       = 5\n",
      " Critical value 1%     = -3.575\n",
      " Critical value 5%     = -2.924\n",
      " Critical value 10%    = -2.6\n",
      " => P-Value = 0.0184. Rejecting Null Hypothesis.\n",
      " => Series is Stationary.\n",
      "\n",
      "\n"
     ]
    }
   ],
   "source": [
    "# 1st difference\n",
    "df_differenced = df_train.diff().dropna()\n",
    "df_diff=pd.DataFrame()\n",
    "columns=df_train.columns\n",
    "for col in columns:\n",
    "    \n",
    "    df_diff[str(col)+\"difference1\"]=df_train[str(col)].diff()\n",
    "# ADF Test on each column of 1st Differences Dataframe\n",
    "for name, column in df_differenced.iteritems():\n",
    "    adfuller_test(column, name=column.name)\n",
    "    print('\\n')"
   ]
  },
  {
   "cell_type": "code",
   "execution_count": 151,
   "metadata": {},
   "outputs": [
    {
     "name": "stdout",
     "output_type": "stream",
     "text": [
      "    Augmented Dickey-Fuller Test on \"TIIE monthly Avg\" \n",
      "    -----------------------------------------------\n",
      " Null Hypothesis: Data has unit root. Non-Stationary.\n",
      " Significance Level    = 0.05\n",
      " Test Statistic        = -3.4823\n",
      " No. Lags Chosen       = 5\n",
      " Critical value 1%     = -3.578\n",
      " Critical value 5%     = -2.925\n",
      " Critical value 10%    = -2.601\n",
      " => P-Value = 0.0085. Rejecting Null Hypothesis.\n",
      " => Series is Stationary.\n",
      "\n",
      "\n",
      "    Augmented Dickey-Fuller Test on \"GDP_lag3\" \n",
      "    -----------------------------------------------\n",
      " Null Hypothesis: Data has unit root. Non-Stationary.\n",
      " Significance Level    = 0.05\n",
      " Test Statistic        = -4.5396\n",
      " No. Lags Chosen       = 7\n",
      " Critical value 1%     = -3.585\n",
      " Critical value 5%     = -2.928\n",
      " Critical value 10%    = -2.602\n",
      " => P-Value = 0.0002. Rejecting Null Hypothesis.\n",
      " => Series is Stationary.\n",
      "\n",
      "\n"
     ]
    }
   ],
   "source": [
    "# 2nd difference\n",
    "df_differenced = df_differenced.diff().dropna()\n",
    "for col in columns:\n",
    "    \n",
    "    df_diff[str(col)+\"difference2\"]=df_diff[str(col)+\"difference1\"].diff()\n",
    "# df_diff[\"difference2\"]=df_diff[\"difference1\"].diff()\n",
    "# ADF Test on each column of 1st Differences Dataframe\n",
    "for name, column in df_differenced.iteritems():\n",
    "    adfuller_test(column, name=column.name)\n",
    "    print('\\n')"
   ]
  },
  {
   "cell_type": "code",
   "execution_count": 41,
   "metadata": {},
   "outputs": [
    {
     "name": "stdout",
     "output_type": "stream",
     "text": [
      "    Augmented Dickey-Fuller Test on \"TIIE monthly Avg\" \n",
      "    -----------------------------------------------\n",
      " Null Hypothesis: Data has unit root. Non-Stationary.\n",
      " Significance Level    = 0.05\n",
      " Test Statistic        = -5.5899\n",
      " No. Lags Chosen       = 4\n",
      " Critical value 1%     = -3.575\n",
      " Critical value 5%     = -2.924\n",
      " Critical value 10%    = -2.6\n",
      " => P-Value = 0.0. Rejecting Null Hypothesis.\n",
      " => Series is Stationary.\n",
      "\n",
      "\n",
      "    Augmented Dickey-Fuller Test on \"Inflation_lag2\" \n",
      "    -----------------------------------------------\n",
      " Null Hypothesis: Data has unit root. Non-Stationary.\n",
      " Significance Level    = 0.05\n",
      " Test Statistic        = -2.7822\n",
      " No. Lags Chosen       = 10\n",
      " Critical value 1%     = -3.597\n",
      " Critical value 5%     = -2.933\n",
      " Critical value 10%    = -2.605\n",
      " => P-Value = 0.0609. Weak evidence to reject the Null Hypothesis.\n",
      " => Series is Non-Stationary.\n",
      "\n",
      "\n"
     ]
    }
   ],
   "source": [
    "# 3rd difference\n",
    "df_differenced = df_differenced.diff().dropna()\n",
    "for col in columns:\n",
    "    \n",
    "    df_diff[str(col)+\"difference3\"]=df_diff[str(col)+\"difference2\"].diff()\n",
    "#df_diff[\"difference3\"]=df_diff[\"difference2\"].diff()\n",
    "# ADF Test on each column of 1st Differences Dataframe\n",
    "for name, column in df_differenced.iteritems():\n",
    "    adfuller_test(column, name=column.name)\n",
    "    print('\\n')"
   ]
  },
  {
   "cell_type": "code",
   "execution_count": 42,
   "metadata": {},
   "outputs": [
    {
     "name": "stdout",
     "output_type": "stream",
     "text": [
      "    Augmented Dickey-Fuller Test on \"TIIE monthly Avg\" \n",
      "    -----------------------------------------------\n",
      " Null Hypothesis: Data has unit root. Non-Stationary.\n",
      " Significance Level    = 0.05\n",
      " Test Statistic        = -6.3777\n",
      " No. Lags Chosen       = 7\n",
      " Critical value 1%     = -3.589\n",
      " Critical value 5%     = -2.93\n",
      " Critical value 10%    = -2.603\n",
      " => P-Value = 0.0. Rejecting Null Hypothesis.\n",
      " => Series is Stationary.\n",
      "\n",
      "\n",
      "    Augmented Dickey-Fuller Test on \"Inflation_lag2\" \n",
      "    -----------------------------------------------\n",
      " Null Hypothesis: Data has unit root. Non-Stationary.\n",
      " Significance Level    = 0.05\n",
      " Test Statistic        = -7.1727\n",
      " No. Lags Chosen       = 9\n",
      " Critical value 1%     = -3.597\n",
      " Critical value 5%     = -2.933\n",
      " Critical value 10%    = -2.605\n",
      " => P-Value = 0.0. Rejecting Null Hypothesis.\n",
      " => Series is Stationary.\n",
      "\n",
      "\n"
     ]
    }
   ],
   "source": [
    "# 4th difference\n",
    "df_differenced = df_differenced.diff().dropna()\n",
    "for col in columns:\n",
    "    \n",
    "    df_diff[str(col)+\"difference4\"]=df_diff[str(col)+\"difference3\"].diff()\n",
    "#df_diff[\"difference3\"]=df_diff[\"difference2\"].diff()\n",
    "# ADF Test on each column of 1st Differences Dataframe\n",
    "for name, column in df_differenced.iteritems():\n",
    "    adfuller_test(column, name=column.name)\n",
    "    print('\\n')"
   ]
  },
  {
   "cell_type": "code",
   "execution_count": 152,
   "metadata": {},
   "outputs": [
    {
     "name": "stderr",
     "output_type": "stream",
     "text": [
      "/home/user/Desktop/env2/lib/python3.6/site-packages/statsmodels/tsa/base/tsa_model.py:218: ValueWarning: A date index has been provided, but it has no associated frequency information and so will be ignored when e.g. forecasting.\n",
      "  ' ignored when e.g. forecasting.', ValueWarning)\n",
      "/home/user/Desktop/env2/lib/python3.6/site-packages/statsmodels/tsa/base/tsa_model.py:222: ValueWarning: A date index has been provided, but it is not monotonic and so will be ignored when e.g. forecasting.\n",
      "  ' forecasting.', ValueWarning)\n"
     ]
    }
   ],
   "source": [
    "#FIT THE VAR MODEL\n",
    "\n",
    "model = VAR(df_differenced)"
   ]
  },
  {
   "cell_type": "code",
   "execution_count": 153,
   "metadata": {},
   "outputs": [
    {
     "data": {
      "text/plain": [
       "  Summary of Regression Results   \n",
       "==================================\n",
       "Model:                         VAR\n",
       "Method:                        OLS\n",
       "Date:           Wed, 12, May, 2021\n",
       "Time:                     11:47:29\n",
       "--------------------------------------------------------------------\n",
       "No. of Equations:         2.00000    BIC:                    47.5868\n",
       "Nobs:                     50.0000    HQIC:                   47.2553\n",
       "Log likelihood:          -1304.18    FPE:                2.72750e+20\n",
       "AIC:                      47.0514    Det(Omega_mle):     2.09872e+20\n",
       "--------------------------------------------------------------------\n",
       "Results for equation TIIE monthly Avg\n",
       "======================================================================================\n",
       "                         coefficient       std. error           t-stat            prob\n",
       "--------------------------------------------------------------------------------------\n",
       "const                      -0.022124         0.018504           -1.196           0.232\n",
       "L1.TIIE monthly Avg        -0.625480         0.148375           -4.216           0.000\n",
       "L1.GDP_lag3                -0.000000         0.000000           -2.368           0.018\n",
       "L2.TIIE monthly Avg        -0.404597         0.150530           -2.688           0.007\n",
       "L2.GDP_lag3                -0.000000         0.000000           -2.691           0.007\n",
       "L3.TIIE monthly Avg        -0.200345         0.133245           -1.504           0.133\n",
       "L3.GDP_lag3                -0.000000         0.000000           -0.475           0.634\n",
       "======================================================================================\n",
       "\n",
       "Results for equation GDP_lag3\n",
       "==============================================================================================\n",
       "                             coefficient           std. error           t-stat            prob\n",
       "----------------------------------------------------------------------------------------------\n",
       "const                  5368301485.038548   16568963745.851864            0.324           0.746\n",
       "L1.TIIE monthly Avg  -56501348333.189987  132855757239.659470           -0.425           0.671\n",
       "L1.GDP_lag3                    -0.162251             0.126477           -1.283           0.200\n",
       "L2.TIIE monthly Avg  -93501410080.237228  134784657911.965729           -0.694           0.488\n",
       "L2.GDP_lag3                    -0.055476             0.137352           -0.404           0.686\n",
       "L3.TIIE monthly Avg   51200585922.931511  119307986554.238342            0.429           0.668\n",
       "L3.GDP_lag3                    -0.657120             0.149912           -4.383           0.000\n",
       "==============================================================================================\n",
       "\n",
       "Correlation matrix of residuals\n",
       "                    TIIE monthly Avg  GDP_lag3\n",
       "TIIE monthly Avg            1.000000  0.030970\n",
       "GDP_lag3                    0.030970  1.000000\n",
       "\n"
      ]
     },
     "execution_count": 153,
     "metadata": {},
     "output_type": "execute_result"
    }
   ],
   "source": [
    "#TRAINING THE MODEL\n",
    "\n",
    "model_fitted = model.fit(3)  #place the lag value as parameter\n",
    "model_fitted.summary()"
   ]
  },
  {
   "cell_type": "code",
   "execution_count": 154,
   "metadata": {},
   "outputs": [
    {
     "name": "stdout",
     "output_type": "stream",
     "text": [
      "3\n",
      "            TIIE monthly Avg      GDP_lag3\n",
      "Date                                      \n",
      "01.03.2016          0.136642  0.000000e+00\n",
      "01.04.2016         -0.319800  4.085326e+10\n",
      "01.05.2016          0.008580 -4.135125e+10\n",
      "01.06.2016          0.016702  0.000000e+00\n",
      "01.07.2016          0.431724  4.035528e+10\n",
      "01.08.2016         -0.427921 -5.023774e+10\n",
      "01.09.2016         -0.010787  0.000000e+00\n",
      "01.10.2016          0.478412  3.047283e+10\n",
      "01.11.2016         -0.278919 -4.344322e+10\n",
      "01.12.2016          0.252945  0.000000e+00\n",
      "01.01.2017         -0.143654  1.750244e+10\n",
      "01.02.2017         -0.032545 -2.282077e+10\n",
      "01.03.2017         -0.092848  0.000000e+00\n",
      "01.04.2017          0.034672  1.218411e+10\n",
      "01.05.2017         -0.133883  7.000626e+09\n",
      "01.06.2017          0.140698  0.000000e+00\n",
      "01.07.2017         -0.093276  3.136884e+10\n",
      "01.08.2017         -0.142015 -2.421701e+10\n",
      "01.09.2017         -0.008813  0.000000e+00\n",
      "01.10.2017          0.001901  3.852068e+10\n",
      "01.11.2017         -0.001921 -6.203696e+10\n",
      "01.12.2017          0.113464  0.000000e+00\n",
      "01.01.2018          0.028313  1.500440e+10\n",
      "01.02.2018         -0.002415 -8.088734e+09\n",
      "01.03.2018         -0.081635  0.000000e+00\n",
      "01.04.2018         -0.052255  2.192006e+10\n",
      "01.05.2018          0.003471 -2.665360e+10\n",
      "01.06.2018          0.068540  0.000000e+00\n",
      "01.07.2018          0.098017  1.718652e+10\n",
      "01.08.2018         -0.174332 -1.684880e+10\n",
      "01.09.2018          0.006295  0.000000e+00\n",
      "01.10.2018         -0.004244  1.752424e+10\n",
      "01.11.2018          0.118291 -1.944373e+10\n",
      "01.12.2018          0.044686  0.000000e+00\n",
      "01.01.2019          0.018600  1.560475e+10\n",
      "01.02.2019         -0.214303 -2.514312e+10\n",
      "01.03.2019         -0.015614  0.000000e+00\n",
      "01.04.2019          0.023536  6.066394e+09\n",
      "01.05.2019          0.029299 -2.091186e+10\n",
      "03.06.2019         -0.007067  0.000000e+00\n",
      "01.07.2019         -0.033515 -8.779077e+09\n",
      "01.08.2019         -0.073159  2.129880e+10\n",
      "01.09.2019         -0.066815  0.000000e+00\n",
      "01.10.2019         -0.026748  3.740648e+09\n",
      "01.11.2019          0.073915 -2.871659e+11\n",
      "01.12.2019         -0.049410  0.000000e+00\n",
      "01.01.2020          0.005682 -2.796846e+11\n",
      "01.02.2020          0.034523  7.697538e+11\n",
      "01.03.2020         -0.155707  0.000000e+00\n",
      "01.04.2020         -0.271681  2.103845e+11\n",
      "01.05.2020          0.000291 -3.582228e+11\n",
      "01.06.2020          0.213332  0.000000e+00\n",
      "01.07.2020         -0.055488  6.254623e+10\n"
     ]
    },
    {
     "data": {
      "text/plain": [
       "array([[ 2.91219650e-04, -3.58222834e+11],\n",
       "       [ 2.13331710e-01,  0.00000000e+00],\n",
       "       [-5.54876430e-02,  6.25462312e+10]])"
      ]
     },
     "execution_count": 154,
     "metadata": {},
     "output_type": "execute_result"
    }
   ],
   "source": [
    "# Get the lag order\n",
    "lag_order = model_fitted.k_ar\n",
    "print(lag_order)  #> 4\n",
    "\n",
    "# Input data for forecasting\n",
    "print(df_differenced)\n",
    "forecast_input = df_differenced.values[-lag_order:]\n",
    "forecast_input"
   ]
  },
  {
   "cell_type": "code",
   "execution_count": 155,
   "metadata": {},
   "outputs": [
    {
     "data": {
      "text/html": [
       "<div>\n",
       "<style scoped>\n",
       "    .dataframe tbody tr th:only-of-type {\n",
       "        vertical-align: middle;\n",
       "    }\n",
       "\n",
       "    .dataframe tbody tr th {\n",
       "        vertical-align: top;\n",
       "    }\n",
       "\n",
       "    .dataframe thead th {\n",
       "        text-align: right;\n",
       "    }\n",
       "</style>\n",
       "<table border=\"1\" class=\"dataframe\">\n",
       "  <thead>\n",
       "    <tr style=\"text-align: right;\">\n",
       "      <th></th>\n",
       "      <th>TIIE monthly Avg_2d</th>\n",
       "      <th>GDP_lag3_2d</th>\n",
       "    </tr>\n",
       "    <tr>\n",
       "      <th>Date</th>\n",
       "      <th></th>\n",
       "      <th></th>\n",
       "    </tr>\n",
       "  </thead>\n",
       "  <tbody>\n",
       "    <tr>\n",
       "      <th>01.08.2020</th>\n",
       "      <td>-0.066192</td>\n",
       "      <td>2.138186e+11</td>\n",
       "    </tr>\n",
       "    <tr>\n",
       "      <th>01.09.2020</th>\n",
       "      <td>-0.098345</td>\n",
       "      <td>-1.294308e+10</td>\n",
       "    </tr>\n",
       "    <tr>\n",
       "      <th>01.10.2020</th>\n",
       "      <td>-0.011640</td>\n",
       "      <td>-3.658916e+10</td>\n",
       "    </tr>\n",
       "    <tr>\n",
       "      <th>01.11.2020</th>\n",
       "      <td>0.038768</td>\n",
       "      <td>-1.220175e+11</td>\n",
       "    </tr>\n",
       "    <tr>\n",
       "      <th>01.12.2020</th>\n",
       "      <td>0.034984</td>\n",
       "      <td>2.956343e+10</td>\n",
       "    </tr>\n",
       "    <tr>\n",
       "      <th>01.01.2021</th>\n",
       "      <td>-0.013958</td>\n",
       "      <td>2.518654e+10</td>\n",
       "    </tr>\n",
       "  </tbody>\n",
       "</table>\n",
       "</div>"
      ],
      "text/plain": [
       "            TIIE monthly Avg_2d   GDP_lag3_2d\n",
       "Date                                         \n",
       "01.08.2020            -0.066192  2.138186e+11\n",
       "01.09.2020            -0.098345 -1.294308e+10\n",
       "01.10.2020            -0.011640 -3.658916e+10\n",
       "01.11.2020             0.038768 -1.220175e+11\n",
       "01.12.2020             0.034984  2.956343e+10\n",
       "01.01.2021            -0.013958  2.518654e+10"
      ]
     },
     "execution_count": 155,
     "metadata": {},
     "output_type": "execute_result"
    }
   ],
   "source": [
    "# Forecast\n",
    "od=2  #order of difference to make it stationary\n",
    "fc = model_fitted.forecast(y=forecast_input, steps=nobs)\n",
    "df_forecast = pd.DataFrame(fc, index=df.index[-nobs:], columns=df.columns + '_'+str(od)+'d')\n",
    "df_forecast"
   ]
  },
  {
   "cell_type": "code",
   "execution_count": 156,
   "metadata": {},
   "outputs": [
    {
     "name": "stdout",
     "output_type": "stream",
     "text": [
      "            TIIE monthly Avg_2d  TIIE monthly Avg_1d  \\\n",
      "Date                                                   \n",
      "01.08.2020            -0.066192            -0.469712   \n",
      "01.09.2020            -0.098345            -0.568056   \n",
      "01.10.2020            -0.011640            -0.579697   \n",
      "01.11.2020             0.038768            -0.540929   \n",
      "01.12.2020             0.034984            -0.505945   \n",
      "01.01.2021            -0.013958            -0.519902   \n",
      "\n",
      "            TIIE monthly Avg forecast  GDP_lag3 forecast  \n",
      "Date                                                      \n",
      "01.08.2020                   4.761758       6.440983e+12  \n",
      "01.09.2020                   4.193702       6.766951e+12  \n",
      "01.10.2020                   3.614005       7.056330e+12  \n",
      "01.11.2020                   3.073077       7.223691e+12  \n",
      "01.12.2020                   2.567132       7.420616e+12  \n",
      "01.01.2021                   2.047230       7.642727e+12  \n"
     ]
    }
   ],
   "source": [
    "#INVERT TRANSFORMATION TO GET REAL FORECAST\n",
    "def invert(ori,diff_data):\n",
    "    last_val=ori[-1]\n",
    "    data=[]\n",
    "    for idx,i in enumerate(diff_data):\n",
    "        #print(idx,i+last_val)\n",
    "        last_val+=i\n",
    "        data.append(last_val)\n",
    "    #print(len(data))\n",
    "    return data\n",
    "\n",
    "def invert_transformation(df_train, df_forecast,df_diff, difference):\n",
    "    \"\"\"Revert back the differencing to get the forecast to original scale.\"\"\"\n",
    "    df_fc = df_forecast.copy()\n",
    "    columns = df_train.columns\n",
    "    for col in columns:\n",
    "        if difference==4:\n",
    "            df_fc[str(col)+\"_3d\"]=invert(list(df_diff[str(col)+\"difference3\"].values),list(df_fc[str(col)+\"_4d\"].values))\n",
    "            df_fc[str(col)+\"_2d\"]=invert(list(df_diff[str(col)+\"difference2\"].values),list(df_fc[str(col)+\"_3d\"].values))\n",
    "            df_fc[str(col)+\"_1d\"]=invert(list(df_diff[str(col)+\"difference1\"].values),list(df_fc[str(col)+\"_2d\"].values))\n",
    "            df_fc[str(col)+\" forecast\"]=invert(list(df_train[str(col)].values),list(df_fc[str(col)+\"_1d\"].values)) \n",
    "        if difference==3:\n",
    "            df_fc[str(col)+\"_2d\"]=invert(list(df_diff[str(col)+\"difference2\"].values),list(df_fc[str(col)+\"_3d\"].values))\n",
    "            df_fc[str(col)+\"_1d\"]=invert(list(df_diff[str(col)+\"difference1\"].values),list(df_fc[str(col)+\"_2d\"].values))\n",
    "            df_fc[str(col)+\" forecast\"]=invert(list(df_train[str(col)].values),list(df_fc[str(col)+\"_1d\"].values)) \n",
    "        # Roll back 2nd Diff\n",
    "        if difference==2:\n",
    "            df_fc[str(col)+'_1d'] = (df_train[col].iloc[-1]-df_train[col].iloc[-2]) + df_fc[str(col)+'_2d'].cumsum()\n",
    "            # Roll back 1st Diff\n",
    "            df_fc[str(col)+' forecast'] = df_train[col].iloc[-1] + df_fc[str(col)+'_1d'].cumsum()\n",
    "        elif difference==1:\n",
    "            df_fc[str(col)+' forecast'] = df_train[col].iloc[-1] + df_fc[str(col)+'_1d'].cumsum()\n",
    "        elif difference==0:\n",
    "            df_fc[str(col)+' forecast']=df_fc[str(col)+'_0d']\n",
    "    return df_fc\n",
    "\n",
    "\n",
    "\n",
    "df_results_all = invert_transformation(df_train, df_forecast,df_diff, od)\n",
    "df_results=copy.deepcopy(df_results_all)\n",
    "columns=df_results_all.columns\n",
    "for col in columns:\n",
    "    if len(col.split())==1:\n",
    "        df_results.drop(col,axis=1,inplace=True)\n",
    "print(df_results)\n",
    "# df_results.loc[:, ['rgnp_forecast', 'pgnp_forecast', 'ulc_forecast', 'gdfco_forecast',\n",
    "#                    'gdf_forecast', 'gdfim_forecast', 'gdfcf_forecast', 'gdfce_forecast']]"
   ]
  },
  {
   "cell_type": "code",
   "execution_count": 157,
   "metadata": {},
   "outputs": [
    {
     "data": {
      "image/png": "[encoded data removed]",
      "text/plain": [
       "<Figure size 1500x1500 with 2 Axes>"
      ]
     },
     "metadata": {
      "needs_background": "light"
     },
     "output_type": "display_data"
    }
   ],
   "source": [
    "#PLOT OF ACTUAL VS FORECAST\n",
    "\n",
    "fig, axes = plt.subplots(nrows=int(len(df.columns)/2), ncols=2, dpi=150, figsize=(10,10))\n",
    "for i, (col,ax) in enumerate(zip(df.columns, axes.flatten())):\n",
    "    df_results[col+' forecast'].plot(legend=True, ax=ax).autoscale(axis='x',tight=True)\n",
    "    df_test[col][-nobs:].plot(legend=True, ax=ax);\n",
    "    ax.set_title(col + \": Forecast vs Actuals\")\n",
    "    ax.xaxis.set_ticks_position('none')\n",
    "    ax.yaxis.set_ticks_position('none')\n",
    "    ax.spines[\"top\"].set_alpha(0)\n",
    "    ax.tick_params(labelsize=6)\n",
    "\n",
    "plt.tight_layout();"
   ]
  },
  {
   "cell_type": "code",
   "execution_count": 158,
   "metadata": {},
   "outputs": [
    {
     "name": "stdout",
     "output_type": "stream",
     "text": [
      "Forecast Accuracy of: TIIE monthly Avg\n",
      "rmse :  1.4572\n",
      "Forecast Accuracy of: GDP_lag3\n",
      "rmse :  583592358261.8081\n"
     ]
    }
   ],
   "source": [
    "from statsmodels.tsa.stattools import acf\n",
    "def forecast_accuracy(forecast, actual):\n",
    "    \n",
    "    rmse = np.mean((forecast - actual)**2)**.5  # RMSE\n",
    "    return({'rmse':rmse})\n",
    "columns=df_train.columns\n",
    "for col in columns:\n",
    "    print('Forecast Accuracy of: '+str(col))\n",
    "    accuracy_prod = forecast_accuracy(df_results[str(col)+' forecast'].values, df_test[str(col)])\n",
    "    for k, v in accuracy_prod.items():\n",
    "        print(k, ': ', round(v,4))\n"
   ]
  },
  {
   "cell_type": "code",
   "execution_count": null,
   "metadata": {},
   "outputs": [],
   "source": []
  }
 ],
 "metadata": {
  "kernelspec": {
   "display_name": "Python 3",
   "language": "python",
   "name": "python3"
  },
  "language_info": {
   "codemirror_mode": {
    "name": "ipython",
    "version": 3
   },
   "file_extension": ".py",
   "mimetype": "text/x-python",
   "name": "python",
   "nbconvert_exporter": "python",
   "pygments_lexer": "ipython3",
   "version": "3.6.9"
  }
 },
 "nbformat": 4,
 "nbformat_minor": 2
}
