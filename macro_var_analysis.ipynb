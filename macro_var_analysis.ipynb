{
 "cells": [
  {
   "cell_type": "code",
   "execution_count": 1,
   "metadata": {},
   "outputs": [],
   "source": [
    "import pandas as pd\n",
    "import numpy as np\n",
    "import copy\n",
    "import matplotlib.pyplot as plt\n",
    "%matplotlib inline\n",
    "\n",
    "# Import Statsmodels\n",
    "import statsmodels.api as sm\n",
    "from statsmodels.tsa.api import VAR\n",
    "from statsmodels.tsa.stattools import adfuller\n",
    "from statsmodels.tools.eval_measures import rmse, aic"
   ]
  },
  {
   "cell_type": "code",
   "execution_count": 66,
   "metadata": {},
   "outputs": [
    {
     "data": {
      "text/html": [
       "<div>\n",
       "<style scoped>\n",
       "    .dataframe tbody tr th:only-of-type {\n",
       "        vertical-align: middle;\n",
       "    }\n",
       "\n",
       "    .dataframe tbody tr th {\n",
       "        vertical-align: top;\n",
       "    }\n",
       "\n",
       "    .dataframe thead th {\n",
       "        text-align: right;\n",
       "    }\n",
       "</style>\n",
       "<table border=\"1\" class=\"dataframe\">\n",
       "  <thead>\n",
       "    <tr style=\"text-align: right;\">\n",
       "      <th></th>\n",
       "      <th>Libor 1M</th>\n",
       "      <th>Interest Rates</th>\n",
       "      <th>Inflation</th>\n",
       "    </tr>\n",
       "    <tr>\n",
       "      <th>Date</th>\n",
       "      <th></th>\n",
       "      <th></th>\n",
       "      <th></th>\n",
       "    </tr>\n",
       "  </thead>\n",
       "  <tbody>\n",
       "    <tr>\n",
       "      <th>01-12-2020</th>\n",
       "      <td>0.08050</td>\n",
       "      <td>0.25</td>\n",
       "      <td>1.36</td>\n",
       "    </tr>\n",
       "    <tr>\n",
       "      <th>01-01-2021</th>\n",
       "      <td>0.08463</td>\n",
       "      <td>0.25</td>\n",
       "      <td>1.40</td>\n",
       "    </tr>\n",
       "    <tr>\n",
       "      <th>01-02-2021</th>\n",
       "      <td>0.07925</td>\n",
       "      <td>0.25</td>\n",
       "      <td>1.68</td>\n",
       "    </tr>\n",
       "    <tr>\n",
       "      <th>01-03-2021</th>\n",
       "      <td>0.07950</td>\n",
       "      <td>0.25</td>\n",
       "      <td>2.62</td>\n",
       "    </tr>\n",
       "    <tr>\n",
       "      <th>01-04-2021</th>\n",
       "      <td>0.07475</td>\n",
       "      <td>0.25</td>\n",
       "      <td>3.48</td>\n",
       "    </tr>\n",
       "  </tbody>\n",
       "</table>\n",
       "</div>"
      ],
      "text/plain": [
       "            Libor 1M  Interest Rates  Inflation\n",
       "Date                                           \n",
       "01-12-2020   0.08050            0.25       1.36\n",
       "01-01-2021   0.08463            0.25       1.40\n",
       "01-02-2021   0.07925            0.25       1.68\n",
       "01-03-2021   0.07950            0.25       2.62\n",
       "01-04-2021   0.07475            0.25       3.48"
      ]
     },
     "execution_count": 66,
     "metadata": {},
     "output_type": "execute_result"
    }
   ],
   "source": [
    "filepath = '/home/user/Desktop/env2/VAR/macro/macro_analysis.xlsx'\n",
    "df = pd.read_excel(filepath,lineterminator='\\n')\n",
    "df=df[[\"Date\",\"Libor 1M\",\"Interest Rates\",\"Inflation\"]]\n",
    "df.index=df['Date']\n",
    "df=df.drop(['Date'],axis=1)\n",
    "df.tail()"
   ]
  },
  {
   "cell_type": "code",
   "execution_count": 67,
   "metadata": {},
   "outputs": [
    {
     "data": {
      "text/html": [
       "<div>\n",
       "<style scoped>\n",
       "    .dataframe tbody tr th:only-of-type {\n",
       "        vertical-align: middle;\n",
       "    }\n",
       "\n",
       "    .dataframe tbody tr th {\n",
       "        vertical-align: top;\n",
       "    }\n",
       "\n",
       "    .dataframe thead th {\n",
       "        text-align: right;\n",
       "    }\n",
       "</style>\n",
       "<table border=\"1\" class=\"dataframe\">\n",
       "  <thead>\n",
       "    <tr style=\"text-align: right;\">\n",
       "      <th></th>\n",
       "      <th>Libor 1M</th>\n",
       "      <th>Interest Rates</th>\n",
       "      <th>Inflation</th>\n",
       "      <th>Inflation_lag3</th>\n",
       "    </tr>\n",
       "    <tr>\n",
       "      <th>Date</th>\n",
       "      <th></th>\n",
       "      <th></th>\n",
       "      <th></th>\n",
       "      <th></th>\n",
       "    </tr>\n",
       "  </thead>\n",
       "  <tbody>\n",
       "    <tr>\n",
       "      <th>01-09-2020</th>\n",
       "      <td>0.08125</td>\n",
       "      <td>0.25</td>\n",
       "      <td>1.37</td>\n",
       "      <td>1.36</td>\n",
       "    </tr>\n",
       "    <tr>\n",
       "      <th>01-10-2020</th>\n",
       "      <td>0.08175</td>\n",
       "      <td>0.25</td>\n",
       "      <td>1.16</td>\n",
       "      <td>1.40</td>\n",
       "    </tr>\n",
       "    <tr>\n",
       "      <th>01-11-2020</th>\n",
       "      <td>0.08113</td>\n",
       "      <td>0.25</td>\n",
       "      <td>1.17</td>\n",
       "      <td>1.68</td>\n",
       "    </tr>\n",
       "    <tr>\n",
       "      <th>01-12-2020</th>\n",
       "      <td>0.08050</td>\n",
       "      <td>0.25</td>\n",
       "      <td>1.36</td>\n",
       "      <td>2.62</td>\n",
       "    </tr>\n",
       "    <tr>\n",
       "      <th>01-01-2021</th>\n",
       "      <td>0.08463</td>\n",
       "      <td>0.25</td>\n",
       "      <td>1.40</td>\n",
       "      <td>3.48</td>\n",
       "    </tr>\n",
       "  </tbody>\n",
       "</table>\n",
       "</div>"
      ],
      "text/plain": [
       "            Libor 1M  Interest Rates  Inflation  Inflation_lag3\n",
       "Date                                                           \n",
       "01-09-2020   0.08125            0.25       1.37            1.36\n",
       "01-10-2020   0.08175            0.25       1.16            1.40\n",
       "01-11-2020   0.08113            0.25       1.17            1.68\n",
       "01-12-2020   0.08050            0.25       1.36            2.62\n",
       "01-01-2021   0.08463            0.25       1.40            3.48"
      ]
     },
     "execution_count": 67,
     "metadata": {},
     "output_type": "execute_result"
    }
   ],
   "source": [
    "#df[\"Inflation_lag1\"]=df[\"Inflation\"].shift(-1)\n",
    "#df[\"Inflation_lag2\"]=df[\"Inflation\"].shift(-2)\n",
    "df[\"Inflation_lag3\"]=df[\"Inflation\"].shift(-3)\n",
    "df.dropna(inplace=True)\n",
    "df.tail()"
   ]
  },
  {
   "cell_type": "code",
   "execution_count": 33,
   "metadata": {},
   "outputs": [
    {
     "name": "stdout",
     "output_type": "stream",
     "text": [
      "Pearsons correlation: 0.434\n"
     ]
    }
   ],
   "source": [
    "from scipy.stats import pearsonr\n",
    "corr, _ = pearsonr(df[\"Inflation\"], df[\"Libor 1M\"])\n",
    "print('Pearsons correlation: %.3f' % corr)"
   ]
  },
  {
   "cell_type": "code",
   "execution_count": 23,
   "metadata": {},
   "outputs": [
    {
     "data": {
      "text/plain": [
       "Text(0.5, 1.0, 'PLOT OF LIBOR AGAINST MACRO VARIABLES')"
      ]
     },
     "execution_count": 23,
     "metadata": {},
     "output_type": "execute_result"
    },
    {
     "data": {
      "image/png": "[encoded data removed]",
      "text/plain": [
       "<Figure size 1440x216 with 1 Axes>"
      ]
     },
     "metadata": {
      "needs_background": "light"
     },
     "output_type": "display_data"
    }
   ],
   "source": [
    "plt.rcParams[\"figure.figsize\"] = (20,3)\n",
    "df[\"Libor 1M\"].plot(color=\"red\",legend=True)\n",
    "df[\"Inflation\"].plot(color=\"olive\",legend=True)\n",
    "df[\"Interest Rates\"].plot(color=\"cyan\",legend=True)\n",
    "plt.xlabel(\"Time\")\n",
    "plt.ylabel(\"value\")\n",
    "plt.title(\"PLOT OF LIBOR AGAINST MACRO VARIABLES\")"
   ]
  },
  {
   "cell_type": "code",
   "execution_count": 24,
   "metadata": {},
   "outputs": [
    {
     "name": "stdout",
     "output_type": "stream",
     "text": [
      "Pearsons correlation: 0.913\n"
     ]
    }
   ],
   "source": [
    "from scipy.stats import pearsonr\n",
    "corr, _ = pearsonr(df[\"Interest Rates\"], df[\"Libor 1M\"])\n",
    "print('Pearsons correlation: %.3f' % corr)"
   ]
  },
  {
   "cell_type": "code",
   "execution_count": 34,
   "metadata": {},
   "outputs": [
    {
     "name": "stdout",
     "output_type": "stream",
     "text": [
      "Pearsons correlation: 0.434\n"
     ]
    }
   ],
   "source": [
    "from scipy.stats import pearsonr\n",
    "corr, _ = pearsonr(df[\"Inflation\"], df[\"Libor 1M\"])\n",
    "print('Pearsons correlation: %.3f' % corr)"
   ]
  },
  {
   "cell_type": "code",
   "execution_count": 68,
   "metadata": {},
   "outputs": [
    {
     "data": {
      "text/html": [
       "<div>\n",
       "<style scoped>\n",
       "    .dataframe tbody tr th:only-of-type {\n",
       "        vertical-align: middle;\n",
       "    }\n",
       "\n",
       "    .dataframe tbody tr th {\n",
       "        vertical-align: top;\n",
       "    }\n",
       "\n",
       "    .dataframe thead th {\n",
       "        text-align: right;\n",
       "    }\n",
       "</style>\n",
       "<table border=\"1\" class=\"dataframe\">\n",
       "  <thead>\n",
       "    <tr style=\"text-align: right;\">\n",
       "      <th></th>\n",
       "      <th>Libor 1M</th>\n",
       "      <th>Inflation_lag3</th>\n",
       "    </tr>\n",
       "    <tr>\n",
       "      <th>Date</th>\n",
       "      <th></th>\n",
       "      <th></th>\n",
       "    </tr>\n",
       "  </thead>\n",
       "  <tbody>\n",
       "    <tr>\n",
       "      <th>01-09-2020</th>\n",
       "      <td>0.08125</td>\n",
       "      <td>1.36</td>\n",
       "    </tr>\n",
       "    <tr>\n",
       "      <th>01-10-2020</th>\n",
       "      <td>0.08175</td>\n",
       "      <td>1.40</td>\n",
       "    </tr>\n",
       "    <tr>\n",
       "      <th>01-11-2020</th>\n",
       "      <td>0.08113</td>\n",
       "      <td>1.68</td>\n",
       "    </tr>\n",
       "    <tr>\n",
       "      <th>01-12-2020</th>\n",
       "      <td>0.08050</td>\n",
       "      <td>2.62</td>\n",
       "    </tr>\n",
       "    <tr>\n",
       "      <th>01-01-2021</th>\n",
       "      <td>0.08463</td>\n",
       "      <td>3.48</td>\n",
       "    </tr>\n",
       "  </tbody>\n",
       "</table>\n",
       "</div>"
      ],
      "text/plain": [
       "            Libor 1M  Inflation_lag3\n",
       "Date                                \n",
       "01-09-2020   0.08125            1.36\n",
       "01-10-2020   0.08175            1.40\n",
       "01-11-2020   0.08113            1.68\n",
       "01-12-2020   0.08050            2.62\n",
       "01-01-2021   0.08463            3.48"
      ]
     },
     "execution_count": 68,
     "metadata": {},
     "output_type": "execute_result"
    }
   ],
   "source": [
    "# df=df[[\"Libor 1M\",\"Inflation\"]]\n",
    "df=df[[\"Libor 1M\",\"Inflation_lag3\"]]\n",
    "df.tail()"
   ]
  },
  {
   "cell_type": "code",
   "execution_count": 69,
   "metadata": {},
   "outputs": [
    {
     "data": {
      "text/html": [
       "<div>\n",
       "<style scoped>\n",
       "    .dataframe tbody tr th:only-of-type {\n",
       "        vertical-align: middle;\n",
       "    }\n",
       "\n",
       "    .dataframe tbody tr th {\n",
       "        vertical-align: top;\n",
       "    }\n",
       "\n",
       "    .dataframe thead th {\n",
       "        text-align: right;\n",
       "    }\n",
       "</style>\n",
       "<table border=\"1\" class=\"dataframe\">\n",
       "  <thead>\n",
       "    <tr style=\"text-align: right;\">\n",
       "      <th></th>\n",
       "      <th>Libor 1M_x</th>\n",
       "      <th>Inflation_lag3_x</th>\n",
       "    </tr>\n",
       "  </thead>\n",
       "  <tbody>\n",
       "    <tr>\n",
       "      <th>Libor 1M_y</th>\n",
       "      <td>1.0000</td>\n",
       "      <td>0.0</td>\n",
       "    </tr>\n",
       "    <tr>\n",
       "      <th>Inflation_lag3_y</th>\n",
       "      <td>0.0059</td>\n",
       "      <td>1.0</td>\n",
       "    </tr>\n",
       "  </tbody>\n",
       "</table>\n",
       "</div>"
      ],
      "text/plain": [
       "                  Libor 1M_x  Inflation_lag3_x\n",
       "Libor 1M_y            1.0000               0.0\n",
       "Inflation_lag3_y      0.0059               1.0"
      ]
     },
     "execution_count": 69,
     "metadata": {},
     "output_type": "execute_result"
    }
   ],
   "source": [
    "#GRANGER'S CAUSALITY TEST TO DETERMINE THE PRESENCE OF RELATIONSHIPS BETWEEN TIME SERIES.\n",
    "from statsmodels.tsa.stattools import grangercausalitytests\n",
    "maxlag=12\n",
    "test = 'ssr_chi2test'\n",
    "def grangers_causation_matrix(data, variables, test='ssr_chi2test', verbose=False):    \n",
    "    \"\"\"Check Granger Causality of all possible combinations of the Time series.\n",
    "    The rows are the response variable, columns are predictors. The values in the table \n",
    "    are the P-Values. P-Values lesser than the significance level (0.05), implies \n",
    "    the Null Hypothesis that the coefficients of the corresponding past values is \n",
    "    zero, that is, the X does not cause Y can be rejected.\n",
    "\n",
    "    data      : pandas dataframe containing the time series variables\n",
    "    variables : list containing names of the time series variables.\n",
    "    \"\"\"\n",
    "    df = pd.DataFrame(np.zeros((len(variables), len(variables))), columns=variables, index=variables)\n",
    "    for c in df.columns:\n",
    "        for r in df.index:\n",
    "            test_result = grangercausalitytests(data[[r, c]], maxlag=maxlag, verbose=False)\n",
    "            p_values = [round(test_result[i+1][0][test][1],4) for i in range(maxlag)]\n",
    "            if verbose: print(f'Y = {r}, X = {c}, P Values = {p_values}')\n",
    "            min_p_value = np.min(p_values)\n",
    "            df.loc[r, c] = min_p_value\n",
    "    df.columns = [var + '_x' for var in variables]\n",
    "    df.index = [var + '_y' for var in variables]\n",
    "    return df\n",
    "\n",
    "grangers_causation_matrix(df, variables = df.columns) "
   ]
  },
  {
   "cell_type": "code",
   "execution_count": 37,
   "metadata": {},
   "outputs": [
    {
     "name": "stdout",
     "output_type": "stream",
     "text": [
      "6\n",
      "(56, 2)\n",
      "(6, 2)\n"
     ]
    }
   ],
   "source": [
    "#TRAIN-TEST SPLIT\n",
    "\n",
    "nobs = int(0.1*len(df))\n",
    "print(nobs)\n",
    "df_train, df_test = df.iloc[:-nobs,:], df.iloc[-nobs:,:]\n",
    "\n",
    "# Check size\n",
    "print(df_train.shape)  # (119, 8)\n",
    "print(df_test.shape)  # (4, 8)"
   ]
  },
  {
   "cell_type": "code",
   "execution_count": 38,
   "metadata": {},
   "outputs": [
    {
     "name": "stdout",
     "output_type": "stream",
     "text": [
      "    Augmented Dickey-Fuller Test on \"Libor 1M\" \n",
      "    -----------------------------------------------\n",
      " Null Hypothesis: Data has unit root. Non-Stationary.\n",
      " Significance Level    = 0.05\n",
      " Test Statistic        = -2.0777\n",
      " No. Lags Chosen       = 11\n",
      " Critical value 1%     = -3.589\n",
      " Critical value 5%     = -2.93\n",
      " Critical value 10%    = -2.603\n",
      " => P-Value = 0.2536. Weak evidence to reject the Null Hypothesis.\n",
      " => Series is Non-Stationary.\n",
      "\n",
      "\n",
      "    Augmented Dickey-Fuller Test on \"Inflation\" \n",
      "    -----------------------------------------------\n",
      " Null Hypothesis: Data has unit root. Non-Stationary.\n",
      " Significance Level    = 0.05\n",
      " Test Statistic        = -2.5483\n",
      " No. Lags Chosen       = 2\n",
      " Critical value 1%     = -3.56\n",
      " Critical value 5%     = -2.918\n",
      " Critical value 10%    = -2.597\n",
      " => P-Value = 0.1042. Weak evidence to reject the Null Hypothesis.\n",
      " => Series is Non-Stationary.\n",
      "\n",
      "\n"
     ]
    }
   ],
   "source": [
    "#AUGMENTED DICKEY-FULLER TEST FOR STATIONARITY\n",
    "\n",
    "def adfuller_test(series, signif=0.05, name='', verbose=False):\n",
    "    \"\"\"Perform ADFuller to test for Stationarity of given series and print report\"\"\"\n",
    "    r = adfuller(series, autolag='AIC')\n",
    "    output = {'test_statistic':round(r[0], 4), 'pvalue':round(r[1], 4), 'n_lags':round(r[2], 4), 'n_obs':r[3]}\n",
    "    p_value = output['pvalue'] \n",
    "    def adjust(val, length= 6): return str(val).ljust(length)\n",
    "\n",
    "    # Print Summary\n",
    "    print(f'    Augmented Dickey-Fuller Test on \"{name}\"', \"\\n   \", '-'*47)\n",
    "    print(f' Null Hypothesis: Data has unit root. Non-Stationary.')\n",
    "    print(f' Significance Level    = {signif}')\n",
    "    print(f' Test Statistic        = {output[\"test_statistic\"]}')\n",
    "    print(f' No. Lags Chosen       = {output[\"n_lags\"]}')\n",
    "\n",
    "    for key,val in r[4].items():\n",
    "        print(f' Critical value {adjust(key)} = {round(val, 3)}')\n",
    "\n",
    "    if p_value <= signif:\n",
    "        print(f\" => P-Value = {p_value}. Rejecting Null Hypothesis.\")\n",
    "        print(f\" => Series is Stationary.\")\n",
    "    else:\n",
    "        print(f\" => P-Value = {p_value}. Weak evidence to reject the Null Hypothesis.\")\n",
    "        print(f\" => Series is Non-Stationary.\")\n",
    "          \n",
    "# ADF Test on each column\n",
    "for name, column in df_train.iteritems():\n",
    "    adfuller_test(column, name=column.name)\n",
    "    print('\\n')"
   ]
  },
  {
   "cell_type": "code",
   "execution_count": 39,
   "metadata": {},
   "outputs": [
    {
     "name": "stdout",
     "output_type": "stream",
     "text": [
      "    Augmented Dickey-Fuller Test on \"Libor 1M\" \n",
      "    -----------------------------------------------\n",
      " Null Hypothesis: Data has unit root. Non-Stationary.\n",
      " Significance Level    = 0.05\n",
      " Test Statistic        = -6.8547\n",
      " No. Lags Chosen       = 0\n",
      " Critical value 1%     = -3.558\n",
      " Critical value 5%     = -2.917\n",
      " Critical value 10%    = -2.596\n",
      " => P-Value = 0.0. Rejecting Null Hypothesis.\n",
      " => Series is Stationary.\n",
      "\n",
      "\n",
      "    Augmented Dickey-Fuller Test on \"Inflation\" \n",
      "    -----------------------------------------------\n",
      " Null Hypothesis: Data has unit root. Non-Stationary.\n",
      " Significance Level    = 0.05\n",
      " Test Statistic        = -5.0487\n",
      " No. Lags Chosen       = 2\n",
      " Critical value 1%     = -3.563\n",
      " Critical value 5%     = -2.919\n",
      " Critical value 10%    = -2.597\n",
      " => P-Value = 0.0. Rejecting Null Hypothesis.\n",
      " => Series is Stationary.\n",
      "\n",
      "\n"
     ]
    }
   ],
   "source": [
    "# 1st difference\n",
    "df_differenced = df_train.diff().dropna()\n",
    "# ADF Test on each column of 1st Differences Dataframe\n",
    "for name, column in df_differenced.iteritems():\n",
    "    adfuller_test(column, name=column.name)\n",
    "    print('\\n')"
   ]
  },
  {
   "cell_type": "code",
   "execution_count": 40,
   "metadata": {},
   "outputs": [
    {
     "name": "stdout",
     "output_type": "stream",
     "text": [
      "Lag Order = 1\n",
      "AIC :  -5.630142434978523\n",
      "Lag Order = 2\n",
      "AIC :  -5.647097789105509\n",
      "Lag Order = 3\n",
      "AIC :  -5.588251299287651\n",
      "Lag Order = 4\n",
      "AIC :  -5.407727915291911\n",
      "Lag Order = 5\n",
      "AIC :  -5.277556061148794\n",
      "Lag Order = 6\n",
      "AIC :  -5.197493151327389\n",
      "Lag Order = 7\n",
      "AIC :  -5.044892639821498\n",
      "Lag Order = 8\n",
      "AIC :  -4.8782531291573585\n",
      "Lag Order = 9\n",
      "AIC :  -4.751836825115644\n"
     ]
    },
    {
     "name": "stderr",
     "output_type": "stream",
     "text": [
      "/home/user/Desktop/env2/lib/python3.6/site-packages/statsmodels/tsa/base/tsa_model.py:218: ValueWarning: A date index has been provided, but it has no associated frequency information and so will be ignored when e.g. forecasting.\n",
      "  ' ignored when e.g. forecasting.', ValueWarning)\n"
     ]
    }
   ],
   "source": [
    "#SELECT ORDER OF THE VAR MODEL [P]\n",
    "\n",
    "model = VAR(df_differenced)\n",
    "#model = VAR(df)\n",
    "for i in [1,2,3,4,5,6,7,8,9]:\n",
    "    result = model.fit(i)\n",
    "    print('Lag Order =', i)\n",
    "    print('AIC : ', result.aic)\n"
   ]
  },
  {
   "cell_type": "code",
   "execution_count": 51,
   "metadata": {},
   "outputs": [
    {
     "data": {
      "text/plain": [
       "  Summary of Regression Results   \n",
       "==================================\n",
       "Model:                         VAR\n",
       "Method:                        OLS\n",
       "Date:           Wed, 28, Apr, 2021\n",
       "Time:                     20:03:33\n",
       "--------------------------------------------------------------------\n",
       "No. of Equations:         2.00000    BIC:                   -5.06292\n",
       "Nobs:                     52.0000    HQIC:                  -5.38685\n",
       "Log likelihood:           11.7249    FPE:                 0.00375389\n",
       "AIC:                     -5.58825    Det(Omega_mle):      0.00291598\n",
       "--------------------------------------------------------------------\n",
       "Results for equation Libor 1M\n",
       "===============================================================================\n",
       "                  coefficient       std. error           t-stat            prob\n",
       "-------------------------------------------------------------------------------\n",
       "const               -0.006268         0.031825           -0.197           0.844\n",
       "L1.Libor 1M         -0.147764         0.159018           -0.929           0.353\n",
       "L1.Inflation         0.329725         0.142237            2.318           0.020\n",
       "L2.Libor 1M          0.056110         0.160934            0.349           0.727\n",
       "L2.Inflation        -0.030620         0.154107           -0.199           0.843\n",
       "L3.Libor 1M          0.340749         0.165507            2.059           0.040\n",
       "L3.Inflation        -0.122569         0.136994           -0.895           0.371\n",
       "===============================================================================\n",
       "\n",
       "Results for equation Inflation\n",
       "===============================================================================\n",
       "                  coefficient       std. error           t-stat            prob\n",
       "-------------------------------------------------------------------------------\n",
       "const               -0.002051         0.036131           -0.057           0.955\n",
       "L1.Libor 1M         -0.300069         0.180532           -1.662           0.096\n",
       "L1.Inflation         0.659653         0.161480            4.085           0.000\n",
       "L2.Libor 1M         -0.235330         0.182707           -1.288           0.198\n",
       "L2.Inflation        -0.112858         0.174957           -0.645           0.519\n",
       "L3.Libor 1M          0.230934         0.187899            1.229           0.219\n",
       "L3.Inflation        -0.259447         0.155529           -1.668           0.095\n",
       "===============================================================================\n",
       "\n",
       "Correlation matrix of residuals\n",
       "             Libor 1M  Inflation\n",
       "Libor 1M     1.000000   0.422128\n",
       "Inflation    0.422128   1.000000\n",
       "\n"
      ]
     },
     "execution_count": 51,
     "metadata": {},
     "output_type": "execute_result"
    }
   ],
   "source": [
    "#TRAINING THE MODEL\n",
    "\n",
    "model_fitted = model.fit(3)\n",
    "model_fitted.summary()"
   ]
  },
  {
   "cell_type": "code",
   "execution_count": 52,
   "metadata": {},
   "outputs": [
    {
     "name": "stdout",
     "output_type": "stream",
     "text": [
      "3\n",
      "            Libor 1M  Inflation\n",
      "Date                           \n",
      "01-04-2016   0.01120       0.28\n",
      "01-05-2016   0.00670      -0.11\n",
      "01-06-2016  -0.00030      -0.02\n",
      "01-07-2016   0.02060      -0.17\n",
      "01-08-2016   0.00830       0.23\n",
      "01-09-2016   0.00171       0.40\n",
      "01-10-2016   0.00822       0.18\n",
      "01-11-2016   0.01023       0.05\n",
      "01-12-2016  -0.00034       0.38\n",
      "01-01-2017   0.25622       0.43\n",
      "01-02-2017   0.00067       0.24\n",
      "01-03-2017  -0.00944      -0.36\n",
      "01-04-2017   0.24833      -0.18\n",
      "01-05-2017  -0.00333      -0.33\n",
      "01-06-2017   0.00444      -0.24\n",
      "01-07-2017   0.24056       0.10\n",
      "01-08-2017   0.00389       0.21\n",
      "01-09-2017   0.00166       0.29\n",
      "01-10-2017   0.00278      -0.19\n",
      "01-11-2017   0.00222       0.16\n",
      "01-12-2017   0.00028      -0.09\n",
      "01-01-2018   0.25500      -0.04\n",
      "01-02-2018   0.00625       0.14\n",
      "01-03-2018   0.00250       0.15\n",
      "01-04-2018   0.25563       0.10\n",
      "01-05-2018   0.00250       0.34\n",
      "01-06-2018   0.00762       0.07\n",
      "01-07-2018   0.21775       0.08\n",
      "01-08-2018  -0.01412      -0.25\n",
      "01-09-2018  -0.00200      -0.42\n",
      "01-10-2018   0.25712       0.24\n",
      "01-11-2018   0.00463      -0.34\n",
      "01-12-2018   0.00075      -0.27\n",
      "01-01-2019   0.21062      -0.36\n",
      "01-02-2019  -0.01275      -0.03\n",
      "01-03-2019   0.01088       0.34\n",
      "01-04-2019   0.00325       0.14\n",
      "01-05-2019   0.00375      -0.21\n",
      "01-06-2019  -0.03188      -0.14\n",
      "01-07-2019  -0.00025       0.16\n",
      "01-08-2019  -0.24750      -0.06\n",
      "01-09-2019  -0.02100      -0.04\n",
      "01-10-2019  -0.26512       0.05\n",
      "01-11-2019  -0.23400       0.29\n",
      "01-12-2019  -0.05150       0.24\n",
      "01-01-2020  -0.00013       0.20\n",
      "01-02-2020   0.02500      -0.16\n",
      "01-03-2020   0.00913      -0.79\n",
      "01-04-2020  -1.46588      -1.21\n",
      "01-05-2020  -0.05037      -0.21\n",
      "01-06-2020   0.00362       0.53\n",
      "01-07-2020   0.01463       0.34\n",
      "01-08-2020   0.01237       0.32\n",
      "01-09-2020  -0.00775       0.06\n",
      "01-10-2020   0.00050      -0.21\n"
     ]
    },
    {
     "data": {
      "text/plain": [
       "array([[ 0.01237,  0.32   ],\n",
       "       [-0.00775,  0.06   ],\n",
       "       [ 0.0005 , -0.21   ]])"
      ]
     },
     "execution_count": 52,
     "metadata": {},
     "output_type": "execute_result"
    }
   ],
   "source": [
    "# Get the lag order\n",
    "lag_order = model_fitted.k_ar\n",
    "print(lag_order)  #> 4\n",
    "\n",
    "# Input data for forecasting\n",
    "print(df_differenced)\n",
    "forecast_input = df_differenced.values[-lag_order:]\n",
    "forecast_input"
   ]
  },
  {
   "cell_type": "code",
   "execution_count": 53,
   "metadata": {},
   "outputs": [
    {
     "data": {
      "text/html": [
       "<div>\n",
       "<style scoped>\n",
       "    .dataframe tbody tr th:only-of-type {\n",
       "        vertical-align: middle;\n",
       "    }\n",
       "\n",
       "    .dataframe tbody tr th {\n",
       "        vertical-align: top;\n",
       "    }\n",
       "\n",
       "    .dataframe thead th {\n",
       "        text-align: right;\n",
       "    }\n",
       "</style>\n",
       "<table border=\"1\" class=\"dataframe\">\n",
       "  <thead>\n",
       "    <tr style=\"text-align: right;\">\n",
       "      <th></th>\n",
       "      <th>Libor 1M_1d</th>\n",
       "      <th>Inflation_1d</th>\n",
       "    </tr>\n",
       "    <tr>\n",
       "      <th>Date</th>\n",
       "      <th></th>\n",
       "      <th></th>\n",
       "    </tr>\n",
       "  </thead>\n",
       "  <tbody>\n",
       "    <tr>\n",
       "      <th>01-11-2020</th>\n",
       "      <td>-0.112864</td>\n",
       "      <td>-0.225842</td>\n",
       "    </tr>\n",
       "    <tr>\n",
       "      <th>01-12-2020</th>\n",
       "      <td>-0.067594</td>\n",
       "      <td>-0.110935</td>\n",
       "    </tr>\n",
       "    <tr>\n",
       "      <th>01-01-2021</th>\n",
       "      <td>-0.006366</td>\n",
       "      <td>0.051701</td>\n",
       "    </tr>\n",
       "    <tr>\n",
       "      <th>01-02-2021</th>\n",
       "      <td>0.000547</td>\n",
       "      <td>0.094921</td>\n",
       "    </tr>\n",
       "    <tr>\n",
       "      <th>01-03-2021</th>\n",
       "      <td>0.013573</td>\n",
       "      <td>0.069236</td>\n",
       "    </tr>\n",
       "    <tr>\n",
       "      <th>01-04-2021</th>\n",
       "      <td>0.003173</td>\n",
       "      <td>0.013823</td>\n",
       "    </tr>\n",
       "  </tbody>\n",
       "</table>\n",
       "</div>"
      ],
      "text/plain": [
       "            Libor 1M_1d  Inflation_1d\n",
       "Date                                 \n",
       "01-11-2020    -0.112864     -0.225842\n",
       "01-12-2020    -0.067594     -0.110935\n",
       "01-01-2021    -0.006366      0.051701\n",
       "01-02-2021     0.000547      0.094921\n",
       "01-03-2021     0.013573      0.069236\n",
       "01-04-2021     0.003173      0.013823"
      ]
     },
     "execution_count": 53,
     "metadata": {},
     "output_type": "execute_result"
    }
   ],
   "source": [
    "# Forecast\n",
    "od=1\n",
    "fc = model_fitted.forecast(y=forecast_input, steps=nobs)\n",
    "df_forecast = pd.DataFrame(fc, index=df.index[-nobs:], columns=df.columns + '_'+str(od)+'d')\n",
    "df_forecast"
   ]
  },
  {
   "cell_type": "code",
   "execution_count": 54,
   "metadata": {},
   "outputs": [
    {
     "name": "stdout",
     "output_type": "stream",
     "text": [
      "            Libor 1M_1d  Libor 1M forecast  Inflation forecast\n",
      "Date                                                          \n",
      "01-11-2020    -0.112864          -0.031114            0.934158\n",
      "01-12-2020    -0.067594          -0.098707            0.823223\n",
      "01-01-2021    -0.006366          -0.105074            0.874924\n",
      "01-02-2021     0.000547          -0.104527            0.969845\n",
      "01-03-2021     0.013573          -0.090954            1.039081\n",
      "01-04-2021     0.003173          -0.087781            1.052904\n"
     ]
    }
   ],
   "source": [
    "#INVERT TRANSFORMATION TO GET REAL FORECAST\n",
    "\n",
    "def invert_transformation(df_train, df_forecast, difference):\n",
    "    \"\"\"Revert back the differencing to get the forecast to original scale.\"\"\"\n",
    "    df_fc = df_forecast.copy()\n",
    "    columns = df_train.columns\n",
    "    for col in columns:        \n",
    "        # Roll back 2nd Diff\n",
    "        if difference==2:\n",
    "            df_fc[str(col)+'_1d'] = (df_train[col].iloc[-1]-df_train[col].iloc[-2]) + df_fc[str(col)+'_2d'].cumsum()\n",
    "            # Roll back 1st Diff\n",
    "            df_fc[str(col)+' forecast'] = df_train[col].iloc[-1] + df_fc[str(col)+'_1d'].cumsum()\n",
    "        elif difference==1:\n",
    "            df_fc[str(col)+' forecast'] = df_train[col].iloc[-1] + df_fc[str(col)+'_1d'].cumsum()\n",
    "    return df_fc\n",
    "\n",
    "\n",
    "\n",
    "df_results_all = invert_transformation(df_train, df_forecast, od)\n",
    "df_results=copy.deepcopy(df_results_all)\n",
    "columns=df_results_all.columns\n",
    "for col in columns:\n",
    "    if len(col.split())==1:\n",
    "        df_results.drop(col,axis=1,inplace=True)\n",
    "print(df_results)\n",
    "# df_results.loc[:, ['rgnp_forecast', 'pgnp_forecast', 'ulc_forecast', 'gdfco_forecast',\n",
    "#                    'gdf_forecast', 'gdfim_forecast', 'gdfcf_forecast', 'gdfce_forecast']]"
   ]
  },
  {
   "cell_type": "code",
   "execution_count": 55,
   "metadata": {},
   "outputs": [
    {
     "data": {
      "image/png": "[encoded data removed]",
      "text/plain": [
       "<Figure size 1500x1500 with 2 Axes>"
      ]
     },
     "metadata": {
      "needs_background": "light"
     },
     "output_type": "display_data"
    }
   ],
   "source": [
    "#PLOT OF ACTUAL VS FORECAST\n",
    "\n",
    "fig, axes = plt.subplots(nrows=int(len(df.columns)/2), ncols=2, dpi=150, figsize=(10,10))\n",
    "for i, (col,ax) in enumerate(zip(df.columns, axes.flatten())):\n",
    "    df_results[col+' forecast'].plot(legend=True, ax=ax).autoscale(axis='x',tight=True)\n",
    "    df_test[col][-nobs:].plot(legend=True, ax=ax);\n",
    "    ax.set_title(col + \": Forecast vs Actuals\")\n",
    "    ax.xaxis.set_ticks_position('none')\n",
    "    ax.yaxis.set_ticks_position('none')\n",
    "    ax.spines[\"top\"].set_alpha(0)\n",
    "    ax.tick_params(labelsize=6)\n",
    "\n",
    "plt.tight_layout();"
   ]
  },
  {
   "cell_type": "code",
   "execution_count": 56,
   "metadata": {},
   "outputs": [
    {
     "name": "stdout",
     "output_type": "stream",
     "text": [
      "Forecast Accuracy of: Libor 1M\n",
      "rmse :  0.1683\n",
      "Forecast Accuracy of: Inflation\n",
      "rmse :  1.2592\n"
     ]
    }
   ],
   "source": [
    "from statsmodels.tsa.stattools import acf\n",
    "def forecast_accuracy(forecast, actual):\n",
    "    \n",
    "    rmse = np.mean((forecast - actual)**2)**.5  # RMSE\n",
    "    return({'rmse':rmse})\n",
    "columns=df_train.columns\n",
    "for col in columns:\n",
    "    print('Forecast Accuracy of: '+str(col))\n",
    "    accuracy_prod = forecast_accuracy(df_results[str(col)+' forecast'].values, df_test[str(col)])\n",
    "    for k, v in accuracy_prod.items():\n",
    "        print(k, ': ', round(v,4))\n",
    "# print('Forecast Accuracy of: rgnp')\n",
    "# accuracy_prod = forecast_accuracy(df_results['rgnp_forecast'].values, df_test['rgnp'])\n",
    "# for k, v in accuracy_prod.items():\n",
    "#     print(k, ': ', round(v,4))\n",
    "\n",
    "# print('\\nForecast Accuracy of: pgnp')\n",
    "# accuracy_prod = forecast_accuracy(df_results['pgnp_forecast'].values, df_test['pgnp'])\n",
    "# for k, v in accuracy_prod.items():\n",
    "#     print(k, ': ', round(v,4))\n",
    "\n",
    "# print('\\nForecast Accuracy of: ulc')\n",
    "# accuracy_prod = forecast_accuracy(df_results['ulc_forecast'].values, df_test['ulc'])\n",
    "# for k, v in accuracy_prod.items():\n",
    "#     print(k, ': ', round(v,4))\n",
    "\n",
    "# print('\\nForecast Accuracy of: gdfco')\n",
    "# accuracy_prod = forecast_accuracy(df_results['gdfco_forecast'].values, df_test['gdfco'])\n",
    "# for k, v in accuracy_prod.items():\n",
    "#     print(k, ': ', round(v,4))\n",
    "\n",
    "# print('\\nForecast Accuracy of: gdf')\n",
    "# accuracy_prod = forecast_accuracy(df_results['gdf_forecast'].values, df_test['gdf'])\n",
    "# for k, v in accuracy_prod.items():\n",
    "#     print(k, ': ', round(v,4))\n",
    "\n",
    "# print('\\nForecast Accuracy of: gdfim')\n",
    "# accuracy_prod = forecast_accuracy(df_results['gdfim_forecast'].values, df_test['gdfim'])\n",
    "# for k, v in accuracy_prod.items():\n",
    "#     print(k, ': ', round(v,4))\n",
    "\n",
    "# print('\\nForecast Accuracy of: gdfcf')\n",
    "# accuracy_prod = forecast_accuracy(df_results['gdfcf_forecast'].values, df_test['gdfcf'])\n",
    "# for k, v in accuracy_prod.items():\n",
    "#     print(k, ': ', round(v,4))\n",
    "\n",
    "# print('\\nForecast Accuracy of: gdfce')\n",
    "# accuracy_prod = forecast_accuracy(df_results['gdfce_forecast'].values, df_test['gdfce'])\n",
    "# for k, v in accuracy_prod.items():\n",
    "#     print(k, ': ', round(v,4))"
   ]
  },
  {
   "cell_type": "code",
   "execution_count": null,
   "metadata": {},
   "outputs": [],
   "source": []
  }
 ],
 "metadata": {
  "kernelspec": {
   "display_name": "Python 3",
   "language": "python",
   "name": "python3"
  },
  "language_info": {
   "codemirror_mode": {
    "name": "ipython",
    "version": 3
   },
   "file_extension": ".py",
   "mimetype": "text/x-python",
   "name": "python",
   "nbconvert_exporter": "python",
   "pygments_lexer": "ipython3",
   "version": "3.6.9"
  }
 },
 "nbformat": 4,
 "nbformat_minor": 2
}
