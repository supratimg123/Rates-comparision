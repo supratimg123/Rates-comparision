{
 "cells": [
  {
   "cell_type": "code",
   "execution_count": 1,
   "metadata": {},
   "outputs": [],
   "source": [
    "import pandas as pd\n",
    "import numpy as np\n",
    "import copy\n",
    "import datetime\n",
    "import matplotlib.pyplot as plt\n",
    "%matplotlib inline\n",
    "\n",
    "# Import Statsmodels\n",
    "import statsmodels.api as sm\n",
    "from statsmodels.tsa.api import VAR\n",
    "from statsmodels.tsa.stattools import adfuller\n",
    "from statsmodels.tools.eval_measures import rmse, aic"
   ]
  },
  {
   "cell_type": "code",
   "execution_count": 4,
   "metadata": {},
   "outputs": [
    {
     "name": "stderr",
     "output_type": "stream",
     "text": [
      "/home/user/Desktop/env2/lib/python3.6/site-packages/ipykernel_launcher.py:5: SettingWithCopyWarning: \n",
      "A value is trying to be set on a copy of a slice from a DataFrame\n",
      "\n",
      "See the caveats in the documentation: http://pandas.pydata.org/pandas-docs/stable/indexing.html#indexing-view-versus-copy\n",
      "  \"\"\"\n"
     ]
    },
    {
     "data": {
      "text/html": [
       "<div>\n",
       "<style scoped>\n",
       "    .dataframe tbody tr th:only-of-type {\n",
       "        vertical-align: middle;\n",
       "    }\n",
       "\n",
       "    .dataframe tbody tr th {\n",
       "        vertical-align: top;\n",
       "    }\n",
       "\n",
       "    .dataframe thead th {\n",
       "        text-align: right;\n",
       "    }\n",
       "</style>\n",
       "<table border=\"1\" class=\"dataframe\">\n",
       "  <thead>\n",
       "    <tr style=\"text-align: right;\">\n",
       "      <th></th>\n",
       "      <th>Libor 1M</th>\n",
       "      <th>Interest Rates</th>\n",
       "      <th>Inflation</th>\n",
       "      <th>GDP per capita</th>\n",
       "      <th>GDP history</th>\n",
       "      <th>Fedfunds</th>\n",
       "      <th>Treasury Rates</th>\n",
       "    </tr>\n",
       "    <tr>\n",
       "      <th>Date</th>\n",
       "      <th></th>\n",
       "      <th></th>\n",
       "      <th></th>\n",
       "      <th></th>\n",
       "      <th></th>\n",
       "      <th></th>\n",
       "      <th></th>\n",
       "    </tr>\n",
       "  </thead>\n",
       "  <tbody>\n",
       "    <tr>\n",
       "      <th>01-12-2020</th>\n",
       "      <td>0.08050</td>\n",
       "      <td>0.25</td>\n",
       "      <td>1.36</td>\n",
       "      <td>46468</td>\n",
       "      <td>18719.206604</td>\n",
       "      <td>0.09</td>\n",
       "      <td>0.076364</td>\n",
       "    </tr>\n",
       "    <tr>\n",
       "      <th>01-01-2021</th>\n",
       "      <td>0.08463</td>\n",
       "      <td>0.25</td>\n",
       "      <td>1.40</td>\n",
       "      <td>51605</td>\n",
       "      <td>19042.710610</td>\n",
       "      <td>0.09</td>\n",
       "      <td>0.076316</td>\n",
       "    </tr>\n",
       "    <tr>\n",
       "      <th>01-02-2021</th>\n",
       "      <td>0.07925</td>\n",
       "      <td>0.25</td>\n",
       "      <td>1.68</td>\n",
       "      <td>47374</td>\n",
       "      <td>18867.884626</td>\n",
       "      <td>0.08</td>\n",
       "      <td>0.035789</td>\n",
       "    </tr>\n",
       "    <tr>\n",
       "      <th>01-03-2021</th>\n",
       "      <td>0.07950</td>\n",
       "      <td>0.25</td>\n",
       "      <td>2.62</td>\n",
       "      <td>47374</td>\n",
       "      <td>18867.884626</td>\n",
       "      <td>0.07</td>\n",
       "      <td>0.024348</td>\n",
       "    </tr>\n",
       "    <tr>\n",
       "      <th>01-04-2021</th>\n",
       "      <td>0.07475</td>\n",
       "      <td>0.25</td>\n",
       "      <td>3.48</td>\n",
       "      <td>47374</td>\n",
       "      <td>18867.884626</td>\n",
       "      <td>0.07</td>\n",
       "      <td>0.016667</td>\n",
       "    </tr>\n",
       "  </tbody>\n",
       "</table>\n",
       "</div>"
      ],
      "text/plain": [
       "            Libor 1M  Interest Rates  Inflation  GDP per capita   GDP history  \\\n",
       "Date                                                                            \n",
       "01-12-2020   0.08050            0.25       1.36           46468  18719.206604   \n",
       "01-01-2021   0.08463            0.25       1.40           51605  19042.710610   \n",
       "01-02-2021   0.07925            0.25       1.68           47374  18867.884626   \n",
       "01-03-2021   0.07950            0.25       2.62           47374  18867.884626   \n",
       "01-04-2021   0.07475            0.25       3.48           47374  18867.884626   \n",
       "\n",
       "            Fedfunds  Treasury Rates  \n",
       "Date                                  \n",
       "01-12-2020      0.09        0.076364  \n",
       "01-01-2021      0.09        0.076316  \n",
       "01-02-2021      0.08        0.035789  \n",
       "01-03-2021      0.07        0.024348  \n",
       "01-04-2021      0.07        0.016667  "
      ]
     },
     "execution_count": 4,
     "metadata": {},
     "output_type": "execute_result"
    }
   ],
   "source": [
    "filepath = '/home/user/Desktop/env2/VAR/macro/macro_analysis.xlsx'\n",
    "df = pd.read_excel(filepath,lineterminator='\\n')\n",
    "##########for the plot only\n",
    "df1=df[[\"Date\",\"Libor 1M\",\"BGCR Repo rates\"]]\n",
    "df1.dropna(inplace=True)\n",
    "df1.index=df1['Date']\n",
    "df1=df1.drop(['Date'],axis=1)\n",
    "##########upto this\n",
    "####### For further analysis\n",
    "df=df[[\"Date\",\"Libor 1M\",\"Interest Rates\",\"Inflation\",\"GDP per capita\",\"GDP history\",\"Fedfunds\",\"Treasury Rates\"]]\n",
    "# df=df[[\"Date\",\"Libor 1M\",\"BGCR Repo rates\"]]\n",
    "# df.dropna(inplace=True)\n",
    "df.index=df['Date']\n",
    "df=df.drop(['Date'],axis=1)\n",
    "df.tail()"
   ]
  },
  {
   "cell_type": "code",
   "execution_count": 5,
   "metadata": {},
   "outputs": [
    {
     "data": {
      "text/plain": [
       "Text(0.5, 1.0, 'PLOT OF LIBOR AGAINST GDP HISTORY')"
      ]
     },
     "execution_count": 5,
     "metadata": {},
     "output_type": "execute_result"
    },
    {
     "data": {
      "image/png": "[encoded data removed]",
      "text/plain": [
       "<Figure size 720x216 with 1 Axes>"
      ]
     },
     "metadata": {
      "needs_background": "light"
     },
     "output_type": "display_data"
    }
   ],
   "source": [
    "df_min_max_scaled = df.copy()\n",
    "df1_min_max_scaled=df1.copy()\n",
    "# apply normalization techniques by Column 1\n",
    "columns=df_min_max_scaled.columns\n",
    "columns1=df1_min_max_scaled.columns\n",
    "for col in columns:\n",
    "    df_min_max_scaled[col] = (df_min_max_scaled[col] - df_min_max_scaled[col].min()) / (df_min_max_scaled[col].max() - df_min_max_scaled[col].min())    \n",
    "for col in columns1:\n",
    "    df1_min_max_scaled[col] = (df1_min_max_scaled[col] - df1_min_max_scaled[col].min()) / (df1_min_max_scaled[col].max() - df1_min_max_scaled[col].min())    \n",
    "\n",
    "plt.rcParams[\"figure.figsize\"] = (10,3)\n",
    "df_min_max_scaled[\"Libor 1M\"].plot(color=\"red\",legend=True)\n",
    "df_min_max_scaled[\"GDP history\"].plot(color=\"green\",legend=True)\n",
    "#df_min_max_scaled[\"Interest Rates\"].plot(color=\"cyan\",legend=True)\n",
    "#plt.xticks([1-1-2016,1-1-2021])\n",
    "plt.xlabel(\"Time\")\n",
    "plt.ylabel(\"value\")\n",
    "plt.title(\"PLOT OF LIBOR AGAINST GDP HISTORY\")\n",
    "    \n",
    "    \n",
    "    \n",
    "    \n",
    "# cols=list(df.columns)[1:]\n",
    "# cols1=list(df1.columns[1:])\n",
    "# view normalized data\n",
    "#display(df1_min_max_scaled)\n",
    "# plt.rcParams[\"figure.figsize\"] = (20,10)\n",
    "# fig, ax = plt.subplots(4,2)\n",
    "# plt.suptitle(\"PLOT OF DIFFERENT MACRO VARIABLES WITH LIBOR MONTHLY AVERAGE DATA\", fontsize=14)\n",
    "# fig.delaxes(ax[3,1])\n",
    "# c=0\n",
    "# for i in range(4):\n",
    "#     for j in range(2):\n",
    "#         if c<=len(cols)-1:\n",
    "#             ax[i,j].plot(df_min_max_scaled[\"Libor 1M\"])\n",
    "#             ax[i,j].plot(df_min_max_scaled[cols[c]])\n",
    "#             ax[i,j].legend([\"LIBOR 1M\",cols[c]])\n",
    "#             ax[i,j].set_xticks([\"01-03-2016\",\"01-03-2017\",\"01-03-2018\",\"01-03-2019\",\"01-03-2020\",\"01-03-2021\"])\n",
    "#             ax[i,j].set_xlabel(\"Time\")\n",
    "#             ax[i,j].set_ylabel(\"Value\")\n",
    "#             c=c+1\n",
    "#         else:\n",
    "#             ax[i,j].plot(df1_min_max_scaled[\"Libor 1M\"])\n",
    "#             ax[i,j].plot(df1_min_max_scaled[cols1])\n",
    "#             ax[i,j].legend([\"LIBOR 1M\",cols1])\n",
    "#             ax[i,j].set_xticks([\"01-04-2018\",\"01-03-2019\",\"01-03-2020\",\"01-03-2021\"])\n",
    "#             ax[i,j].set_xlabel(\"Time\")\n",
    "#             ax[i,j].set_ylabel(\"Value\")"
   ]
  },
  {
   "cell_type": "code",
   "execution_count": 76,
   "metadata": {},
   "outputs": [
    {
     "data": {
      "text/html": [
       "<div>\n",
       "<style scoped>\n",
       "    .dataframe tbody tr th:only-of-type {\n",
       "        vertical-align: middle;\n",
       "    }\n",
       "\n",
       "    .dataframe tbody tr th {\n",
       "        vertical-align: top;\n",
       "    }\n",
       "\n",
       "    .dataframe thead th {\n",
       "        text-align: right;\n",
       "    }\n",
       "</style>\n",
       "<table border=\"1\" class=\"dataframe\">\n",
       "  <thead>\n",
       "    <tr style=\"text-align: right;\">\n",
       "      <th></th>\n",
       "      <th>Libor 1M</th>\n",
       "      <th>Interest Rates</th>\n",
       "      <th>Inflation</th>\n",
       "      <th>Inflation_lag1</th>\n",
       "    </tr>\n",
       "    <tr>\n",
       "      <th>Date</th>\n",
       "      <th></th>\n",
       "      <th></th>\n",
       "      <th></th>\n",
       "      <th></th>\n",
       "    </tr>\n",
       "  </thead>\n",
       "  <tbody>\n",
       "    <tr>\n",
       "      <th>01-11-2020</th>\n",
       "      <td>0.08113</td>\n",
       "      <td>0.25</td>\n",
       "      <td>1.17</td>\n",
       "      <td>1.36</td>\n",
       "    </tr>\n",
       "    <tr>\n",
       "      <th>01-12-2020</th>\n",
       "      <td>0.08050</td>\n",
       "      <td>0.25</td>\n",
       "      <td>1.36</td>\n",
       "      <td>1.40</td>\n",
       "    </tr>\n",
       "    <tr>\n",
       "      <th>01-01-2021</th>\n",
       "      <td>0.08463</td>\n",
       "      <td>0.25</td>\n",
       "      <td>1.40</td>\n",
       "      <td>1.68</td>\n",
       "    </tr>\n",
       "    <tr>\n",
       "      <th>01-02-2021</th>\n",
       "      <td>0.07925</td>\n",
       "      <td>0.25</td>\n",
       "      <td>1.68</td>\n",
       "      <td>2.62</td>\n",
       "    </tr>\n",
       "    <tr>\n",
       "      <th>01-03-2021</th>\n",
       "      <td>0.07950</td>\n",
       "      <td>0.25</td>\n",
       "      <td>2.62</td>\n",
       "      <td>3.48</td>\n",
       "    </tr>\n",
       "  </tbody>\n",
       "</table>\n",
       "</div>"
      ],
      "text/plain": [
       "            Libor 1M  Interest Rates  Inflation  Inflation_lag1\n",
       "Date                                                           \n",
       "01-11-2020   0.08113            0.25       1.17            1.36\n",
       "01-12-2020   0.08050            0.25       1.36            1.40\n",
       "01-01-2021   0.08463            0.25       1.40            1.68\n",
       "01-02-2021   0.07925            0.25       1.68            2.62\n",
       "01-03-2021   0.07950            0.25       2.62            3.48"
      ]
     },
     "execution_count": 76,
     "metadata": {},
     "output_type": "execute_result"
    }
   ],
   "source": [
    "df[\"Inflation_lag1\"]=df[\"Inflation\"].shift(-1)\n",
    "#df[\"Inflation_lag2\"]=df[\"Inflation\"].shift(-2)\n",
    "#df[\"Inflation_lag3\"]=df[\"Inflation\"].shift(-3)\n",
    "df.dropna(inplace=True)\n",
    "df.tail()"
   ]
  },
  {
   "cell_type": "code",
   "execution_count": 85,
   "metadata": {},
   "outputs": [
    {
     "data": {
      "text/plain": [
       "<matplotlib.axes._subplots.AxesSubplot at 0x7fcdec421748>"
      ]
     },
     "execution_count": 85,
     "metadata": {},
     "output_type": "execute_result"
    },
    {
     "data": {
      "image/png": "[encoded data removed]",
      "text/plain": [
       "<Figure size 432x288 with 1 Axes>"
      ]
     },
     "metadata": {
      "needs_background": "light"
     },
     "output_type": "display_data"
    }
   ],
   "source": [
    "df[\"Interest Rates_lag1\"]=df[\"Interest Rates\"].shift(-1)\n",
    "#df[\"Interest Rates_lag2\"]=df[\"Interest Rates\"].shift(-2)\n",
    "#df[\"Interest Rates_lag3\"]=df[\"Interest Rates\"].shift(-3)\n",
    "df.dropna(inplace=True)\n",
    "df.tail()\n",
    "df.plot(legend=True)"
   ]
  },
  {
   "cell_type": "code",
   "execution_count": 178,
   "metadata": {},
   "outputs": [
    {
     "data": {
      "text/plain": [
       "<matplotlib.axes._subplots.AxesSubplot at 0x7fcded2f8208>"
      ]
     },
     "execution_count": 178,
     "metadata": {},
     "output_type": "execute_result"
    },
    {
     "data": {
      "image/png": "[encoded data removed]",
      "text/plain": [
       "<Figure size 1440x216 with 1 Axes>"
      ]
     },
     "metadata": {
      "needs_background": "light"
     },
     "output_type": "display_data"
    }
   ],
   "source": [
    "# df[\"GDP per capita_lag1\"]=df[\"GDP per capita\"].shift(-1)\n",
    "#df[\"GDP per capita_lag2\"]=df[\"GDP per capita\"].shift(-2)\n",
    "df[\"GDP per capita_lag3\"]=df[\"GDP per capita\"].shift(-3)\n",
    "df.dropna(inplace=True)\n",
    "df.tail()\n",
    "df.plot(legend=True)"
   ]
  },
  {
   "cell_type": "code",
   "execution_count": 149,
   "metadata": {},
   "outputs": [
    {
     "data": {
      "text/plain": [
       "<matplotlib.axes._subplots.AxesSubplot at 0x7f5c9d0ace10>"
      ]
     },
     "execution_count": 149,
     "metadata": {},
     "output_type": "execute_result"
    },
    {
     "data": {
      "image/png": "[encoded data removed]",
      "text/plain": [
       "<Figure size 432x288 with 1 Axes>"
      ]
     },
     "metadata": {
      "needs_background": "light"
     },
     "output_type": "display_data"
    }
   ],
   "source": [
    "df[\"GDP history_lag1\"]=df[\"GDP history\"].shift(-1)\n",
    "#df[\"GDP history_lag2\"]=df[\"GDP history\"].shift(-2)\n",
    "#df[\"GDP history_lag3\"]=df[\"GDP history\"].shift(-3)\n",
    "df.dropna(inplace=True)\n",
    "df.tail()"
   ]
  },
  {
   "cell_type": "code",
   "execution_count": 38,
   "metadata": {},
   "outputs": [
    {
     "data": {
      "text/html": [
       "<div>\n",
       "<style scoped>\n",
       "    .dataframe tbody tr th:only-of-type {\n",
       "        vertical-align: middle;\n",
       "    }\n",
       "\n",
       "    .dataframe tbody tr th {\n",
       "        vertical-align: top;\n",
       "    }\n",
       "\n",
       "    .dataframe thead th {\n",
       "        text-align: right;\n",
       "    }\n",
       "</style>\n",
       "<table border=\"1\" class=\"dataframe\">\n",
       "  <thead>\n",
       "    <tr style=\"text-align: right;\">\n",
       "      <th></th>\n",
       "      <th>Libor 1M</th>\n",
       "      <th>Interest Rates</th>\n",
       "      <th>Inflation</th>\n",
       "      <th>GDP per capita</th>\n",
       "      <th>GDP history</th>\n",
       "      <th>Fedfunds</th>\n",
       "      <th>Treasury Rates</th>\n",
       "      <th>Fedfunds_lag3</th>\n",
       "    </tr>\n",
       "    <tr>\n",
       "      <th>Date</th>\n",
       "      <th></th>\n",
       "      <th></th>\n",
       "      <th></th>\n",
       "      <th></th>\n",
       "      <th></th>\n",
       "      <th></th>\n",
       "      <th></th>\n",
       "      <th></th>\n",
       "    </tr>\n",
       "  </thead>\n",
       "  <tbody>\n",
       "    <tr>\n",
       "      <th>01-03-2016</th>\n",
       "      <td>0.3679</td>\n",
       "      <td>1.0</td>\n",
       "      <td>0.85</td>\n",
       "      <td>42189</td>\n",
       "      <td>17716.406119</td>\n",
       "      <td>0.36</td>\n",
       "      <td>0.253182</td>\n",
       "      <td>0.38</td>\n",
       "    </tr>\n",
       "    <tr>\n",
       "      <th>01-04-2016</th>\n",
       "      <td>0.3791</td>\n",
       "      <td>1.0</td>\n",
       "      <td>1.13</td>\n",
       "      <td>42107</td>\n",
       "      <td>17696.890725</td>\n",
       "      <td>0.37</td>\n",
       "      <td>0.187619</td>\n",
       "      <td>0.39</td>\n",
       "    </tr>\n",
       "    <tr>\n",
       "      <th>01-05-2016</th>\n",
       "      <td>0.3858</td>\n",
       "      <td>1.0</td>\n",
       "      <td>1.02</td>\n",
       "      <td>42064</td>\n",
       "      <td>17616.657836</td>\n",
       "      <td>0.37</td>\n",
       "      <td>0.226190</td>\n",
       "      <td>0.40</td>\n",
       "    </tr>\n",
       "    <tr>\n",
       "      <th>01-06-2016</th>\n",
       "      <td>0.3855</td>\n",
       "      <td>1.0</td>\n",
       "      <td>1.00</td>\n",
       "      <td>42058</td>\n",
       "      <td>17691.227102</td>\n",
       "      <td>0.38</td>\n",
       "      <td>0.221364</td>\n",
       "      <td>0.40</td>\n",
       "    </tr>\n",
       "    <tr>\n",
       "      <th>01-07-2016</th>\n",
       "      <td>0.4061</td>\n",
       "      <td>1.0</td>\n",
       "      <td>0.83</td>\n",
       "      <td>42163</td>\n",
       "      <td>17648.556072</td>\n",
       "      <td>0.39</td>\n",
       "      <td>0.263500</td>\n",
       "      <td>0.40</td>\n",
       "    </tr>\n",
       "  </tbody>\n",
       "</table>\n",
       "</div>"
      ],
      "text/plain": [
       "            Libor 1M  Interest Rates  Inflation  GDP per capita   GDP history  \\\n",
       "Date                                                                            \n",
       "01-03-2016    0.3679             1.0       0.85           42189  17716.406119   \n",
       "01-04-2016    0.3791             1.0       1.13           42107  17696.890725   \n",
       "01-05-2016    0.3858             1.0       1.02           42064  17616.657836   \n",
       "01-06-2016    0.3855             1.0       1.00           42058  17691.227102   \n",
       "01-07-2016    0.4061             1.0       0.83           42163  17648.556072   \n",
       "\n",
       "            Fedfunds  Treasury Rates  Fedfunds_lag3  \n",
       "Date                                                 \n",
       "01-03-2016      0.36        0.253182           0.38  \n",
       "01-04-2016      0.37        0.187619           0.39  \n",
       "01-05-2016      0.37        0.226190           0.40  \n",
       "01-06-2016      0.38        0.221364           0.40  \n",
       "01-07-2016      0.39        0.263500           0.40  "
      ]
     },
     "execution_count": 38,
     "metadata": {},
     "output_type": "execute_result"
    }
   ],
   "source": [
    "#df[\"Fedfunds_lag1\"]=df[\"Fedfunds\"].shift(-1)\n",
    "#df[\"Fedfunds_lag2\"]=df[\"Fedfunds\"].shift(-2)\n",
    "df[\"Fedfunds_lag3\"]=df[\"Fedfunds\"].shift(-3)\n",
    "df.dropna(inplace=True)\n",
    "df.head()"
   ]
  },
  {
   "cell_type": "code",
   "execution_count": 87,
   "metadata": {},
   "outputs": [
    {
     "data": {
      "text/html": [
       "<div>\n",
       "<style scoped>\n",
       "    .dataframe tbody tr th:only-of-type {\n",
       "        vertical-align: middle;\n",
       "    }\n",
       "\n",
       "    .dataframe tbody tr th {\n",
       "        vertical-align: top;\n",
       "    }\n",
       "\n",
       "    .dataframe thead th {\n",
       "        text-align: right;\n",
       "    }\n",
       "</style>\n",
       "<table border=\"1\" class=\"dataframe\">\n",
       "  <thead>\n",
       "    <tr style=\"text-align: right;\">\n",
       "      <th></th>\n",
       "      <th>Libor 1M</th>\n",
       "      <th>Interest Rates</th>\n",
       "      <th>Inflation</th>\n",
       "      <th>GDP per capita</th>\n",
       "      <th>GDP history</th>\n",
       "      <th>Fedfunds</th>\n",
       "      <th>Treasury Rates</th>\n",
       "      <th>Treasury Rates_lag3</th>\n",
       "    </tr>\n",
       "    <tr>\n",
       "      <th>Date</th>\n",
       "      <th></th>\n",
       "      <th></th>\n",
       "      <th></th>\n",
       "      <th></th>\n",
       "      <th></th>\n",
       "      <th></th>\n",
       "      <th></th>\n",
       "      <th></th>\n",
       "    </tr>\n",
       "  </thead>\n",
       "  <tbody>\n",
       "    <tr>\n",
       "      <th>01-03-2016</th>\n",
       "      <td>0.3679</td>\n",
       "      <td>1.0</td>\n",
       "      <td>0.85</td>\n",
       "      <td>42189</td>\n",
       "      <td>17716.406119</td>\n",
       "      <td>0.36</td>\n",
       "      <td>0.253182</td>\n",
       "      <td>0.221364</td>\n",
       "    </tr>\n",
       "    <tr>\n",
       "      <th>01-04-2016</th>\n",
       "      <td>0.3791</td>\n",
       "      <td>1.0</td>\n",
       "      <td>1.13</td>\n",
       "      <td>42107</td>\n",
       "      <td>17696.890725</td>\n",
       "      <td>0.37</td>\n",
       "      <td>0.187619</td>\n",
       "      <td>0.263500</td>\n",
       "    </tr>\n",
       "    <tr>\n",
       "      <th>01-05-2016</th>\n",
       "      <td>0.3858</td>\n",
       "      <td>1.0</td>\n",
       "      <td>1.02</td>\n",
       "      <td>42064</td>\n",
       "      <td>17616.657836</td>\n",
       "      <td>0.37</td>\n",
       "      <td>0.226190</td>\n",
       "      <td>0.260870</td>\n",
       "    </tr>\n",
       "    <tr>\n",
       "      <th>01-06-2016</th>\n",
       "      <td>0.3855</td>\n",
       "      <td>1.0</td>\n",
       "      <td>1.00</td>\n",
       "      <td>42058</td>\n",
       "      <td>17691.227102</td>\n",
       "      <td>0.38</td>\n",
       "      <td>0.221364</td>\n",
       "      <td>0.191429</td>\n",
       "    </tr>\n",
       "    <tr>\n",
       "      <th>01-07-2016</th>\n",
       "      <td>0.4061</td>\n",
       "      <td>1.0</td>\n",
       "      <td>0.83</td>\n",
       "      <td>42163</td>\n",
       "      <td>17648.556072</td>\n",
       "      <td>0.39</td>\n",
       "      <td>0.263500</td>\n",
       "      <td>0.244000</td>\n",
       "    </tr>\n",
       "  </tbody>\n",
       "</table>\n",
       "</div>"
      ],
      "text/plain": [
       "            Libor 1M  Interest Rates  Inflation  GDP per capita   GDP history  \\\n",
       "Date                                                                            \n",
       "01-03-2016    0.3679             1.0       0.85           42189  17716.406119   \n",
       "01-04-2016    0.3791             1.0       1.13           42107  17696.890725   \n",
       "01-05-2016    0.3858             1.0       1.02           42064  17616.657836   \n",
       "01-06-2016    0.3855             1.0       1.00           42058  17691.227102   \n",
       "01-07-2016    0.4061             1.0       0.83           42163  17648.556072   \n",
       "\n",
       "            Fedfunds  Treasury Rates  Treasury Rates_lag3  \n",
       "Date                                                       \n",
       "01-03-2016      0.36        0.253182             0.221364  \n",
       "01-04-2016      0.37        0.187619             0.263500  \n",
       "01-05-2016      0.37        0.226190             0.260870  \n",
       "01-06-2016      0.38        0.221364             0.191429  \n",
       "01-07-2016      0.39        0.263500             0.244000  "
      ]
     },
     "execution_count": 87,
     "metadata": {},
     "output_type": "execute_result"
    }
   ],
   "source": [
    "#df[\"Treasury Rates_lag1\"]=df[\"Treasury Rates\"].shift(-1)\n",
    "#df[\"Treasury Rates_lag2\"]=df[\"Treasury Rates\"].shift(-2)\n",
    "df[\"Treasury Rates_lag3\"]=df[\"Treasury Rates\"].shift(-3)\n",
    "df.dropna(inplace=True)\n",
    "df.head()"
   ]
  },
  {
   "cell_type": "code",
   "execution_count": 132,
   "metadata": {},
   "outputs": [
    {
     "data": {
      "text/html": [
       "<div>\n",
       "<style scoped>\n",
       "    .dataframe tbody tr th:only-of-type {\n",
       "        vertical-align: middle;\n",
       "    }\n",
       "\n",
       "    .dataframe tbody tr th {\n",
       "        vertical-align: top;\n",
       "    }\n",
       "\n",
       "    .dataframe thead th {\n",
       "        text-align: right;\n",
       "    }\n",
       "</style>\n",
       "<table border=\"1\" class=\"dataframe\">\n",
       "  <thead>\n",
       "    <tr style=\"text-align: right;\">\n",
       "      <th></th>\n",
       "      <th>Libor 1M</th>\n",
       "      <th>BGCR Repo rates</th>\n",
       "      <th>BGCR Repo rates_lag3</th>\n",
       "    </tr>\n",
       "    <tr>\n",
       "      <th>Date</th>\n",
       "      <th></th>\n",
       "      <th></th>\n",
       "      <th></th>\n",
       "    </tr>\n",
       "  </thead>\n",
       "  <tbody>\n",
       "    <tr>\n",
       "      <th>01-09-2020</th>\n",
       "      <td>0.08125</td>\n",
       "      <td>0.061905</td>\n",
       "      <td>0.065000</td>\n",
       "    </tr>\n",
       "    <tr>\n",
       "      <th>01-10-2020</th>\n",
       "      <td>0.08175</td>\n",
       "      <td>0.060952</td>\n",
       "      <td>0.050526</td>\n",
       "    </tr>\n",
       "    <tr>\n",
       "      <th>01-11-2020</th>\n",
       "      <td>0.08113</td>\n",
       "      <td>0.065263</td>\n",
       "      <td>0.028947</td>\n",
       "    </tr>\n",
       "    <tr>\n",
       "      <th>01-12-2020</th>\n",
       "      <td>0.08050</td>\n",
       "      <td>0.065000</td>\n",
       "      <td>0.011304</td>\n",
       "    </tr>\n",
       "    <tr>\n",
       "      <th>01-01-2021</th>\n",
       "      <td>0.08463</td>\n",
       "      <td>0.050526</td>\n",
       "      <td>0.010000</td>\n",
       "    </tr>\n",
       "  </tbody>\n",
       "</table>\n",
       "</div>"
      ],
      "text/plain": [
       "            Libor 1M  BGCR Repo rates  BGCR Repo rates_lag3\n",
       "Date                                                       \n",
       "01-09-2020   0.08125         0.061905              0.065000\n",
       "01-10-2020   0.08175         0.060952              0.050526\n",
       "01-11-2020   0.08113         0.065263              0.028947\n",
       "01-12-2020   0.08050         0.065000              0.011304\n",
       "01-01-2021   0.08463         0.050526              0.010000"
      ]
     },
     "execution_count": 132,
     "metadata": {},
     "output_type": "execute_result"
    }
   ],
   "source": [
    "#df[\"BGCR Repo rates_lag1\"]=df[\"BGCR Repo rates\"].shift(-1)\n",
    "#df[\"BGCR Repo rates_lag2\"]=df[\"BGCR Repo rates\"].shift(-2)\n",
    "df[\"BGCR Repo rates_lag3\"]=df[\"BGCR Repo rates\"].shift(-3)\n",
    "df.dropna(inplace=True)\n",
    "df.tail()"
   ]
  },
  {
   "cell_type": "code",
   "execution_count": 33,
   "metadata": {},
   "outputs": [
    {
     "name": "stdout",
     "output_type": "stream",
     "text": [
      "Pearsons correlation: 0.434\n"
     ]
    }
   ],
   "source": [
    "from scipy.stats import pearsonr\n",
    "corr, _ = pearsonr(df[\"Inflation\"], df[\"Libor 1M\"])\n",
    "print('Pearsons correlation: %.3f' % corr)"
   ]
  },
  {
   "cell_type": "code",
   "execution_count": 14,
   "metadata": {},
   "outputs": [
    {
     "name": "stdout",
     "output_type": "stream",
     "text": [
      "Pearsons correlation: 0.911\n"
     ]
    }
   ],
   "source": [
    "from scipy.stats import pearsonr\n",
    "corr, _ = pearsonr(df[\"Interest Rates\"], df[\"Libor 1M\"])\n",
    "print('Pearsons correlation: %.3f' % corr)"
   ]
  },
  {
   "cell_type": "code",
   "execution_count": 90,
   "metadata": {},
   "outputs": [
    {
     "name": "stdout",
     "output_type": "stream",
     "text": [
      "Pearsons correlation: -0.182\n"
     ]
    }
   ],
   "source": [
    "from scipy.stats import pearsonr\n",
    "corr, _ = pearsonr(df[\"GDP per capita\"], df[\"Libor 1M\"])\n",
    "print('Pearsons correlation: %.3f' % corr)"
   ]
  },
  {
   "cell_type": "code",
   "execution_count": 141,
   "metadata": {},
   "outputs": [
    {
     "name": "stdout",
     "output_type": "stream",
     "text": [
      "Pearsons correlation: 0.590\n"
     ]
    }
   ],
   "source": [
    "from scipy.stats import pearsonr\n",
    "corr, _ = pearsonr(df[\"GDP history\"], df[\"Libor 1M\"])\n",
    "print('Pearsons correlation: %.3f' % corr)"
   ]
  },
  {
   "cell_type": "code",
   "execution_count": 6,
   "metadata": {},
   "outputs": [
    {
     "name": "stdout",
     "output_type": "stream",
     "text": [
      "Pearsons correlation: 0.988\n"
     ]
    }
   ],
   "source": [
    "from scipy.stats import pearsonr\n",
    "corr, _ = pearsonr(df[\"Fedfunds\"], df[\"Libor 1M\"])\n",
    "print('Pearsons correlation: %.3f' % corr)"
   ]
  },
  {
   "cell_type": "code",
   "execution_count": 53,
   "metadata": {},
   "outputs": [
    {
     "name": "stdout",
     "output_type": "stream",
     "text": [
      "Pearsons correlation: 0.978\n"
     ]
    }
   ],
   "source": [
    "from scipy.stats import pearsonr\n",
    "corr, _ = pearsonr(df[\"Treasury Rates\"], df[\"Libor 1M\"])\n",
    "print('Pearsons correlation: %.3f' % corr)"
   ]
  },
  {
   "cell_type": "code",
   "execution_count": 103,
   "metadata": {},
   "outputs": [
    {
     "name": "stdout",
     "output_type": "stream",
     "text": [
      "Pearsons correlation: 0.985\n"
     ]
    }
   ],
   "source": [
    "from scipy.stats import pearsonr\n",
    "corr, _ = pearsonr(df[\"BGCR Repo rates\"], df[\"Libor 1M\"])\n",
    "print('Pearsons correlation: %.3f' % corr)"
   ]
  },
  {
   "cell_type": "code",
   "execution_count": 133,
   "metadata": {},
   "outputs": [
    {
     "data": {
      "text/html": [
       "<div>\n",
       "<style scoped>\n",
       "    .dataframe tbody tr th:only-of-type {\n",
       "        vertical-align: middle;\n",
       "    }\n",
       "\n",
       "    .dataframe tbody tr th {\n",
       "        vertical-align: top;\n",
       "    }\n",
       "\n",
       "    .dataframe thead th {\n",
       "        text-align: right;\n",
       "    }\n",
       "</style>\n",
       "<table border=\"1\" class=\"dataframe\">\n",
       "  <thead>\n",
       "    <tr style=\"text-align: right;\">\n",
       "      <th></th>\n",
       "      <th>Libor 1M</th>\n",
       "      <th>BGCR Repo rates_lag3</th>\n",
       "    </tr>\n",
       "    <tr>\n",
       "      <th>Date</th>\n",
       "      <th></th>\n",
       "      <th></th>\n",
       "    </tr>\n",
       "  </thead>\n",
       "  <tbody>\n",
       "    <tr>\n",
       "      <th>01-09-2020</th>\n",
       "      <td>0.08125</td>\n",
       "      <td>0.065000</td>\n",
       "    </tr>\n",
       "    <tr>\n",
       "      <th>01-10-2020</th>\n",
       "      <td>0.08175</td>\n",
       "      <td>0.050526</td>\n",
       "    </tr>\n",
       "    <tr>\n",
       "      <th>01-11-2020</th>\n",
       "      <td>0.08113</td>\n",
       "      <td>0.028947</td>\n",
       "    </tr>\n",
       "    <tr>\n",
       "      <th>01-12-2020</th>\n",
       "      <td>0.08050</td>\n",
       "      <td>0.011304</td>\n",
       "    </tr>\n",
       "    <tr>\n",
       "      <th>01-01-2021</th>\n",
       "      <td>0.08463</td>\n",
       "      <td>0.010000</td>\n",
       "    </tr>\n",
       "  </tbody>\n",
       "</table>\n",
       "</div>"
      ],
      "text/plain": [
       "            Libor 1M  BGCR Repo rates_lag3\n",
       "Date                                      \n",
       "01-09-2020   0.08125              0.065000\n",
       "01-10-2020   0.08175              0.050526\n",
       "01-11-2020   0.08113              0.028947\n",
       "01-12-2020   0.08050              0.011304\n",
       "01-01-2021   0.08463              0.010000"
      ]
     },
     "execution_count": 133,
     "metadata": {},
     "output_type": "execute_result"
    }
   ],
   "source": [
    "# df=df[[\"Libor 1M\",\"Inflation\"]]\n",
    "df=df[[\"Libor 1M\",\"BGCR Repo rates_lag3\"]]\n",
    "df.tail()"
   ]
  },
  {
   "cell_type": "code",
   "execution_count": 134,
   "metadata": {},
   "outputs": [
    {
     "name": "stdout",
     "output_type": "stream",
     "text": [
      "[1.0, 1.0, 1.0, 1.0, 1.0, 1.0, 1.0, 1.0, 1.0, 1.0]\n",
      "[0.3893, 0.8214, 0.632, 0.7681, 0.8296, 0.0007, 0.001, 0.0004, 0.0, 0.0]\n",
      "[0.0002, 0.0, 0.0, 0.0, 0.0, 0.0, 0.0, 0.0, 0.0, 0.0]\n",
      "[1.0, 1.0, 1.0, 1.0, 1.0, 1.0, 1.0, 1.0, 1.0, 1.0]\n"
     ]
    },
    {
     "data": {
      "text/html": [
       "<div>\n",
       "<style scoped>\n",
       "    .dataframe tbody tr th:only-of-type {\n",
       "        vertical-align: middle;\n",
       "    }\n",
       "\n",
       "    .dataframe tbody tr th {\n",
       "        vertical-align: top;\n",
       "    }\n",
       "\n",
       "    .dataframe thead th {\n",
       "        text-align: right;\n",
       "    }\n",
       "</style>\n",
       "<table border=\"1\" class=\"dataframe\">\n",
       "  <thead>\n",
       "    <tr style=\"text-align: right;\">\n",
       "      <th></th>\n",
       "      <th>Libor 1M_x</th>\n",
       "      <th>BGCR Repo rates_lag3_x</th>\n",
       "    </tr>\n",
       "  </thead>\n",
       "  <tbody>\n",
       "    <tr>\n",
       "      <th>Libor 1M_y</th>\n",
       "      <td>1.0</td>\n",
       "      <td>0.0</td>\n",
       "    </tr>\n",
       "    <tr>\n",
       "      <th>BGCR Repo rates_lag3_y</th>\n",
       "      <td>0.0</td>\n",
       "      <td>1.0</td>\n",
       "    </tr>\n",
       "  </tbody>\n",
       "</table>\n",
       "</div>"
      ],
      "text/plain": [
       "                        Libor 1M_x  BGCR Repo rates_lag3_x\n",
       "Libor 1M_y                     1.0                     0.0\n",
       "BGCR Repo rates_lag3_y         0.0                     1.0"
      ]
     },
     "execution_count": 134,
     "metadata": {},
     "output_type": "execute_result"
    }
   ],
   "source": [
    "#GRANGER'S CAUSALITY TEST TO DETERMINE THE PRESENCE OF RELATIONSHIPS BETWEEN TIME SERIES.\n",
    "from statsmodels.tsa.stattools import grangercausalitytests\n",
    "maxlag=10\n",
    "test = 'ssr_chi2test'\n",
    "def grangers_causation_matrix(data, variables, test='ssr_chi2test', verbose=False):    \n",
    "    \"\"\"Check Granger Causality of all possible combinations of the Time series.\n",
    "    The rows are the response variable, columns are predictors. The values in the table \n",
    "    are the P-Values. P-Values lesser than the significance level (0.05), implies \n",
    "    the Null Hypothesis that the coefficients of the corresponding past values is \n",
    "    zero, that is, the X does not cause Y can be rejected.\n",
    "\n",
    "    data      : pandas dataframe containing the time series variables\n",
    "    variables : list containing names of the time series variables.\n",
    "    \"\"\"\n",
    "    df = pd.DataFrame(np.zeros((len(variables), len(variables))), columns=variables, index=variables)\n",
    "    for c in df.columns:\n",
    "        for r in df.index:\n",
    "            test_result = grangercausalitytests(data[[r, c]], maxlag=maxlag, verbose=False)\n",
    "            p_values = [round(test_result[i+1][0][test][1],4) for i in range(maxlag)]\n",
    "            print(p_values)\n",
    "            if verbose: print(f'Y = {r}, X = {c}, P Values = {p_values}')\n",
    "            min_p_value = np.min(p_values)\n",
    "            df.loc[r, c] = min_p_value\n",
    "    df.columns = [var + '_x' for var in variables]\n",
    "    df.index = [var + '_y' for var in variables]\n",
    "    return df\n",
    "\n",
    "grangers_causation_matrix(df, variables = df.columns) "
   ]
  },
  {
   "cell_type": "code",
   "execution_count": 135,
   "metadata": {},
   "outputs": [
    {
     "name": "stdout",
     "output_type": "stream",
     "text": [
      "3\n",
      "(31, 2)\n",
      "(3, 2)\n"
     ]
    }
   ],
   "source": [
    "#TRAIN-TEST SPLIT\n",
    "\n",
    "nobs = int(0.1*len(df))\n",
    "print(nobs)\n",
    "df_train, df_test = df.iloc[:-nobs,:], df.iloc[-nobs:,:]\n",
    "\n",
    "# Check size\n",
    "print(df_train.shape)  # (119, 8)\n",
    "print(df_test.shape)  # (4, 8)"
   ]
  },
  {
   "cell_type": "code",
   "execution_count": 136,
   "metadata": {},
   "outputs": [
    {
     "name": "stdout",
     "output_type": "stream",
     "text": [
      "    Augmented Dickey-Fuller Test on \"Libor 1M\" \n",
      "    -----------------------------------------------\n",
      " Null Hypothesis: Data has unit root. Non-Stationary.\n",
      " Significance Level    = 0.05\n",
      " Test Statistic        = -0.0637\n",
      " No. Lags Chosen       = 0\n",
      " Critical value 1%     = -3.67\n",
      " Critical value 5%     = -2.964\n",
      " Critical value 10%    = -2.621\n",
      " => P-Value = 0.9529. Weak evidence to reject the Null Hypothesis.\n",
      " => Series is Non-Stationary.\n",
      "\n",
      "\n",
      "    Augmented Dickey-Fuller Test on \"BGCR Repo rates_lag3\" \n",
      "    -----------------------------------------------\n",
      " Null Hypothesis: Data has unit root. Non-Stationary.\n",
      " Significance Level    = 0.05\n",
      " Test Statistic        = -0.0333\n",
      " No. Lags Chosen       = 0\n",
      " Critical value 1%     = -3.67\n",
      " Critical value 5%     = -2.964\n",
      " Critical value 10%    = -2.621\n",
      " => P-Value = 0.9557. Weak evidence to reject the Null Hypothesis.\n",
      " => Series is Non-Stationary.\n",
      "\n",
      "\n"
     ]
    }
   ],
   "source": [
    "#AUGMENTED DICKEY-FULLER TEST FOR STATIONARITY\n",
    "\n",
    "def adfuller_test(series, signif=0.05, name='', verbose=False):\n",
    "    \"\"\"Perform ADFuller to test for Stationarity of given series and print report\"\"\"\n",
    "    r = adfuller(series, autolag='AIC')\n",
    "    output = {'test_statistic':round(r[0], 4), 'pvalue':round(r[1], 4), 'n_lags':round(r[2], 4), 'n_obs':r[3]}\n",
    "    p_value = output['pvalue'] \n",
    "    def adjust(val, length= 6): return str(val).ljust(length)\n",
    "\n",
    "    # Print Summary\n",
    "    print(f'    Augmented Dickey-Fuller Test on \"{name}\"', \"\\n   \", '-'*47)\n",
    "    print(f' Null Hypothesis: Data has unit root. Non-Stationary.')\n",
    "    print(f' Significance Level    = {signif}')\n",
    "    print(f' Test Statistic        = {output[\"test_statistic\"]}')\n",
    "    print(f' No. Lags Chosen       = {output[\"n_lags\"]}')\n",
    "\n",
    "    for key,val in r[4].items():\n",
    "        print(f' Critical value {adjust(key)} = {round(val, 3)}')\n",
    "\n",
    "    if p_value <= signif:\n",
    "        print(f\" => P-Value = {p_value}. Rejecting Null Hypothesis.\")\n",
    "        print(f\" => Series is Stationary.\")\n",
    "    else:\n",
    "        print(f\" => P-Value = {p_value}. Weak evidence to reject the Null Hypothesis.\")\n",
    "        print(f\" => Series is Non-Stationary.\")\n",
    "          \n",
    "# ADF Test on each column\n",
    "for name, column in df_train.iteritems():\n",
    "    adfuller_test(column, name=column.name)\n",
    "    print('\\n')"
   ]
  },
  {
   "cell_type": "code",
   "execution_count": 137,
   "metadata": {},
   "outputs": [
    {
     "name": "stdout",
     "output_type": "stream",
     "text": [
      "    Augmented Dickey-Fuller Test on \"Libor 1M\" \n",
      "    -----------------------------------------------\n",
      " Null Hypothesis: Data has unit root. Non-Stationary.\n",
      " Significance Level    = 0.05\n",
      " Test Statistic        = -5.0866\n",
      " No. Lags Chosen       = 0\n",
      " Critical value 1%     = -3.679\n",
      " Critical value 5%     = -2.968\n",
      " Critical value 10%    = -2.623\n",
      " => P-Value = 0.0. Rejecting Null Hypothesis.\n",
      " => Series is Stationary.\n",
      "\n",
      "\n",
      "    Augmented Dickey-Fuller Test on \"BGCR Repo rates_lag3\" \n",
      "    -----------------------------------------------\n",
      " Null Hypothesis: Data has unit root. Non-Stationary.\n",
      " Significance Level    = 0.05\n",
      " Test Statistic        = -3.9834\n",
      " No. Lags Chosen       = 0\n",
      " Critical value 1%     = -3.679\n",
      " Critical value 5%     = -2.968\n",
      " Critical value 10%    = -2.623\n",
      " => P-Value = 0.0015. Rejecting Null Hypothesis.\n",
      " => Series is Stationary.\n",
      "\n",
      "\n"
     ]
    }
   ],
   "source": [
    "# 1st difference\n",
    "df_differenced = df_train.diff().dropna()\n",
    "df_diff=pd.DataFrame()\n",
    "columns=df_train.columns\n",
    "for col in columns:\n",
    "    \n",
    "    df_diff[str(col)+\"difference1\"]=df_train[str(col)].diff()\n",
    "# ADF Test on each column of 1st Differences Dataframe\n",
    "for name, column in df_differenced.iteritems():\n",
    "    adfuller_test(column, name=column.name)\n",
    "    print('\\n')"
   ]
  },
  {
   "cell_type": "code",
   "execution_count": 93,
   "metadata": {},
   "outputs": [
    {
     "name": "stdout",
     "output_type": "stream",
     "text": [
      "    Augmented Dickey-Fuller Test on \"Libor 1M\" \n",
      "    -----------------------------------------------\n",
      " Null Hypothesis: Data has unit root. Non-Stationary.\n",
      " Significance Level    = 0.05\n",
      " Test Statistic        = -7.9681\n",
      " No. Lags Chosen       = 4\n",
      " Critical value 1%     = -3.578\n",
      " Critical value 5%     = -2.925\n",
      " Critical value 10%    = -2.601\n",
      " => P-Value = 0.0. Rejecting Null Hypothesis.\n",
      " => Series is Stationary.\n",
      "\n",
      "\n",
      "    Augmented Dickey-Fuller Test on \"Treasury Rates_lag3\" \n",
      "    -----------------------------------------------\n",
      " Null Hypothesis: Data has unit root. Non-Stationary.\n",
      " Significance Level    = 0.05\n",
      " Test Statistic        = -6.3003\n",
      " No. Lags Chosen       = 3\n",
      " Critical value 1%     = -3.575\n",
      " Critical value 5%     = -2.924\n",
      " Critical value 10%    = -2.6\n",
      " => P-Value = 0.0. Rejecting Null Hypothesis.\n",
      " => Series is Stationary.\n",
      "\n",
      "\n"
     ]
    }
   ],
   "source": [
    "# 2nd difference\n",
    "df_differenced = df_differenced.diff().dropna()\n",
    "for col in columns:\n",
    "    \n",
    "    df_diff[str(col)+\"difference2\"]=df_diff[str(col)+\"difference1\"].diff()\n",
    "# df_diff[\"difference2\"]=df_diff[\"difference1\"].diff()\n",
    "# ADF Test on each column of 1st Differences Dataframe\n",
    "for name, column in df_differenced.iteritems():\n",
    "    adfuller_test(column, name=column.name)\n",
    "    print('\\n')"
   ]
  },
  {
   "cell_type": "code",
   "execution_count": 61,
   "metadata": {},
   "outputs": [
    {
     "name": "stdout",
     "output_type": "stream",
     "text": [
      "    Augmented Dickey-Fuller Test on \"Libor 1M\" \n",
      "    -----------------------------------------------\n",
      " Null Hypothesis: Data has unit root. Non-Stationary.\n",
      " Significance Level    = 0.05\n",
      " Test Statistic        = -5.8553\n",
      " No. Lags Chosen       = 8\n",
      " Critical value 1%     = -3.593\n",
      " Critical value 5%     = -2.932\n",
      " Critical value 10%    = -2.604\n",
      " => P-Value = 0.0. Rejecting Null Hypothesis.\n",
      " => Series is Stationary.\n",
      "\n",
      "\n",
      "    Augmented Dickey-Fuller Test on \"Treasury Rates_lag1\" \n",
      "    -----------------------------------------------\n",
      " Null Hypothesis: Data has unit root. Non-Stationary.\n",
      " Significance Level    = 0.05\n",
      " Test Statistic        = -3.7465\n",
      " No. Lags Chosen       = 9\n",
      " Critical value 1%     = -3.597\n",
      " Critical value 5%     = -2.933\n",
      " Critical value 10%    = -2.605\n",
      " => P-Value = 0.0035. Rejecting Null Hypothesis.\n",
      " => Series is Stationary.\n",
      "\n",
      "\n"
     ]
    }
   ],
   "source": [
    "# 3rd difference\n",
    "df_differenced = df_differenced.diff().dropna()\n",
    "for col in columns:\n",
    "    \n",
    "    df_diff[str(col)+\"difference3\"]=df_diff[str(col)+\"difference2\"].diff()\n",
    "#df_diff[\"difference3\"]=df_diff[\"difference2\"].diff()\n",
    "# ADF Test on each column of 1st Differences Dataframe\n",
    "for name, column in df_differenced.iteritems():\n",
    "    adfuller_test(column, name=column.name)\n",
    "    print('\\n')"
   ]
  },
  {
   "cell_type": "code",
   "execution_count": 138,
   "metadata": {},
   "outputs": [
    {
     "name": "stdout",
     "output_type": "stream",
     "text": [
      "Lag Order = 1\n",
      "AIC :  -5.023631411215451\n",
      "Lag Order = 2\n",
      "AIC :  -4.69523551073953\n",
      "Lag Order = 3\n",
      "AIC :  -4.80776697609249\n",
      "Lag Order = 4\n",
      "AIC :  -5.818239654967616\n",
      "Lag Order = 5\n",
      "AIC :  -6.100413847921617\n",
      "Lag Order = 6\n",
      "AIC :  -5.896830389359087\n",
      "Lag Order = 7\n",
      "AIC :  -5.999018254414637\n",
      "Lag Order = 8\n",
      "AIC :  -6.092807639180328\n",
      "Lag Order = 9\n",
      "AIC :  -7.7934687228811885\n"
     ]
    },
    {
     "name": "stderr",
     "output_type": "stream",
     "text": [
      "/home/user/Desktop/env2/lib/python3.6/site-packages/statsmodels/tsa/base/tsa_model.py:218: ValueWarning: A date index has been provided, but it has no associated frequency information and so will be ignored when e.g. forecasting.\n",
      "  ' ignored when e.g. forecasting.', ValueWarning)\n"
     ]
    }
   ],
   "source": [
    "#SELECT ORDER OF THE VAR MODEL [P]\n",
    "\n",
    "model = VAR(df_differenced)\n",
    "#model = VAR(df)\n",
    "for i in [1,2,3,4,5,6,7,8,9]:\n",
    "    result = model.fit(i)\n",
    "    print('Lag Order =', i)\n",
    "    print('AIC : ', result.aic)\n"
   ]
  },
  {
   "cell_type": "code",
   "execution_count": 139,
   "metadata": {},
   "outputs": [
    {
     "data": {
      "text/plain": [
       "  Summary of Regression Results   \n",
       "==================================\n",
       "Model:                         VAR\n",
       "Method:                        OLS\n",
       "Date:           Mon, 03, May, 2021\n",
       "Time:                     12:42:19\n",
       "--------------------------------------------------------------------\n",
       "No. of Equations:         2.00000    BIC:                   -4.13585\n",
       "Nobs:                     27.0000    HQIC:                  -4.60797\n",
       "Log likelihood:           2.28217    FPE:                 0.00836627\n",
       "AIC:                     -4.80777    Det(Omega_mle):      0.00527596\n",
       "--------------------------------------------------------------------\n",
       "Results for equation Libor 1M\n",
       "==========================================================================================\n",
       "                             coefficient       std. error           t-stat            prob\n",
       "------------------------------------------------------------------------------------------\n",
       "const                          -0.031360         0.059851           -0.524           0.600\n",
       "L1.Libor 1M                     0.046171         0.177937            0.259           0.795\n",
       "L1.BGCR Repo rates_lag3         0.084719         0.227490            0.372           0.710\n",
       "L2.Libor 1M                    -0.027307         0.178030           -0.153           0.878\n",
       "L2.BGCR Repo rates_lag3        -0.290454         0.231764           -1.253           0.210\n",
       "L3.Libor 1M                     0.004932         0.179960            0.027           0.978\n",
       "L3.BGCR Repo rates_lag3         0.729534         0.224423            3.251           0.001\n",
       "==========================================================================================\n",
       "\n",
       "Results for equation BGCR Repo rates_lag3\n",
       "==========================================================================================\n",
       "                             coefficient       std. error           t-stat            prob\n",
       "------------------------------------------------------------------------------------------\n",
       "const                          -0.057841         0.057454           -1.007           0.314\n",
       "L1.Libor 1M                     0.052033         0.170810            0.305           0.761\n",
       "L1.BGCR Repo rates_lag3         0.255203         0.218378            1.169           0.243\n",
       "L2.Libor 1M                     0.107688         0.170900            0.630           0.529\n",
       "L2.BGCR Repo rates_lag3        -0.119085         0.222481           -0.535           0.592\n",
       "L3.Libor 1M                     0.009922         0.172752            0.057           0.954\n",
       "L3.BGCR Repo rates_lag3         0.010461         0.215434            0.049           0.961\n",
       "==========================================================================================\n",
       "\n",
       "Correlation matrix of residuals\n",
       "                        Libor 1M  BGCR Repo rates_lag3\n",
       "Libor 1M                1.000000             -0.029601\n",
       "BGCR Repo rates_lag3   -0.029601              1.000000\n",
       "\n"
      ]
     },
     "execution_count": 139,
     "metadata": {},
     "output_type": "execute_result"
    }
   ],
   "source": [
    "#TRAINING THE MODEL\n",
    "\n",
    "model_fitted = model.fit(3)  #place the lag value as parameter\n",
    "model_fitted.summary()"
   ]
  },
  {
   "cell_type": "code",
   "execution_count": 140,
   "metadata": {},
   "outputs": [
    {
     "name": "stdout",
     "output_type": "stream",
     "text": [
      "3\n",
      "            Libor 1M  BGCR Repo rates_lag3\n",
      "Date                                      \n",
      "01-05-2018   0.00250              0.010186\n",
      "01-06-2018   0.00762              0.043799\n",
      "01-07-2018   0.21775              0.220885\n",
      "01-08-2018  -0.01412              0.038273\n",
      "01-09-2018  -0.00200              0.124526\n",
      "01-10-2018   0.25712              0.113283\n",
      "01-11-2018   0.00463             -0.060652\n",
      "01-12-2018   0.00075              0.010652\n",
      "01-01-2019   0.21062              0.051429\n",
      "01-02-2019  -0.01275             -0.051602\n",
      "01-03-2019   0.01088             -0.021136\n",
      "01-04-2019   0.00325              0.060682\n",
      "01-05-2019   0.00375             -0.316818\n",
      "01-06-2019  -0.03188              0.139136\n",
      "01-07-2019  -0.00025             -0.419591\n",
      "01-08-2019  -0.24750             -0.294856\n",
      "01-09-2019  -0.02100             -0.025815\n",
      "01-10-2019  -0.26512              0.005238\n",
      "01-11-2019  -0.23400              0.047419\n",
      "01-12-2019  -0.05150             -0.968349\n",
      "01-01-2020  -0.00013             -0.583355\n",
      "01-02-2020   0.02500              0.020310\n",
      "01-03-2020   0.00913              0.023955\n",
      "01-04-2020  -1.46588              0.020000\n",
      "01-05-2020  -0.05037             -0.016169\n",
      "01-06-2020   0.00362             -0.002381\n",
      "01-07-2020   0.01463             -0.000952\n",
      "01-08-2020   0.01237              0.004311\n",
      "01-09-2020  -0.00775             -0.000263\n",
      "01-10-2020   0.00050             -0.014474\n"
     ]
    },
    {
     "data": {
      "text/plain": [
       "array([[ 0.01237   ,  0.00431078],\n",
       "       [-0.00775   , -0.00026316],\n",
       "       [ 0.0005    , -0.01447368]])"
      ]
     },
     "execution_count": 140,
     "metadata": {},
     "output_type": "execute_result"
    }
   ],
   "source": [
    "# Get the lag order\n",
    "lag_order = model_fitted.k_ar\n",
    "print(lag_order)  #> 4\n",
    "\n",
    "# Input data for forecasting\n",
    "print(df_differenced)\n",
    "forecast_input = df_differenced.values[-lag_order:]\n",
    "forecast_input"
   ]
  },
  {
   "cell_type": "code",
   "execution_count": 141,
   "metadata": {},
   "outputs": [
    {
     "data": {
      "text/html": [
       "<div>\n",
       "<style scoped>\n",
       "    .dataframe tbody tr th:only-of-type {\n",
       "        vertical-align: middle;\n",
       "    }\n",
       "\n",
       "    .dataframe tbody tr th {\n",
       "        vertical-align: top;\n",
       "    }\n",
       "\n",
       "    .dataframe thead th {\n",
       "        text-align: right;\n",
       "    }\n",
       "</style>\n",
       "<table border=\"1\" class=\"dataframe\">\n",
       "  <thead>\n",
       "    <tr style=\"text-align: right;\">\n",
       "      <th></th>\n",
       "      <th>Libor 1M_1d</th>\n",
       "      <th>BGCR Repo rates_lag3_1d</th>\n",
       "    </tr>\n",
       "    <tr>\n",
       "      <th>Date</th>\n",
       "      <th></th>\n",
       "      <th></th>\n",
       "    </tr>\n",
       "  </thead>\n",
       "  <tbody>\n",
       "    <tr>\n",
       "      <th>01-11-2020</th>\n",
       "      <td>-0.029070</td>\n",
       "      <td>-0.062144</td>\n",
       "    </tr>\n",
       "    <tr>\n",
       "      <th>01-12-2020</th>\n",
       "      <td>-0.034007</td>\n",
       "      <td>-0.073515</td>\n",
       "    </tr>\n",
       "    <tr>\n",
       "      <th>01-01-2021</th>\n",
       "      <td>-0.030871</td>\n",
       "      <td>-0.074248</td>\n",
       "    </tr>\n",
       "  </tbody>\n",
       "</table>\n",
       "</div>"
      ],
      "text/plain": [
       "            Libor 1M_1d  BGCR Repo rates_lag3_1d\n",
       "Date                                            \n",
       "01-11-2020    -0.029070                -0.062144\n",
       "01-12-2020    -0.034007                -0.073515\n",
       "01-01-2021    -0.030871                -0.074248"
      ]
     },
     "execution_count": 141,
     "metadata": {},
     "output_type": "execute_result"
    }
   ],
   "source": [
    "# Forecast\n",
    "od=1  #order of difference to make it stationary\n",
    "fc = model_fitted.forecast(y=forecast_input, steps=nobs)\n",
    "df_forecast = pd.DataFrame(fc, index=df.index[-nobs:], columns=df.columns + '_'+str(od)+'d')\n",
    "df_forecast"
   ]
  },
  {
   "cell_type": "code",
   "execution_count": 142,
   "metadata": {},
   "outputs": [
    {
     "name": "stdout",
     "output_type": "stream",
     "text": [
      "            Libor 1M_1d  BGCR Repo rates_lag3_1d  Libor 1M forecast  \\\n",
      "Date                                                                  \n",
      "01-11-2020    -0.029070                -0.062144           0.052680   \n",
      "01-12-2020    -0.034007                -0.073515           0.018673   \n",
      "01-01-2021    -0.030871                -0.074248          -0.012198   \n",
      "\n",
      "            BGCR Repo rates_lag3 forecast  \n",
      "Date                                       \n",
      "01-11-2020                      -0.011618  \n",
      "01-12-2020                      -0.085133  \n",
      "01-01-2021                      -0.159380  \n"
     ]
    }
   ],
   "source": [
    "#INVERT TRANSFORMATION TO GET REAL FORECAST\n",
    "def invert(ori,diff_data):\n",
    "    last_val=ori[-1]\n",
    "    data=[]\n",
    "    for idx,i in enumerate(diff_data):\n",
    "        #print(idx,i+last_val)\n",
    "        last_val+=i\n",
    "        data.append(last_val)\n",
    "    #print(len(data))\n",
    "    return data\n",
    "\n",
    "def invert_transformation(df_train, df_forecast,df_diff, difference):\n",
    "    \"\"\"Revert back the differencing to get the forecast to original scale.\"\"\"\n",
    "    df_fc = df_forecast.copy()\n",
    "    columns = df_train.columns\n",
    "    for col in columns:   \n",
    "        if difference==3:\n",
    "            df_fc[str(col)+\"_2d\"]=invert(list(df_diff[str(col)+\"difference2\"].values),list(df_fc[str(col)+\"_3d\"].values))\n",
    "            df_fc[str(col)+\"_1d\"]=invert(list(df_diff[str(col)+\"difference1\"].values),list(df_fc[str(col)+\"_2d\"].values))\n",
    "            df_fc[str(col)+\" forecast\"]=invert(list(df_train[str(col)].values),list(df_fc[str(col)+\"_1d\"].values)) \n",
    "        # Roll back 2nd Diff\n",
    "        if difference==2:\n",
    "            df_fc[str(col)+'_1d'] = (df_train[col].iloc[-1]-df_train[col].iloc[-2]) + df_fc[str(col)+'_2d'].cumsum()\n",
    "            # Roll back 1st Diff\n",
    "            df_fc[str(col)+' forecast'] = df_train[col].iloc[-1] + df_fc[str(col)+'_1d'].cumsum()\n",
    "        elif difference==1:\n",
    "            df_fc[str(col)+' forecast'] = df_train[col].iloc[-1] + df_fc[str(col)+'_1d'].cumsum()\n",
    "    return df_fc\n",
    "\n",
    "\n",
    "\n",
    "df_results_all = invert_transformation(df_train, df_forecast,df_diff, od)\n",
    "df_results=copy.deepcopy(df_results_all)\n",
    "columns=df_results_all.columns\n",
    "for col in columns:\n",
    "    if len(col.split())==1:\n",
    "        df_results.drop(col,axis=1,inplace=True)\n",
    "print(df_results)\n",
    "# df_results.loc[:, ['rgnp_forecast', 'pgnp_forecast', 'ulc_forecast', 'gdfco_forecast',\n",
    "#                    'gdf_forecast', 'gdfim_forecast', 'gdfcf_forecast', 'gdfce_forecast']]"
   ]
  },
  {
   "cell_type": "code",
   "execution_count": 139,
   "metadata": {},
   "outputs": [
    {
     "data": {
      "text/plain": [
       "Date\n",
       "01-05-2020    18160.357443\n",
       "01-06-2020    18390.400828\n",
       "01-07-2020    18571.343079\n",
       "01-08-2020    18831.846527\n",
       "01-09-2020    18956.190721\n",
       "Name: GDP history_lag1, dtype: float64"
      ]
     },
     "execution_count": 139,
     "metadata": {},
     "output_type": "execute_result"
    }
   ],
   "source": [
    "# df_forecast[\"GDP history_lag1_3d\"]\n",
    "# df_train[\"GDP history_lag1\"].tail()"
   ]
  },
  {
   "cell_type": "code",
   "execution_count": 141,
   "metadata": {},
   "outputs": [
    {
     "name": "stdout",
     "output_type": "stream",
     "text": [
      "0 -0.09895631039697564\n",
      "1 -0.027248760020810253\n",
      "2 -0.06405266910130891\n",
      "3 -0.054307195641623895\n",
      "4 -0.051480010970626315\n",
      "5 -0.05666208182960841\n",
      "6\n",
      "0 -0.10670631039697563\n",
      "1 -0.13395507041778587\n",
      "2 -0.19800773951909478\n",
      "3 -0.2523149351607187\n",
      "4 -0.303794946131345\n",
      "5 -0.3604570279609534\n",
      "6\n",
      "0 -0.02545631039697563\n",
      "1 -0.1594113808147615\n",
      "2 -0.35741912033385626\n",
      "3 -0.6097340554945749\n",
      "4 -0.9135290016259199\n",
      "5 -1.2739860295868732\n",
      "6\n",
      "0 -30.61248919828715\n",
      "1 -56.85233863272725\n",
      "2 -67.68218239504209\n",
      "3 -52.324001145775405\n",
      "4 -63.57095537409267\n",
      "5 -60.219415540366974\n",
      "6\n",
      "0 93.73170461831258\n",
      "1 36.87936598558532\n",
      "2 -30.802816409456767\n",
      "3 -83.12681755523218\n",
      "4 -146.69777292932486\n",
      "5 -206.91718846969184\n",
      "6\n",
      "0 19049.922425652512\n",
      "1 19086.801791638096\n",
      "2 19055.99897522864\n",
      "3 18972.872157673406\n",
      "4 18826.17438474408\n",
      "5 18619.25719627439\n",
      "6\n"
     ]
    },
    {
     "data": {
      "text/html": [
       "<div>\n",
       "<style scoped>\n",
       "    .dataframe tbody tr th:only-of-type {\n",
       "        vertical-align: middle;\n",
       "    }\n",
       "\n",
       "    .dataframe tbody tr th {\n",
       "        vertical-align: top;\n",
       "    }\n",
       "\n",
       "    .dataframe thead th {\n",
       "        text-align: right;\n",
       "    }\n",
       "</style>\n",
       "<table border=\"1\" class=\"dataframe\">\n",
       "  <thead>\n",
       "    <tr style=\"text-align: right;\">\n",
       "      <th></th>\n",
       "      <th>Libor 1M_2d</th>\n",
       "      <th>Libor 1M_1d</th>\n",
       "      <th>Libor 1M forecast</th>\n",
       "      <th>GDP history_lag1_2d</th>\n",
       "      <th>GDP history_lag1_1d</th>\n",
       "      <th>GDP history_lag1 forecast</th>\n",
       "    </tr>\n",
       "  </thead>\n",
       "  <tbody>\n",
       "    <tr>\n",
       "      <th>0</th>\n",
       "      <td>-0.098956</td>\n",
       "      <td>-0.106706</td>\n",
       "      <td>-0.025456</td>\n",
       "      <td>-30.612489</td>\n",
       "      <td>93.731705</td>\n",
       "      <td>19049.922426</td>\n",
       "    </tr>\n",
       "    <tr>\n",
       "      <th>1</th>\n",
       "      <td>-0.027249</td>\n",
       "      <td>-0.133955</td>\n",
       "      <td>-0.159411</td>\n",
       "      <td>-56.852339</td>\n",
       "      <td>36.879366</td>\n",
       "      <td>19086.801792</td>\n",
       "    </tr>\n",
       "    <tr>\n",
       "      <th>2</th>\n",
       "      <td>-0.064053</td>\n",
       "      <td>-0.198008</td>\n",
       "      <td>-0.357419</td>\n",
       "      <td>-67.682182</td>\n",
       "      <td>-30.802816</td>\n",
       "      <td>19055.998975</td>\n",
       "    </tr>\n",
       "    <tr>\n",
       "      <th>3</th>\n",
       "      <td>-0.054307</td>\n",
       "      <td>-0.252315</td>\n",
       "      <td>-0.609734</td>\n",
       "      <td>-52.324001</td>\n",
       "      <td>-83.126818</td>\n",
       "      <td>18972.872158</td>\n",
       "    </tr>\n",
       "    <tr>\n",
       "      <th>4</th>\n",
       "      <td>-0.051480</td>\n",
       "      <td>-0.303795</td>\n",
       "      <td>-0.913529</td>\n",
       "      <td>-63.570955</td>\n",
       "      <td>-146.697773</td>\n",
       "      <td>18826.174385</td>\n",
       "    </tr>\n",
       "    <tr>\n",
       "      <th>5</th>\n",
       "      <td>-0.056662</td>\n",
       "      <td>-0.360457</td>\n",
       "      <td>-1.273986</td>\n",
       "      <td>-60.219416</td>\n",
       "      <td>-206.917188</td>\n",
       "      <td>18619.257196</td>\n",
       "    </tr>\n",
       "  </tbody>\n",
       "</table>\n",
       "</div>"
      ],
      "text/plain": [
       "   Libor 1M_2d  Libor 1M_1d  Libor 1M forecast  GDP history_lag1_2d  \\\n",
       "0    -0.098956    -0.106706          -0.025456           -30.612489   \n",
       "1    -0.027249    -0.133955          -0.159411           -56.852339   \n",
       "2    -0.064053    -0.198008          -0.357419           -67.682182   \n",
       "3    -0.054307    -0.252315          -0.609734           -52.324001   \n",
       "4    -0.051480    -0.303795          -0.913529           -63.570955   \n",
       "5    -0.056662    -0.360457          -1.273986           -60.219416   \n",
       "\n",
       "   GDP history_lag1_1d  GDP history_lag1 forecast  \n",
       "0            93.731705               19049.922426  \n",
       "1            36.879366               19086.801792  \n",
       "2           -30.802816               19055.998975  \n",
       "3           -83.126818               18972.872158  \n",
       "4          -146.697773               18826.174385  \n",
       "5          -206.917188               18619.257196  "
      ]
     },
     "execution_count": 141,
     "metadata": {},
     "output_type": "execute_result"
    }
   ],
   "source": [
    "# def invert(ori,diff_data):\n",
    "#     last_val=ori[-1]\n",
    "#     data=[]\n",
    "#     for idx,i in enumerate(diff_data):\n",
    "#         print(idx,i+last_val)\n",
    "#         last_val+=i\n",
    "#         data.append(last_val)\n",
    "#     print(len(data))\n",
    "#     return data\n",
    "# df_results=pd.DataFrame()\n",
    "# df_fc=df_forecast.copy()\n",
    "# columns = df_train.columns\n",
    "# for col in columns:\n",
    "\n",
    "#     df_results[str(col)+\"_2d\"]=invert(list(df_diff[str(col)+\"difference2\"].values),list(df_fc[str(col)+\"_3d\"].values))\n",
    "#     df_results[str(col)+\"_1d\"]=invert(list(df_diff[str(col)+\"difference1\"].values),list(df_results[str(col)+\"_2d\"].values))\n",
    "#     df_results[str(col)+\" forecast\"]=invert(list(df_train[str(col)].values),list(df_results[str(col)+\"_1d\"].values))\n",
    "# df_results"
   ]
  },
  {
   "cell_type": "code",
   "execution_count": 143,
   "metadata": {},
   "outputs": [
    {
     "data": {
      "image/png": "[encoded data removed]",
      "text/plain": [
       "<Figure size 1500x1500 with 2 Axes>"
      ]
     },
     "metadata": {
      "needs_background": "light"
     },
     "output_type": "display_data"
    }
   ],
   "source": [
    "#PLOT OF ACTUAL VS FORECAST\n",
    "\n",
    "fig, axes = plt.subplots(nrows=int(len(df.columns)/2), ncols=2, dpi=150, figsize=(10,10))\n",
    "for i, (col,ax) in enumerate(zip(df.columns, axes.flatten())):\n",
    "    df_results[col+' forecast'].plot(legend=True, ax=ax).autoscale(axis='x',tight=True)\n",
    "    df_test[col][-nobs:].plot(legend=True, ax=ax);\n",
    "    ax.set_title(col + \": Forecast vs Actuals\")\n",
    "    ax.xaxis.set_ticks_position('none')\n",
    "    ax.yaxis.set_ticks_position('none')\n",
    "    ax.spines[\"top\"].set_alpha(0)\n",
    "    ax.tick_params(labelsize=6)\n",
    "\n",
    "plt.tight_layout();"
   ]
  },
  {
   "cell_type": "code",
   "execution_count": 144,
   "metadata": {},
   "outputs": [
    {
     "name": "stdout",
     "output_type": "stream",
     "text": [
      "Forecast Accuracy of: Libor 1M\n",
      "rmse :  0.0683\n",
      "Forecast Accuracy of: BGCR Repo rates_lag3\n",
      "rmse :  0.1149\n"
     ]
    }
   ],
   "source": [
    "from statsmodels.tsa.stattools import acf\n",
    "def forecast_accuracy(forecast, actual):\n",
    "    \n",
    "    rmse = np.mean((forecast - actual)**2)**.5  # RMSE\n",
    "    return({'rmse':rmse})\n",
    "columns=df_train.columns\n",
    "for col in columns:\n",
    "    print('Forecast Accuracy of: '+str(col))\n",
    "    accuracy_prod = forecast_accuracy(df_results[str(col)+' forecast'].values, df_test[str(col)])\n",
    "    for k, v in accuracy_prod.items():\n",
    "        print(k, ': ', round(v,4))\n"
   ]
  },
  {
   "cell_type": "code",
   "execution_count": null,
   "metadata": {},
   "outputs": [],
   "source": []
  }
 ],
 "metadata": {
  "kernelspec": {
   "display_name": "Python 3",
   "language": "python",
   "name": "python3"
  },
  "language_info": {
   "codemirror_mode": {
    "name": "ipython",
    "version": 3
   },
   "file_extension": ".py",
   "mimetype": "text/x-python",
   "name": "python",
   "nbconvert_exporter": "python",
   "pygments_lexer": "ipython3",
   "version": "3.6.9"
  }
 },
 "nbformat": 4,
 "nbformat_minor": 2
}
