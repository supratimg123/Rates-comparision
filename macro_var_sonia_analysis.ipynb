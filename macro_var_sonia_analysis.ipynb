{
 "cells": [
  {
   "cell_type": "code",
   "execution_count": 1,
   "metadata": {},
   "outputs": [],
   "source": [
    "import pandas as pd\n",
    "import numpy as np\n",
    "import copy\n",
    "import datetime\n",
    "import matplotlib.pyplot as plt\n",
    "%matplotlib inline\n",
    "\n",
    "# Import Statsmodels\n",
    "import statsmodels.api as sm\n",
    "from statsmodels.tsa.api import VAR\n",
    "from statsmodels.tsa.stattools import adfuller\n",
    "from statsmodels.tools.eval_measures import rmse, aic"
   ]
  },
  {
   "cell_type": "code",
   "execution_count": 177,
   "metadata": {},
   "outputs": [
    {
     "data": {
      "text/html": [
       "<div>\n",
       "<style scoped>\n",
       "    .dataframe tbody tr th:only-of-type {\n",
       "        vertical-align: middle;\n",
       "    }\n",
       "\n",
       "    .dataframe tbody tr th {\n",
       "        vertical-align: top;\n",
       "    }\n",
       "\n",
       "    .dataframe thead th {\n",
       "        text-align: right;\n",
       "    }\n",
       "</style>\n",
       "<table border=\"1\" class=\"dataframe\">\n",
       "  <thead>\n",
       "    <tr style=\"text-align: right;\">\n",
       "      <th></th>\n",
       "      <th>SONIA 1M</th>\n",
       "      <th>Inflation</th>\n",
       "      <th>Short term interest rates</th>\n",
       "      <th>Long term interest rates</th>\n",
       "      <th>GDP</th>\n",
       "    </tr>\n",
       "    <tr>\n",
       "      <th>Date</th>\n",
       "      <th></th>\n",
       "      <th></th>\n",
       "      <th></th>\n",
       "      <th></th>\n",
       "      <th></th>\n",
       "    </tr>\n",
       "  </thead>\n",
       "  <tbody>\n",
       "    <tr>\n",
       "      <th>01.12.2020</th>\n",
       "      <td>0.048695</td>\n",
       "      <td>0.6</td>\n",
       "      <td>0.03</td>\n",
       "      <td>0.3224</td>\n",
       "      <td>548001.0</td>\n",
       "    </tr>\n",
       "    <tr>\n",
       "      <th>01.01.2021</th>\n",
       "      <td>0.049370</td>\n",
       "      <td>0.7</td>\n",
       "      <td>0.03</td>\n",
       "      <td>0.3672</td>\n",
       "      <td>550120.0</td>\n",
       "    </tr>\n",
       "    <tr>\n",
       "      <th>01.02.2021</th>\n",
       "      <td>0.048695</td>\n",
       "      <td>0.4</td>\n",
       "      <td>0.05</td>\n",
       "      <td>0.6222</td>\n",
       "      <td>552239.0</td>\n",
       "    </tr>\n",
       "    <tr>\n",
       "      <th>01.03.2021</th>\n",
       "      <td>0.048613</td>\n",
       "      <td>0.7</td>\n",
       "      <td>0.08</td>\n",
       "      <td>0.8456</td>\n",
       "      <td>554358.0</td>\n",
       "    </tr>\n",
       "    <tr>\n",
       "      <th>01.04.2021</th>\n",
       "      <td>0.048075</td>\n",
       "      <td>0.7</td>\n",
       "      <td>0.09</td>\n",
       "      <td>0.8500</td>\n",
       "      <td>556477.0</td>\n",
       "    </tr>\n",
       "  </tbody>\n",
       "</table>\n",
       "</div>"
      ],
      "text/plain": [
       "            SONIA 1M  Inflation  Short term interest rates  \\\n",
       "Date                                                         \n",
       "01.12.2020  0.048695        0.6                       0.03   \n",
       "01.01.2021  0.049370        0.7                       0.03   \n",
       "01.02.2021  0.048695        0.4                       0.05   \n",
       "01.03.2021  0.048613        0.7                       0.08   \n",
       "01.04.2021  0.048075        0.7                       0.09   \n",
       "\n",
       "            Long term interest rates       GDP  \n",
       "Date                                            \n",
       "01.12.2020                    0.3224  548001.0  \n",
       "01.01.2021                    0.3672  550120.0  \n",
       "01.02.2021                    0.6222  552239.0  \n",
       "01.03.2021                    0.8456  554358.0  \n",
       "01.04.2021                    0.8500  556477.0  "
      ]
     },
     "execution_count": 177,
     "metadata": {},
     "output_type": "execute_result"
    }
   ],
   "source": [
    "filepath = '/home/user/Desktop/env2/VAR/macro/macro_analysis_sonia.xlsx'\n",
    "df = pd.read_excel(filepath)\n",
    "##########for the plot only\n",
    "# df1=df[[\"Date\",\"Libor 1M\",\"BGCR Repo rates\"]]\n",
    "# df1.dropna(inplace=True)\n",
    "# df1.index=df1['Date']\n",
    "# df1=df1.drop(['Date'],axis=1)\n",
    "##########upto this\n",
    "####### For further analysis\n",
    "df=df[[\"Date\",\"SONIA 1M\",\"Inflation\",\"Short term interest rates\",\"Long term interest rates\",\"GDP\"]]\n",
    "# df=df[[\"Date\",\"Libor 1M\",\"BGCR Repo rates\"]]\n",
    "# df.dropna(inplace=True)\n",
    "df.index=df['Date']\n",
    "df=df.drop(['Date'],axis=1)\n",
    "df.tail()"
   ]
  },
  {
   "cell_type": "code",
   "execution_count": 148,
   "metadata": {},
   "outputs": [
    {
     "data": {
      "text/plain": [
       "Text(0.5, 1.0, 'PLOT OF SONIA 1M AGAINST GDP')"
      ]
     },
     "execution_count": 148,
     "metadata": {},
     "output_type": "execute_result"
    },
    {
     "data": {
      "image/png": "[encoded data removed]",
      "text/plain": [
       "<Figure size 720x216 with 1 Axes>"
      ]
     },
     "metadata": {
      "needs_background": "light"
     },
     "output_type": "display_data"
    }
   ],
   "source": [
    "df_min_max_scaled = df.copy()\n",
    "#df1_min_max_scaled=df1.copy()\n",
    "# apply normalization techniques by Column 1\n",
    "columns=df_min_max_scaled.columns\n",
    "#columns1=df1_min_max_scaled.columns\n",
    "for col in columns:\n",
    "    df_min_max_scaled[col] = (df_min_max_scaled[col] - df_min_max_scaled[col].min()) / (df_min_max_scaled[col].max() - df_min_max_scaled[col].min())    \n",
    "# for col in columns1:\n",
    "#     df1_min_max_scaled[col] = (df1_min_max_scaled[col] - df1_min_max_scaled[col].min()) / (df1_min_max_scaled[col].max() - df1_min_max_scaled[col].min())    \n",
    "\n",
    "plt.rcParams[\"figure.figsize\"] = (10,3)\n",
    "df_min_max_scaled[\"SONIA 1M\"].plot(color=\"red\",legend=True)\n",
    "df_min_max_scaled[\"GDP\"].plot(color=\"purple\",legend=True)\n",
    "#df_min_max_scaled[\"Interest Rates\"].plot(color=\"cyan\",legend=True)\n",
    "#plt.xticks([1-1-2016,1-1-2021])\n",
    "plt.xlabel(\"Time\")\n",
    "plt.ylabel(\"value\")\n",
    "plt.title(\"PLOT OF SONIA 1M AGAINST GDP\")\n",
    "    \n",
    "    \n",
    "    \n",
    "    \n",
    "# cols=list(df.columns)[1:]\n",
    "# cols1=list(df1.columns[1:])\n",
    "# view normalized data\n",
    "#display(df1_min_max_scaled)\n",
    "# plt.rcParams[\"figure.figsize\"] = (20,10)\n",
    "# fig, ax = plt.subplots(4,2)\n",
    "# plt.suptitle(\"PLOT OF DIFFERENT MACRO VARIABLES WITH LIBOR MONTHLY AVERAGE DATA\", fontsize=14)\n",
    "# fig.delaxes(ax[3,1])\n",
    "# c=0\n",
    "# for i in range(4):\n",
    "#     for j in range(2):\n",
    "#         if c<=len(cols)-1:\n",
    "#             ax[i,j].plot(df_min_max_scaled[\"Libor 1M\"])\n",
    "#             ax[i,j].plot(df_min_max_scaled[cols[c]])\n",
    "#             ax[i,j].legend([\"LIBOR 1M\",cols[c]])\n",
    "#             ax[i,j].set_xticks([\"01-03-2016\",\"01-03-2017\",\"01-03-2018\",\"01-03-2019\",\"01-03-2020\",\"01-03-2021\"])\n",
    "#             ax[i,j].set_xlabel(\"Time\")\n",
    "#             ax[i,j].set_ylabel(\"Value\")\n",
    "#             c=c+1\n",
    "#         else:\n",
    "#             ax[i,j].plot(df1_min_max_scaled[\"Libor 1M\"])\n",
    "#             ax[i,j].plot(df1_min_max_scaled[cols1])\n",
    "#             ax[i,j].legend([\"LIBOR 1M\",cols1])\n",
    "#             ax[i,j].set_xticks([\"01-04-2018\",\"01-03-2019\",\"01-03-2020\",\"01-03-2021\"])\n",
    "#             ax[i,j].set_xlabel(\"Time\")\n",
    "#             ax[i,j].set_ylabel(\"Value\")"
   ]
  },
  {
   "cell_type": "code",
   "execution_count": null,
   "metadata": {},
   "outputs": [],
   "source": [
    "from scipy.stats import pearsonr\n",
    "corr, _ = pearsonr(df[\"Inflation\"], df[\"SONIA 1M\"])\n",
    "print('Pearsons correlation: %.3f' % corr)"
   ]
  },
  {
   "cell_type": "code",
   "execution_count": null,
   "metadata": {},
   "outputs": [],
   "source": [
    "from scipy.stats import pearsonr\n",
    "corr, _ = pearsonr(df[\"Short term interest rates\"], df[\"SONIA 1M\"])\n",
    "print('Pearsons correlation: %.3f' % corr)"
   ]
  },
  {
   "cell_type": "code",
   "execution_count": null,
   "metadata": {},
   "outputs": [],
   "source": [
    "from scipy.stats import pearsonr\n",
    "corr, _ = pearsonr(df[\"Long term interest rates\"], df[\"SONIA 1M\"])\n",
    "print('Pearsons correlation: %.3f' % corr)"
   ]
  },
  {
   "cell_type": "code",
   "execution_count": null,
   "metadata": {},
   "outputs": [],
   "source": [
    "from scipy.stats import pearsonr\n",
    "corr, _ = pearsonr(df[\"GDP\"], df[\"SONIA 1M\"])\n",
    "print('Pearsons correlation: %.3f' % corr)"
   ]
  },
  {
   "cell_type": "code",
   "execution_count": 37,
   "metadata": {},
   "outputs": [
    {
     "data": {
      "text/html": [
       "<div>\n",
       "<style scoped>\n",
       "    .dataframe tbody tr th:only-of-type {\n",
       "        vertical-align: middle;\n",
       "    }\n",
       "\n",
       "    .dataframe tbody tr th {\n",
       "        vertical-align: top;\n",
       "    }\n",
       "\n",
       "    .dataframe thead th {\n",
       "        text-align: right;\n",
       "    }\n",
       "</style>\n",
       "<table border=\"1\" class=\"dataframe\">\n",
       "  <thead>\n",
       "    <tr style=\"text-align: right;\">\n",
       "      <th></th>\n",
       "      <th>SONIA 1M</th>\n",
       "      <th>Inflation</th>\n",
       "      <th>Short term interest rates</th>\n",
       "      <th>Long term interest rates</th>\n",
       "      <th>GDP</th>\n",
       "      <th>Inflation_lag1</th>\n",
       "    </tr>\n",
       "    <tr>\n",
       "      <th>Date</th>\n",
       "      <th></th>\n",
       "      <th></th>\n",
       "      <th></th>\n",
       "      <th></th>\n",
       "      <th></th>\n",
       "      <th></th>\n",
       "    </tr>\n",
       "  </thead>\n",
       "  <tbody>\n",
       "    <tr>\n",
       "      <th>01.11.2020</th>\n",
       "      <td>0.053552</td>\n",
       "      <td>0.3</td>\n",
       "      <td>0.04</td>\n",
       "      <td>0.3836</td>\n",
       "      <td>545882.0</td>\n",
       "      <td>0.6</td>\n",
       "    </tr>\n",
       "    <tr>\n",
       "      <th>01.12.2020</th>\n",
       "      <td>0.048695</td>\n",
       "      <td>0.6</td>\n",
       "      <td>0.03</td>\n",
       "      <td>0.3224</td>\n",
       "      <td>548001.0</td>\n",
       "      <td>0.7</td>\n",
       "    </tr>\n",
       "    <tr>\n",
       "      <th>01.01.2021</th>\n",
       "      <td>0.049370</td>\n",
       "      <td>0.7</td>\n",
       "      <td>0.03</td>\n",
       "      <td>0.3672</td>\n",
       "      <td>550120.0</td>\n",
       "      <td>0.4</td>\n",
       "    </tr>\n",
       "    <tr>\n",
       "      <th>01.02.2021</th>\n",
       "      <td>0.048695</td>\n",
       "      <td>0.4</td>\n",
       "      <td>0.05</td>\n",
       "      <td>0.6222</td>\n",
       "      <td>552239.0</td>\n",
       "      <td>0.7</td>\n",
       "    </tr>\n",
       "    <tr>\n",
       "      <th>01.03.2021</th>\n",
       "      <td>0.048613</td>\n",
       "      <td>0.7</td>\n",
       "      <td>0.08</td>\n",
       "      <td>0.8456</td>\n",
       "      <td>554358.0</td>\n",
       "      <td>0.7</td>\n",
       "    </tr>\n",
       "  </tbody>\n",
       "</table>\n",
       "</div>"
      ],
      "text/plain": [
       "            SONIA 1M  Inflation  Short term interest rates  \\\n",
       "Date                                                         \n",
       "01.11.2020  0.053552        0.3                       0.04   \n",
       "01.12.2020  0.048695        0.6                       0.03   \n",
       "01.01.2021  0.049370        0.7                       0.03   \n",
       "01.02.2021  0.048695        0.4                       0.05   \n",
       "01.03.2021  0.048613        0.7                       0.08   \n",
       "\n",
       "            Long term interest rates       GDP  Inflation_lag1  \n",
       "Date                                                            \n",
       "01.11.2020                    0.3836  545882.0             0.6  \n",
       "01.12.2020                    0.3224  548001.0             0.7  \n",
       "01.01.2021                    0.3672  550120.0             0.4  \n",
       "01.02.2021                    0.6222  552239.0             0.7  \n",
       "01.03.2021                    0.8456  554358.0             0.7  "
      ]
     },
     "execution_count": 37,
     "metadata": {},
     "output_type": "execute_result"
    }
   ],
   "source": [
    "df[\"Inflation_lag1\"]=df[\"Inflation\"].shift(-1)\n",
    "#df[\"Inflation_lag2\"]=df[\"Inflation\"].shift(-2)\n",
    "#df[\"Inflation_lag3\"]=df[\"Inflation\"].shift(-3)\n",
    "df.dropna(inplace=True)\n",
    "df.tail()"
   ]
  },
  {
   "cell_type": "code",
   "execution_count": 91,
   "metadata": {},
   "outputs": [
    {
     "data": {
      "text/plain": [
       "<matplotlib.axes._subplots.AxesSubplot at 0x7f422c78cef0>"
      ]
     },
     "execution_count": 91,
     "metadata": {},
     "output_type": "execute_result"
    },
    {
     "data": {
      "image/png": "[encoded data removed]",
      "text/plain": [
       "<Figure size 720x216 with 1 Axes>"
      ]
     },
     "metadata": {
      "needs_background": "light"
     },
     "output_type": "display_data"
    }
   ],
   "source": [
    "df[\"Short term interest rates_lag1\"]=df[\"Short term interest rates\"].shift(-1)\n",
    "#df[\"Short term interest rates_lag2\"]=df[\"Short term interest rates\"].shift(-2)\n",
    "#df[\"Short term interest rates_lag3\"]=df[\"Short term interest rates\"].shift(-3)\n",
    "df.dropna(inplace=True)\n",
    "df.tail()"
   ]
  },
  {
   "cell_type": "code",
   "execution_count": 133,
   "metadata": {},
   "outputs": [
    {
     "data": {
      "text/plain": [
       "<matplotlib.axes._subplots.AxesSubplot at 0x7f422e2486d8>"
      ]
     },
     "execution_count": 133,
     "metadata": {},
     "output_type": "execute_result"
    },
    {
     "data": {
      "image/png": "[encoded data removed]",
      "text/plain": [
       "<Figure size 720x216 with 1 Axes>"
      ]
     },
     "metadata": {
      "needs_background": "light"
     },
     "output_type": "display_data"
    }
   ],
   "source": [
    "#df[\"Long term interest rates_lag1\"]=df[\"Long term interest rates\"].shift(-1)\n",
    "#df[\"Long term interest rates_lag2\"]=df[\"Long term interest rates\"].shift(-2)\n",
    "df[\"Long term interest rates_lag3\"]=df[\"Long term interest rates\"].shift(-3)\n",
    "df.dropna(inplace=True)\n",
    "df.tail()"
   ]
  },
  {
   "cell_type": "code",
   "execution_count": 178,
   "metadata": {},
   "outputs": [
    {
     "data": {
      "text/html": [
       "<div>\n",
       "<style scoped>\n",
       "    .dataframe tbody tr th:only-of-type {\n",
       "        vertical-align: middle;\n",
       "    }\n",
       "\n",
       "    .dataframe tbody tr th {\n",
       "        vertical-align: top;\n",
       "    }\n",
       "\n",
       "    .dataframe thead th {\n",
       "        text-align: right;\n",
       "    }\n",
       "</style>\n",
       "<table border=\"1\" class=\"dataframe\">\n",
       "  <thead>\n",
       "    <tr style=\"text-align: right;\">\n",
       "      <th></th>\n",
       "      <th>SONIA 1M</th>\n",
       "      <th>Inflation</th>\n",
       "      <th>Short term interest rates</th>\n",
       "      <th>Long term interest rates</th>\n",
       "      <th>GDP</th>\n",
       "      <th>GDP_lag3</th>\n",
       "    </tr>\n",
       "    <tr>\n",
       "      <th>Date</th>\n",
       "      <th></th>\n",
       "      <th></th>\n",
       "      <th></th>\n",
       "      <th></th>\n",
       "      <th></th>\n",
       "      <th></th>\n",
       "    </tr>\n",
       "  </thead>\n",
       "  <tbody>\n",
       "    <tr>\n",
       "      <th>01.09.2020</th>\n",
       "      <td>0.054636</td>\n",
       "      <td>0.5</td>\n",
       "      <td>0.06</td>\n",
       "      <td>0.2730</td>\n",
       "      <td>541644.0</td>\n",
       "      <td>548001.0</td>\n",
       "    </tr>\n",
       "    <tr>\n",
       "      <th>01.10.2020</th>\n",
       "      <td>0.053823</td>\n",
       "      <td>0.7</td>\n",
       "      <td>0.05</td>\n",
       "      <td>0.3058</td>\n",
       "      <td>543763.0</td>\n",
       "      <td>550120.0</td>\n",
       "    </tr>\n",
       "    <tr>\n",
       "      <th>01.11.2020</th>\n",
       "      <td>0.053552</td>\n",
       "      <td>0.3</td>\n",
       "      <td>0.04</td>\n",
       "      <td>0.3836</td>\n",
       "      <td>545882.0</td>\n",
       "      <td>552239.0</td>\n",
       "    </tr>\n",
       "    <tr>\n",
       "      <th>01.12.2020</th>\n",
       "      <td>0.048695</td>\n",
       "      <td>0.6</td>\n",
       "      <td>0.03</td>\n",
       "      <td>0.3224</td>\n",
       "      <td>548001.0</td>\n",
       "      <td>554358.0</td>\n",
       "    </tr>\n",
       "    <tr>\n",
       "      <th>01.01.2021</th>\n",
       "      <td>0.049370</td>\n",
       "      <td>0.7</td>\n",
       "      <td>0.03</td>\n",
       "      <td>0.3672</td>\n",
       "      <td>550120.0</td>\n",
       "      <td>556477.0</td>\n",
       "    </tr>\n",
       "  </tbody>\n",
       "</table>\n",
       "</div>"
      ],
      "text/plain": [
       "            SONIA 1M  Inflation  Short term interest rates  \\\n",
       "Date                                                         \n",
       "01.09.2020  0.054636        0.5                       0.06   \n",
       "01.10.2020  0.053823        0.7                       0.05   \n",
       "01.11.2020  0.053552        0.3                       0.04   \n",
       "01.12.2020  0.048695        0.6                       0.03   \n",
       "01.01.2021  0.049370        0.7                       0.03   \n",
       "\n",
       "            Long term interest rates       GDP  GDP_lag3  \n",
       "Date                                                      \n",
       "01.09.2020                    0.2730  541644.0  548001.0  \n",
       "01.10.2020                    0.3058  543763.0  550120.0  \n",
       "01.11.2020                    0.3836  545882.0  552239.0  \n",
       "01.12.2020                    0.3224  548001.0  554358.0  \n",
       "01.01.2021                    0.3672  550120.0  556477.0  "
      ]
     },
     "execution_count": 178,
     "metadata": {},
     "output_type": "execute_result"
    }
   ],
   "source": [
    "#df[\"GDP_lag1\"]=df[\"GDP\"].shift(-1)\n",
    "#df[\"GDP_lag2\"]=df[\"GDP\"].shift(-2)\n",
    "df[\"GDP_lag3\"]=df[\"GDP\"].shift(-3)\n",
    "df.dropna(inplace=True)\n",
    "df.tail()"
   ]
  },
  {
   "cell_type": "code",
   "execution_count": 179,
   "metadata": {},
   "outputs": [
    {
     "data": {
      "text/html": [
       "<div>\n",
       "<style scoped>\n",
       "    .dataframe tbody tr th:only-of-type {\n",
       "        vertical-align: middle;\n",
       "    }\n",
       "\n",
       "    .dataframe tbody tr th {\n",
       "        vertical-align: top;\n",
       "    }\n",
       "\n",
       "    .dataframe thead th {\n",
       "        text-align: right;\n",
       "    }\n",
       "</style>\n",
       "<table border=\"1\" class=\"dataframe\">\n",
       "  <thead>\n",
       "    <tr style=\"text-align: right;\">\n",
       "      <th></th>\n",
       "      <th>SONIA 1M</th>\n",
       "      <th>GDP_lag3</th>\n",
       "    </tr>\n",
       "    <tr>\n",
       "      <th>Date</th>\n",
       "      <th></th>\n",
       "      <th></th>\n",
       "    </tr>\n",
       "  </thead>\n",
       "  <tbody>\n",
       "    <tr>\n",
       "      <th>01.09.2020</th>\n",
       "      <td>0.054636</td>\n",
       "      <td>548001.0</td>\n",
       "    </tr>\n",
       "    <tr>\n",
       "      <th>01.10.2020</th>\n",
       "      <td>0.053823</td>\n",
       "      <td>550120.0</td>\n",
       "    </tr>\n",
       "    <tr>\n",
       "      <th>01.11.2020</th>\n",
       "      <td>0.053552</td>\n",
       "      <td>552239.0</td>\n",
       "    </tr>\n",
       "    <tr>\n",
       "      <th>01.12.2020</th>\n",
       "      <td>0.048695</td>\n",
       "      <td>554358.0</td>\n",
       "    </tr>\n",
       "    <tr>\n",
       "      <th>01.01.2021</th>\n",
       "      <td>0.049370</td>\n",
       "      <td>556477.0</td>\n",
       "    </tr>\n",
       "  </tbody>\n",
       "</table>\n",
       "</div>"
      ],
      "text/plain": [
       "            SONIA 1M  GDP_lag3\n",
       "Date                          \n",
       "01.09.2020  0.054636  548001.0\n",
       "01.10.2020  0.053823  550120.0\n",
       "01.11.2020  0.053552  552239.0\n",
       "01.12.2020  0.048695  554358.0\n",
       "01.01.2021  0.049370  556477.0"
      ]
     },
     "execution_count": 179,
     "metadata": {},
     "output_type": "execute_result"
    }
   ],
   "source": [
    "# df=df[[\"Libor 1M\",\"Inflation\"]]\n",
    "df=df[[\"SONIA 1M\",\"GDP_lag3\"]]\n",
    "df.tail()"
   ]
  },
  {
   "cell_type": "code",
   "execution_count": 180,
   "metadata": {},
   "outputs": [
    {
     "name": "stdout",
     "output_type": "stream",
     "text": [
      "[1.0, 1.0, 1.0, 1.0, 1.0, 1.0, 1.0, 1.0, 1.0, 1.0]\n",
      "[0.1434, 0.2719, 0.0796, 0.4534, 0.6623, 0.5742, 0.8567, 0.8817, 0.9396, 0.9606]\n",
      "[0.0091, 0.0002, 0.0, 0.0, 0.0, 0.0, 0.0, 0.0, 0.0, 0.0]\n",
      "[1.0, 1.0, 1.0, 1.0, 1.0, 1.0, 1.0, 1.0, 1.0, 1.0]\n"
     ]
    },
    {
     "data": {
      "text/html": [
       "<div>\n",
       "<style scoped>\n",
       "    .dataframe tbody tr th:only-of-type {\n",
       "        vertical-align: middle;\n",
       "    }\n",
       "\n",
       "    .dataframe tbody tr th {\n",
       "        vertical-align: top;\n",
       "    }\n",
       "\n",
       "    .dataframe thead th {\n",
       "        text-align: right;\n",
       "    }\n",
       "</style>\n",
       "<table border=\"1\" class=\"dataframe\">\n",
       "  <thead>\n",
       "    <tr style=\"text-align: right;\">\n",
       "      <th></th>\n",
       "      <th>SONIA 1M_x</th>\n",
       "      <th>GDP_lag3_x</th>\n",
       "    </tr>\n",
       "  </thead>\n",
       "  <tbody>\n",
       "    <tr>\n",
       "      <th>SONIA 1M_y</th>\n",
       "      <td>1.0000</td>\n",
       "      <td>0.0</td>\n",
       "    </tr>\n",
       "    <tr>\n",
       "      <th>GDP_lag3_y</th>\n",
       "      <td>0.0796</td>\n",
       "      <td>1.0</td>\n",
       "    </tr>\n",
       "  </tbody>\n",
       "</table>\n",
       "</div>"
      ],
      "text/plain": [
       "            SONIA 1M_x  GDP_lag3_x\n",
       "SONIA 1M_y      1.0000         0.0\n",
       "GDP_lag3_y      0.0796         1.0"
      ]
     },
     "execution_count": 180,
     "metadata": {},
     "output_type": "execute_result"
    }
   ],
   "source": [
    "#GRANGER'S CAUSALITY TEST TO DETERMINE THE PRESENCE OF RELATIONSHIPS BETWEEN TIME SERIES.\n",
    "from statsmodels.tsa.stattools import grangercausalitytests\n",
    "maxlag=10\n",
    "test = 'ssr_chi2test'\n",
    "def grangers_causation_matrix(data, variables, test='ssr_chi2test', verbose=False):    \n",
    "    \"\"\"Check Granger Causality of all possible combinations of the Time series.\n",
    "    The rows are the response variable, columns are predictors. The values in the table \n",
    "    are the P-Values. P-Values lesser than the significance level (0.05), implies \n",
    "    the Null Hypothesis that the coefficients of the corresponding past values is \n",
    "    zero, that is, the X does not cause Y can be rejected.\n",
    "\n",
    "    data      : pandas dataframe containing the time series variables\n",
    "    variables : list containing names of the time series variables.\n",
    "    \"\"\"\n",
    "    df = pd.DataFrame(np.zeros((len(variables), len(variables))), columns=variables, index=variables)\n",
    "    for c in df.columns:\n",
    "        for r in df.index:\n",
    "            test_result = grangercausalitytests(data[[r, c]], maxlag=maxlag, verbose=False)\n",
    "            p_values = [round(test_result[i+1][0][test][1],4) for i in range(maxlag)]\n",
    "            print(p_values)\n",
    "            if verbose: print(f'Y = {r}, X = {c}, P Values = {p_values}')\n",
    "            min_p_value = np.min(p_values)\n",
    "            df.loc[r, c] = min_p_value\n",
    "    df.columns = [var + '_x' for var in variables]\n",
    "    df.index = [var + '_y' for var in variables]\n",
    "    return df\n",
    "\n",
    "grangers_causation_matrix(df, variables = df.columns) "
   ]
  },
  {
   "cell_type": "code",
   "execution_count": 167,
   "metadata": {},
   "outputs": [
    {
     "name": "stdout",
     "output_type": "stream",
     "text": [
      "6\n",
      "(56, 2)\n",
      "(6, 2)\n"
     ]
    }
   ],
   "source": [
    "#TRAIN-TEST SPLIT\n",
    "\n",
    "nobs = int(0.1*len(df))\n",
    "print(nobs)\n",
    "df_train, df_test = df.iloc[:-nobs,:], df.iloc[-nobs:,:]\n",
    "\n",
    "# Check size\n",
    "print(df_train.shape)  # (119, 8)\n",
    "print(df_test.shape)  # (4, 8)"
   ]
  },
  {
   "cell_type": "code",
   "execution_count": 168,
   "metadata": {},
   "outputs": [
    {
     "name": "stdout",
     "output_type": "stream",
     "text": [
      "    Augmented Dickey-Fuller Test on \"SONIA 1M\" \n",
      "    -----------------------------------------------\n",
      " Null Hypothesis: Data has unit root. Non-Stationary.\n",
      " Significance Level    = 0.05\n",
      " Test Statistic        = -1.4347\n",
      " No. Lags Chosen       = 1\n",
      " Critical value 1%     = -3.558\n",
      " Critical value 5%     = -2.917\n",
      " Critical value 10%    = -2.596\n",
      " => P-Value = 0.5655. Weak evidence to reject the Null Hypothesis.\n",
      " => Series is Non-Stationary.\n",
      "\n",
      "\n",
      "    Augmented Dickey-Fuller Test on \"GDP_lag2\" \n",
      "    -----------------------------------------------\n",
      " Null Hypothesis: Data has unit root. Non-Stationary.\n",
      " Significance Level    = 0.05\n",
      " Test Statistic        = -1.8513\n",
      " No. Lags Chosen       = 6\n",
      " Critical value 1%     = -3.571\n",
      " Critical value 5%     = -2.923\n",
      " Critical value 10%    = -2.599\n",
      " => P-Value = 0.3553. Weak evidence to reject the Null Hypothesis.\n",
      " => Series is Non-Stationary.\n",
      "\n",
      "\n"
     ]
    }
   ],
   "source": [
    "#AUGMENTED DICKEY-FULLER TEST FOR STATIONARITY\n",
    "\n",
    "def adfuller_test(series, signif=0.05, name='', verbose=False):\n",
    "    \"\"\"Perform ADFuller to test for Stationarity of given series and print report\"\"\"\n",
    "    r = adfuller(series, autolag='AIC')\n",
    "    output = {'test_statistic':round(r[0], 4), 'pvalue':round(r[1], 4), 'n_lags':round(r[2], 4), 'n_obs':r[3]}\n",
    "    p_value = output['pvalue'] \n",
    "    def adjust(val, length= 6): return str(val).ljust(length)\n",
    "\n",
    "    # Print Summary\n",
    "    print(f'    Augmented Dickey-Fuller Test on \"{name}\"', \"\\n   \", '-'*47)\n",
    "    print(f' Null Hypothesis: Data has unit root. Non-Stationary.')\n",
    "    print(f' Significance Level    = {signif}')\n",
    "    print(f' Test Statistic        = {output[\"test_statistic\"]}')\n",
    "    print(f' No. Lags Chosen       = {output[\"n_lags\"]}')\n",
    "\n",
    "    for key,val in r[4].items():\n",
    "        print(f' Critical value {adjust(key)} = {round(val, 3)}')\n",
    "\n",
    "    if p_value <= signif:\n",
    "        print(f\" => P-Value = {p_value}. Rejecting Null Hypothesis.\")\n",
    "        print(f\" => Series is Stationary.\")\n",
    "    else:\n",
    "        print(f\" => P-Value = {p_value}. Weak evidence to reject the Null Hypothesis.\")\n",
    "        print(f\" => Series is Non-Stationary.\")\n",
    "          \n",
    "# ADF Test on each column\n",
    "for name, column in df_train.iteritems():\n",
    "    adfuller_test(column, name=column.name)\n",
    "    print('\\n')"
   ]
  },
  {
   "cell_type": "code",
   "execution_count": 169,
   "metadata": {},
   "outputs": [
    {
     "name": "stdout",
     "output_type": "stream",
     "text": [
      "    Augmented Dickey-Fuller Test on \"SONIA 1M\" \n",
      "    -----------------------------------------------\n",
      " Null Hypothesis: Data has unit root. Non-Stationary.\n",
      " Significance Level    = 0.05\n",
      " Test Statistic        = -5.6267\n",
      " No. Lags Chosen       = 0\n",
      " Critical value 1%     = -3.558\n",
      " Critical value 5%     = -2.917\n",
      " Critical value 10%    = -2.596\n",
      " => P-Value = 0.0. Rejecting Null Hypothesis.\n",
      " => Series is Stationary.\n",
      "\n",
      "\n",
      "    Augmented Dickey-Fuller Test on \"GDP_lag2\" \n",
      "    -----------------------------------------------\n",
      " Null Hypothesis: Data has unit root. Non-Stationary.\n",
      " Significance Level    = 0.05\n",
      " Test Statistic        = -3.4693\n",
      " No. Lags Chosen       = 5\n",
      " Critical value 1%     = -3.571\n",
      " Critical value 5%     = -2.923\n",
      " Critical value 10%    = -2.599\n",
      " => P-Value = 0.0088. Rejecting Null Hypothesis.\n",
      " => Series is Stationary.\n",
      "\n",
      "\n"
     ]
    }
   ],
   "source": [
    "# 1st difference\n",
    "df_differenced = df_train.diff().dropna()\n",
    "df_diff=pd.DataFrame()\n",
    "columns=df_train.columns\n",
    "for col in columns:\n",
    "    \n",
    "    df_diff[str(col)+\"difference1\"]=df_train[str(col)].diff()\n",
    "# ADF Test on each column of 1st Differences Dataframe\n",
    "for name, column in df_differenced.iteritems():\n",
    "    adfuller_test(column, name=column.name)\n",
    "    print('\\n')"
   ]
  },
  {
   "cell_type": "code",
   "execution_count": 14,
   "metadata": {},
   "outputs": [
    {
     "name": "stdout",
     "output_type": "stream",
     "text": [
      "    Augmented Dickey-Fuller Test on \"TIIE monthly Avg\" \n",
      "    -----------------------------------------------\n",
      " Null Hypothesis: Data has unit root. Non-Stationary.\n",
      " Significance Level    = 0.05\n",
      " Test Statistic        = -3.7423\n",
      " No. Lags Chosen       = 5\n",
      " Critical value 1%     = -3.575\n",
      " Critical value 5%     = -2.924\n",
      " Critical value 10%    = -2.6\n",
      " => P-Value = 0.0036. Rejecting Null Hypothesis.\n",
      " => Series is Stationary.\n",
      "\n",
      "\n",
      "    Augmented Dickey-Fuller Test on \"Inflation_lag2\" \n",
      "    -----------------------------------------------\n",
      " Null Hypothesis: Data has unit root. Non-Stationary.\n",
      " Significance Level    = 0.05\n",
      " Test Statistic        = -2.4489\n",
      " No. Lags Chosen       = 11\n",
      " Critical value 1%     = -3.597\n",
      " Critical value 5%     = -2.933\n",
      " Critical value 10%    = -2.605\n",
      " => P-Value = 0.1284. Weak evidence to reject the Null Hypothesis.\n",
      " => Series is Non-Stationary.\n",
      "\n",
      "\n"
     ]
    }
   ],
   "source": [
    "# 2nd difference\n",
    "df_differenced = df_differenced.diff().dropna()\n",
    "for col in columns:\n",
    "    \n",
    "    df_diff[str(col)+\"difference2\"]=df_diff[str(col)+\"difference1\"].diff()\n",
    "# df_diff[\"difference2\"]=df_diff[\"difference1\"].diff()\n",
    "# ADF Test on each column of 1st Differences Dataframe\n",
    "for name, column in df_differenced.iteritems():\n",
    "    adfuller_test(column, name=column.name)\n",
    "    print('\\n')"
   ]
  },
  {
   "cell_type": "code",
   "execution_count": 15,
   "metadata": {},
   "outputs": [
    {
     "name": "stdout",
     "output_type": "stream",
     "text": [
      "    Augmented Dickey-Fuller Test on \"TIIE monthly Avg\" \n",
      "    -----------------------------------------------\n",
      " Null Hypothesis: Data has unit root. Non-Stationary.\n",
      " Significance Level    = 0.05\n",
      " Test Statistic        = -5.5899\n",
      " No. Lags Chosen       = 4\n",
      " Critical value 1%     = -3.575\n",
      " Critical value 5%     = -2.924\n",
      " Critical value 10%    = -2.6\n",
      " => P-Value = 0.0. Rejecting Null Hypothesis.\n",
      " => Series is Stationary.\n",
      "\n",
      "\n",
      "    Augmented Dickey-Fuller Test on \"Inflation_lag2\" \n",
      "    -----------------------------------------------\n",
      " Null Hypothesis: Data has unit root. Non-Stationary.\n",
      " Significance Level    = 0.05\n",
      " Test Statistic        = -2.7822\n",
      " No. Lags Chosen       = 10\n",
      " Critical value 1%     = -3.597\n",
      " Critical value 5%     = -2.933\n",
      " Critical value 10%    = -2.605\n",
      " => P-Value = 0.0609. Weak evidence to reject the Null Hypothesis.\n",
      " => Series is Non-Stationary.\n",
      "\n",
      "\n"
     ]
    }
   ],
   "source": [
    "# 3rd difference\n",
    "df_differenced = df_differenced.diff().dropna()\n",
    "for col in columns:\n",
    "    \n",
    "    df_diff[str(col)+\"difference3\"]=df_diff[str(col)+\"difference2\"].diff()\n",
    "#df_diff[\"difference3\"]=df_diff[\"difference2\"].diff()\n",
    "# ADF Test on each column of 1st Differences Dataframe\n",
    "for name, column in df_differenced.iteritems():\n",
    "    adfuller_test(column, name=column.name)\n",
    "    print('\\n')"
   ]
  },
  {
   "cell_type": "code",
   "execution_count": 16,
   "metadata": {},
   "outputs": [
    {
     "name": "stdout",
     "output_type": "stream",
     "text": [
      "    Augmented Dickey-Fuller Test on \"TIIE monthly Avg\" \n",
      "    -----------------------------------------------\n",
      " Null Hypothesis: Data has unit root. Non-Stationary.\n",
      " Significance Level    = 0.05\n",
      " Test Statistic        = -6.3777\n",
      " No. Lags Chosen       = 7\n",
      " Critical value 1%     = -3.589\n",
      " Critical value 5%     = -2.93\n",
      " Critical value 10%    = -2.603\n",
      " => P-Value = 0.0. Rejecting Null Hypothesis.\n",
      " => Series is Stationary.\n",
      "\n",
      "\n",
      "    Augmented Dickey-Fuller Test on \"Inflation_lag2\" \n",
      "    -----------------------------------------------\n",
      " Null Hypothesis: Data has unit root. Non-Stationary.\n",
      " Significance Level    = 0.05\n",
      " Test Statistic        = -7.1727\n",
      " No. Lags Chosen       = 9\n",
      " Critical value 1%     = -3.597\n",
      " Critical value 5%     = -2.933\n",
      " Critical value 10%    = -2.605\n",
      " => P-Value = 0.0. Rejecting Null Hypothesis.\n",
      " => Series is Stationary.\n",
      "\n",
      "\n"
     ]
    }
   ],
   "source": [
    "# 4th difference\n",
    "df_differenced = df_differenced.diff().dropna()\n",
    "for col in columns:\n",
    "    \n",
    "    df_diff[str(col)+\"difference4\"]=df_diff[str(col)+\"difference3\"].diff()\n",
    "#df_diff[\"difference3\"]=df_diff[\"difference2\"].diff()\n",
    "# ADF Test on each column of 1st Differences Dataframe\n",
    "for name, column in df_differenced.iteritems():\n",
    "    adfuller_test(column, name=column.name)\n",
    "    print('\\n')"
   ]
  },
  {
   "cell_type": "code",
   "execution_count": 170,
   "metadata": {},
   "outputs": [
    {
     "name": "stderr",
     "output_type": "stream",
     "text": [
      "/home/user/Desktop/env2/lib/python3.6/site-packages/statsmodels/tsa/base/tsa_model.py:218: ValueWarning: A date index has been provided, but it has no associated frequency information and so will be ignored when e.g. forecasting.\n",
      "  ' ignored when e.g. forecasting.', ValueWarning)\n",
      "/home/user/Desktop/env2/lib/python3.6/site-packages/statsmodels/tsa/base/tsa_model.py:222: ValueWarning: A date index has been provided, but it is not monotonic and so will be ignored when e.g. forecasting.\n",
      "  ' forecasting.', ValueWarning)\n"
     ]
    }
   ],
   "source": [
    "#FIT THE VAR MODEL\n",
    "\n",
    "model = VAR(df_differenced)"
   ]
  },
  {
   "cell_type": "code",
   "execution_count": 171,
   "metadata": {},
   "outputs": [
    {
     "data": {
      "text/plain": [
       "  Summary of Regression Results   \n",
       "==================================\n",
       "Model:                         VAR\n",
       "Method:                        OLS\n",
       "Date:           Tue, 11, May, 2021\n",
       "Time:                     17:09:01\n",
       "--------------------------------------------------------------------\n",
       "No. of Equations:         2.00000    BIC:                    13.0899\n",
       "Nobs:                     53.0000    HQIC:                   12.8612\n",
       "Log likelihood:          -477.440    FPE:                    334142.\n",
       "AIC:                      12.7182    Det(Omega_mle):         279015.\n",
       "--------------------------------------------------------------------\n",
       "Results for equation SONIA 1M\n",
       "==============================================================================\n",
       "                 coefficient       std. error           t-stat            prob\n",
       "------------------------------------------------------------------------------\n",
       "const              -0.010398         0.010766           -0.966           0.334\n",
       "L1.SONIA 1M         0.233008         0.154015            1.513           0.130\n",
       "L1.GDP_lag2         0.000004         0.000002            2.526           0.012\n",
       "L2.SONIA 1M         0.113236         0.137068            0.826           0.409\n",
       "L2.GDP_lag2         0.000002         0.000002            1.369           0.171\n",
       "==============================================================================\n",
       "\n",
       "Results for equation GDP_lag2\n",
       "==============================================================================\n",
       "                 coefficient       std. error           t-stat            prob\n",
       "------------------------------------------------------------------------------\n",
       "const             255.334731      1053.541276            0.242           0.809\n",
       "L1.SONIA 1M    -25619.358555     15070.903392           -1.700           0.089\n",
       "L1.GDP_lag2         0.197884         0.152265            1.300           0.194\n",
       "L2.SONIA 1M    -18583.446980     13412.602136           -1.386           0.166\n",
       "L2.GDP_lag2         0.117244         0.163593            0.717           0.474\n",
       "==============================================================================\n",
       "\n",
       "Correlation matrix of residuals\n",
       "            SONIA 1M  GDP_lag2\n",
       "SONIA 1M    1.000000 -0.425026\n",
       "GDP_lag2   -0.425026  1.000000\n",
       "\n"
      ]
     },
     "execution_count": 171,
     "metadata": {},
     "output_type": "execute_result"
    }
   ],
   "source": [
    "#TRAINING THE MODEL\n",
    "\n",
    "model_fitted = model.fit(2)  #place the lag value as parameter\n",
    "model_fitted.summary()"
   ]
  },
  {
   "cell_type": "code",
   "execution_count": 172,
   "metadata": {},
   "outputs": [
    {
     "name": "stdout",
     "output_type": "stream",
     "text": [
      "2\n",
      "            SONIA 1M  GDP_lag2\n",
      "Date                          \n",
      "01.02.2016 -0.000203   3702.50\n",
      "01.03.2016 -0.001038    859.50\n",
      "01.04.2016  0.001714    859.50\n",
      "01.05.2016 -0.003024   1719.00\n",
      "01.06.2016 -0.003546   1635.25\n",
      "01.07.2016 -0.002059   1635.25\n",
      "01.08.2016 -0.209927   3270.50\n",
      "01.09.2016 -0.034745   1232.75\n",
      "01.10.2016 -0.000999   1232.75\n",
      "01.11.2016 -0.001183   2465.50\n",
      "01.12.2016  0.001575    467.00\n",
      "01.01.2017  0.000675    467.00\n",
      "01.02.2017 -0.002460    934.00\n",
      "01.03.2017 -0.001148    882.25\n",
      "01.04.2017  0.001841    882.25\n",
      "01.05.2017  0.001525   1764.50\n",
      "01.06.2017 -0.000807   1938.75\n",
      "01.07.2017  0.000335   1938.75\n",
      "01.08.2017  0.000715   3877.50\n",
      "01.09.2017 -0.000957    658.00\n",
      "01.10.2017  0.007916    658.00\n",
      "01.11.2017  0.243436   1316.00\n",
      "01.12.2017 -0.001912   1274.25\n",
      "02.01.2018  0.001562   1274.25\n",
      "01.02.2018  0.000434   2548.50\n",
      "01.03.2018 -0.000885   1580.25\n",
      "01.04.2018 -0.002219   1580.25\n",
      "01.05.2018 -0.007240   3160.50\n",
      "01.06.2018 -0.002541    595.75\n",
      "01.07.2018  0.014500    595.75\n",
      "01.08.2018  0.237913   1191.50\n",
      "01.09.2018 -0.001994   1783.00\n",
      "01.10.2018 -0.000184   1783.00\n",
      "01.11.2018  0.000869   3566.00\n",
      "01.12.2018  0.001240    790.50\n",
      "01.01.2019  0.002147    790.50\n",
      "01.02.2019  0.001213   1581.00\n",
      "01.03.2019 -0.001185   1580.50\n",
      "01.04.2019  0.003400   1580.50\n",
      "01.05.2019  0.000622   3161.00\n",
      "01.06.2019 -0.000662    275.25\n",
      "01.07.2019  0.000408    275.25\n",
      "01.08.2019  0.001276    550.50\n",
      "02.09.2019 -0.000350  -1971.25\n",
      "01.10.2019  0.001056  -1971.25\n",
      "01.11.2019 -0.000689  -3942.50\n",
      "01.12.2019  0.000010 -18563.25\n",
      "02.01.2020  0.000905 -18563.25\n",
      "01.02.2020 -0.000911 -37126.50\n",
      "01.03.2020 -0.449316  15569.00\n",
      "01.04.2020 -0.195307  15569.00\n",
      "01.05.2020  0.001953  31138.00\n",
      "01.06.2020 -0.003600   1059.50\n",
      "01.07.2020 -0.004478   1059.50\n",
      "01.08.2020 -0.003583   2119.00\n"
     ]
    },
    {
     "data": {
      "text/plain": [
       "array([[-4.47845850e-03,  1.05950000e+03],\n",
       "       [-3.58322981e-03,  2.11900000e+03]])"
      ]
     },
     "execution_count": 172,
     "metadata": {},
     "output_type": "execute_result"
    }
   ],
   "source": [
    "# Get the lag order\n",
    "lag_order = model_fitted.k_ar\n",
    "print(lag_order)  #> 4\n",
    "\n",
    "# Input data for forecasting\n",
    "print(df_differenced)\n",
    "forecast_input = df_differenced.values[-lag_order:]\n",
    "forecast_input"
   ]
  },
  {
   "cell_type": "code",
   "execution_count": 173,
   "metadata": {},
   "outputs": [
    {
     "data": {
      "text/html": [
       "<div>\n",
       "<style scoped>\n",
       "    .dataframe tbody tr th:only-of-type {\n",
       "        vertical-align: middle;\n",
       "    }\n",
       "\n",
       "    .dataframe tbody tr th {\n",
       "        vertical-align: top;\n",
       "    }\n",
       "\n",
       "    .dataframe thead th {\n",
       "        text-align: right;\n",
       "    }\n",
       "</style>\n",
       "<table border=\"1\" class=\"dataframe\">\n",
       "  <thead>\n",
       "    <tr style=\"text-align: right;\">\n",
       "      <th></th>\n",
       "      <th>SONIA 1M_1d</th>\n",
       "      <th>GDP_lag2_1d</th>\n",
       "    </tr>\n",
       "    <tr>\n",
       "      <th>Date</th>\n",
       "      <th></th>\n",
       "      <th></th>\n",
       "    </tr>\n",
       "  </thead>\n",
       "  <tbody>\n",
       "    <tr>\n",
       "      <th>01.09.2020</th>\n",
       "      <td>-0.000988</td>\n",
       "      <td>973.896010</td>\n",
       "    </tr>\n",
       "    <tr>\n",
       "      <th>01.10.2020</th>\n",
       "      <td>-0.002358</td>\n",
       "      <td>788.396575</td>\n",
       "    </tr>\n",
       "    <tr>\n",
       "      <th>01.11.2020</th>\n",
       "      <td>-0.005733</td>\n",
       "      <td>604.310553</td>\n",
       "    </tr>\n",
       "    <tr>\n",
       "      <th>01.12.2020</th>\n",
       "      <td>-0.007822</td>\n",
       "      <td>658.046822</td>\n",
       "    </tr>\n",
       "    <tr>\n",
       "      <th>01.01.2021</th>\n",
       "      <td>-0.008901</td>\n",
       "      <td>763.331385</td>\n",
       "    </tr>\n",
       "    <tr>\n",
       "      <th>01.02.2021</th>\n",
       "      <td>-0.008852</td>\n",
       "      <td>856.933252</td>\n",
       "    </tr>\n",
       "  </tbody>\n",
       "</table>\n",
       "</div>"
      ],
      "text/plain": [
       "            SONIA 1M_1d  GDP_lag2_1d\n",
       "Date                                \n",
       "01.09.2020    -0.000988   973.896010\n",
       "01.10.2020    -0.002358   788.396575\n",
       "01.11.2020    -0.005733   604.310553\n",
       "01.12.2020    -0.007822   658.046822\n",
       "01.01.2021    -0.008901   763.331385\n",
       "01.02.2021    -0.008852   856.933252"
      ]
     },
     "execution_count": 173,
     "metadata": {},
     "output_type": "execute_result"
    }
   ],
   "source": [
    "# Forecast\n",
    "od=1  #order of difference to make it stationary\n",
    "fc = model_fitted.forecast(y=forecast_input, steps=nobs)\n",
    "df_forecast = pd.DataFrame(fc, index=df.index[-nobs:], columns=df.columns + '_'+str(od)+'d')\n",
    "df_forecast"
   ]
  },
  {
   "cell_type": "code",
   "execution_count": 174,
   "metadata": {},
   "outputs": [
    {
     "name": "stdout",
     "output_type": "stream",
     "text": [
      "            SONIA 1M_1d  SONIA 1M forecast  GDP_lag2 forecast\n",
      "Date                                                         \n",
      "01.09.2020    -0.000988           0.054955      544736.896010\n",
      "01.10.2020    -0.002358           0.052596      545525.292585\n",
      "01.11.2020    -0.005733           0.046864      546129.603138\n",
      "01.12.2020    -0.007822           0.039042      546787.649960\n",
      "01.01.2021    -0.008901           0.030141      547550.981345\n",
      "01.02.2021    -0.008852           0.021289      548407.914598\n"
     ]
    }
   ],
   "source": [
    "#INVERT TRANSFORMATION TO GET REAL FORECAST\n",
    "def invert(ori,diff_data):\n",
    "    last_val=ori[-1]\n",
    "    data=[]\n",
    "    for idx,i in enumerate(diff_data):\n",
    "        #print(idx,i+last_val)\n",
    "        last_val+=i\n",
    "        data.append(last_val)\n",
    "    #print(len(data))\n",
    "    return data\n",
    "\n",
    "def invert_transformation(df_train, df_forecast,df_diff, difference):\n",
    "    \"\"\"Revert back the differencing to get the forecast to original scale.\"\"\"\n",
    "    df_fc = df_forecast.copy()\n",
    "    columns = df_train.columns\n",
    "    for col in columns:\n",
    "        if difference==4:\n",
    "            df_fc[str(col)+\"_3d\"]=invert(list(df_diff[str(col)+\"difference3\"].values),list(df_fc[str(col)+\"_4d\"].values))\n",
    "            df_fc[str(col)+\"_2d\"]=invert(list(df_diff[str(col)+\"difference2\"].values),list(df_fc[str(col)+\"_3d\"].values))\n",
    "            df_fc[str(col)+\"_1d\"]=invert(list(df_diff[str(col)+\"difference1\"].values),list(df_fc[str(col)+\"_2d\"].values))\n",
    "            df_fc[str(col)+\" forecast\"]=invert(list(df_train[str(col)].values),list(df_fc[str(col)+\"_1d\"].values)) \n",
    "        if difference==3:\n",
    "            df_fc[str(col)+\"_2d\"]=invert(list(df_diff[str(col)+\"difference2\"].values),list(df_fc[str(col)+\"_3d\"].values))\n",
    "            df_fc[str(col)+\"_1d\"]=invert(list(df_diff[str(col)+\"difference1\"].values),list(df_fc[str(col)+\"_2d\"].values))\n",
    "            df_fc[str(col)+\" forecast\"]=invert(list(df_train[str(col)].values),list(df_fc[str(col)+\"_1d\"].values)) \n",
    "        # Roll back 2nd Diff\n",
    "        if difference==2:\n",
    "            df_fc[str(col)+'_1d'] = (df_train[col].iloc[-1]-df_train[col].iloc[-2]) + df_fc[str(col)+'_2d'].cumsum()\n",
    "            # Roll back 1st Diff\n",
    "            df_fc[str(col)+' forecast'] = df_train[col].iloc[-1] + df_fc[str(col)+'_1d'].cumsum()\n",
    "        elif difference==1:\n",
    "            df_fc[str(col)+' forecast'] = df_train[col].iloc[-1] + df_fc[str(col)+'_1d'].cumsum()\n",
    "        elif difference==0:\n",
    "            df_fc[str(col)+' forecast']=df_fc[str(col)+'_0d']\n",
    "    return df_fc\n",
    "\n",
    "\n",
    "\n",
    "df_results_all = invert_transformation(df_train, df_forecast,df_diff, od)\n",
    "df_results=copy.deepcopy(df_results_all)\n",
    "columns=df_results_all.columns\n",
    "for col in columns:\n",
    "    if len(col.split())==1:\n",
    "        df_results.drop(col,axis=1,inplace=True)\n",
    "print(df_results)\n",
    "# df_results.loc[:, ['rgnp_forecast', 'pgnp_forecast', 'ulc_forecast', 'gdfco_forecast',\n",
    "#                    'gdf_forecast', 'gdfim_forecast', 'gdfcf_forecast', 'gdfce_forecast']]"
   ]
  },
  {
   "cell_type": "code",
   "execution_count": 175,
   "metadata": {},
   "outputs": [
    {
     "data": {
      "image/png": "[encoded data removed]",
      "text/plain": [
       "<Figure size 1500x1500 with 2 Axes>"
      ]
     },
     "metadata": {
      "needs_background": "light"
     },
     "output_type": "display_data"
    }
   ],
   "source": [
    "#PLOT OF ACTUAL VS FORECAST\n",
    "\n",
    "fig, axes = plt.subplots(nrows=int(len(df.columns)/2), ncols=2, dpi=150, figsize=(10,10))\n",
    "for i, (col,ax) in enumerate(zip(df.columns, axes.flatten())):\n",
    "    df_results[col+' forecast'].plot(legend=True, ax=ax).autoscale(axis='x',tight=True)\n",
    "    df_test[col][-nobs:].plot(legend=True, ax=ax);\n",
    "    ax.set_title(col + \": Forecast vs Actuals\")\n",
    "    ax.xaxis.set_ticks_position('none')\n",
    "    ax.yaxis.set_ticks_position('none')\n",
    "    ax.spines[\"top\"].set_alpha(0)\n",
    "    ax.tick_params(labelsize=6)\n",
    "\n",
    "plt.tight_layout();"
   ]
  },
  {
   "cell_type": "code",
   "execution_count": 176,
   "metadata": {},
   "outputs": [
    {
     "name": "stdout",
     "output_type": "stream",
     "text": [
      "Forecast Accuracy of: SONIA 1M\n",
      "rmse :  0.0145\n",
      "Forecast Accuracy of: GDP_lag2\n",
      "rmse :  5236.5147\n"
     ]
    }
   ],
   "source": [
    "from statsmodels.tsa.stattools import acf\n",
    "def forecast_accuracy(forecast, actual):\n",
    "    \n",
    "    rmse = np.mean((forecast - actual)**2)**.5  # RMSE\n",
    "    return({'rmse':rmse})\n",
    "columns=df_train.columns\n",
    "for col in columns:\n",
    "    print('Forecast Accuracy of: '+str(col))\n",
    "    accuracy_prod = forecast_accuracy(df_results[str(col)+' forecast'].values, df_test[str(col)])\n",
    "    for k, v in accuracy_prod.items():\n",
    "        print(k, ': ', round(v,4))\n"
   ]
  },
  {
   "cell_type": "code",
   "execution_count": null,
   "metadata": {},
   "outputs": [],
   "source": []
  }
 ],
 "metadata": {
  "kernelspec": {
   "display_name": "Python 3",
   "language": "python",
   "name": "python3"
  },
  "language_info": {
   "codemirror_mode": {
    "name": "ipython",
    "version": 3
   },
   "file_extension": ".py",
   "mimetype": "text/x-python",
   "name": "python",
   "nbconvert_exporter": "python",
   "pygments_lexer": "ipython3",
   "version": "3.6.9"
  }
 },
 "nbformat": 4,
 "nbformat_minor": 2
}
